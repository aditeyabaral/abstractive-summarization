{
  "nbformat": 4,
  "nbformat_minor": 0,
  "metadata": {
    "colab": {
      "name": "summarize",
      "provenance": [],
      "collapsed_sections": [],
      "authorship_tag": "ABX9TyOfVtjcB6VdX7qhQR4UA1pM",
      "include_colab_link": true
    },
    "kernelspec": {
      "name": "python3",
      "display_name": "Python 3"
    }
  },
  "cells": [
    {
      "cell_type": "markdown",
      "metadata": {
        "id": "view-in-github",
        "colab_type": "text"
      },
      "source": [
        "<a href=\"https://colab.research.google.com/github/aditeyabaral/abstractive-summarization/blob/main/summarize.ipynb\" target=\"_parent\"><img src=\"https://colab.research.google.com/assets/colab-badge.svg\" alt=\"Open In Colab\"/></a>"
      ]
    },
    {
      "cell_type": "markdown",
      "metadata": {
        "id": "9zII8VL8t27G"
      },
      "source": [
        "# Importing Libraries"
      ]
    },
    {
      "cell_type": "code",
      "metadata": {
        "id": "eMSAQJ0pvOv1",
        "outputId": "4f19d952-90d2-4f63-e62b-05a3a45041a5",
        "colab": {
          "base_uri": "https://localhost:8080/",
          "height": 72
        }
      },
      "source": [
        "import nltk\n",
        "nltk.download(\"punkt\")"
      ],
      "execution_count": 1,
      "outputs": [
        {
          "output_type": "stream",
          "text": [
            "[nltk_data] Downloading package punkt to /root/nltk_data...\n",
            "[nltk_data]   Unzipping tokenizers/punkt.zip.\n"
          ],
          "name": "stdout"
        },
        {
          "output_type": "execute_result",
          "data": {
            "text/plain": [
              "True"
            ]
          },
          "metadata": {
            "tags": []
          },
          "execution_count": 1
        }
      ]
    },
    {
      "cell_type": "code",
      "metadata": {
        "id": "Hi8UIHCsm2gz"
      },
      "source": [
        "import logging\n",
        "logging.basicConfig(format=\"%(asctime)s : %(levelname)s : %(message)s\", level=logging.INFO)"
      ],
      "execution_count": 2,
      "outputs": []
    },
    {
      "cell_type": "code",
      "metadata": {
        "id": "PSZTQ31sq0Fo",
        "outputId": "370b1425-4e14-46b3-92a9-9c87bbed1a91",
        "colab": {
          "base_uri": "https://localhost:8080/",
          "height": 35
        }
      },
      "source": [
        "import numpy as np\n",
        "import pandas as pd\n",
        "import re\n",
        "import string\n",
        "from gensim.models import FastText\n",
        "from nltk.tokenize import word_tokenize, sent_tokenize\n",
        "from nltk.corpus import stopwords\n",
        "from sklearn.model_selection import train_test_split\n",
        "from tensorflow import keras\n",
        "from keras.preprocessing.text import Tokenizer \n",
        "from keras.preprocessing.sequence import pad_sequences\n",
        "from keras.layers import Input, LSTM, Embedding, Dense, Concatenate, TimeDistributed, Bidirectional\n",
        "from tensorflow.keras.models import Model\n",
        "from keras.utils.vis_utils import plot_model"
      ],
      "execution_count": 3,
      "outputs": [
        {
          "output_type": "stream",
          "text": [
            "2020-10-24 19:14:57,923 : INFO : 'pattern' package not found; tag filters are not available for English\n"
          ],
          "name": "stderr"
        }
      ]
    },
    {
      "cell_type": "code",
      "metadata": {
        "id": "tfhoOjgtq-n_",
        "outputId": "37679f7b-41a4-4c87-ac5b-168d5aa6abb7",
        "colab": {
          "base_uri": "https://localhost:8080/",
          "height": 72
        }
      },
      "source": [
        "!curl -L -O https://raw.githubusercontent.com/aditeyabaral/abstractive-summarization/main/data/bbc_news.csv"
      ],
      "execution_count": 4,
      "outputs": [
        {
          "output_type": "stream",
          "text": [
            "  % Total    % Received % Xferd  Average Speed   Time    Time     Time  Current\n",
            "                                 Dload  Upload   Total   Spent    Left  Speed\n",
            "100 7150k  100 7150k    0     0  15.0M      0 --:--:-- --:--:-- --:--:-- 15.0M\n"
          ],
          "name": "stdout"
        }
      ]
    },
    {
      "cell_type": "markdown",
      "metadata": {
        "id": "ylAiZOjet6B7"
      },
      "source": [
        "# Reading Dataset"
      ]
    },
    {
      "cell_type": "code",
      "metadata": {
        "id": "ax16JtDvrQ21",
        "outputId": "19e3fb52-5b24-42b9-b529-a2af37e58b3e",
        "colab": {
          "base_uri": "https://localhost:8080/",
          "height": 224
        }
      },
      "source": [
        "df = pd.read_csv(\"bbc_news.csv\")\n",
        "df.drop(columns=[\"Unnamed: 0\"], inplace=True)\n",
        "print(df.shape)\n",
        "df.head()"
      ],
      "execution_count": 5,
      "outputs": [
        {
          "output_type": "stream",
          "text": [
            "(2225, 2)\n"
          ],
          "name": "stdout"
        },
        {
          "output_type": "execute_result",
          "data": {
            "text/html": [
              "<div>\n",
              "<style scoped>\n",
              "    .dataframe tbody tr th:only-of-type {\n",
              "        vertical-align: middle;\n",
              "    }\n",
              "\n",
              "    .dataframe tbody tr th {\n",
              "        vertical-align: top;\n",
              "    }\n",
              "\n",
              "    .dataframe thead th {\n",
              "        text-align: right;\n",
              "    }\n",
              "</style>\n",
              "<table border=\"1\" class=\"dataframe\">\n",
              "  <thead>\n",
              "    <tr style=\"text-align: right;\">\n",
              "      <th></th>\n",
              "      <th>TEXT</th>\n",
              "      <th>SUMMARY</th>\n",
              "    </tr>\n",
              "  </thead>\n",
              "  <tbody>\n",
              "    <tr>\n",
              "      <th>0</th>\n",
              "      <td>Ad sales boost Time Warner profit\\n\\nQuarterly...</td>\n",
              "      <td>TimeWarner said fourth quarter sales rose 2% t...</td>\n",
              "    </tr>\n",
              "    <tr>\n",
              "      <th>1</th>\n",
              "      <td>Dollar gains on Greenspan speech\\n\\nThe dollar...</td>\n",
              "      <td>The dollar has hit its highest level against t...</td>\n",
              "    </tr>\n",
              "    <tr>\n",
              "      <th>2</th>\n",
              "      <td>Yukos unit buyer faces loan claim\\n\\nThe owner...</td>\n",
              "      <td>Yukos' owner Menatep Group says it will ask Ro...</td>\n",
              "    </tr>\n",
              "    <tr>\n",
              "      <th>3</th>\n",
              "      <td>High fuel prices hit BA's profits\\n\\nBritish A...</td>\n",
              "      <td>Rod Eddington, BA's chief executive, said the ...</td>\n",
              "    </tr>\n",
              "    <tr>\n",
              "      <th>4</th>\n",
              "      <td>Pernod takeover talk lifts Domecq\\n\\nShares in...</td>\n",
              "      <td>Pernod has reduced the debt it took on to fund...</td>\n",
              "    </tr>\n",
              "  </tbody>\n",
              "</table>\n",
              "</div>"
            ],
            "text/plain": [
              "                                                TEXT                                            SUMMARY\n",
              "0  Ad sales boost Time Warner profit\\n\\nQuarterly...  TimeWarner said fourth quarter sales rose 2% t...\n",
              "1  Dollar gains on Greenspan speech\\n\\nThe dollar...  The dollar has hit its highest level against t...\n",
              "2  Yukos unit buyer faces loan claim\\n\\nThe owner...  Yukos' owner Menatep Group says it will ask Ro...\n",
              "3  High fuel prices hit BA's profits\\n\\nBritish A...  Rod Eddington, BA's chief executive, said the ...\n",
              "4  Pernod takeover talk lifts Domecq\\n\\nShares in...  Pernod has reduced the debt it took on to fund..."
            ]
          },
          "metadata": {
            "tags": []
          },
          "execution_count": 5
        }
      ]
    },
    {
      "cell_type": "markdown",
      "metadata": {
        "id": "HcCQZgE4t9GW"
      },
      "source": [
        "# Preprocessing Data"
      ]
    },
    {
      "cell_type": "code",
      "metadata": {
        "id": "1hVOo-IAqIQp"
      },
      "source": [
        "def formatArticleHeader(text):\n",
        "  text = text.strip().split(\"\\n\\n\")\n",
        "  header = text[0] + \". \"\n",
        "  del text[0]\n",
        "  text[0] = header + text[0]\n",
        "  text = \"\\n\\n\".join(text)\n",
        "  return text"
      ],
      "execution_count": 6,
      "outputs": []
    },
    {
      "cell_type": "code",
      "metadata": {
        "id": "Iew5JvgErXw0"
      },
      "source": [
        "def cleanText(text):\n",
        "  contraction_mapping = {\"ain't\": \"is not\", \"aren't\": \"are not\",\"can't\": \"cannot\", \"'cause\": \"because\", \"could've\": \"could have\", \"couldn't\": \"could not\", \"didn't\": \"did not\", \"doesn't\": \"does not\", \"don't\": \"do not\", \"hadn't\": \"had not\", \"hasn't\": \"has not\", \"haven't\": \"have not\", \"he'd\": \"he would\",\"he'll\": \"he will\", \"he's\": \"he is\", \"how'd\": \"how did\", \"how'd'y\": \"how do you\", \"how'll\": \"how will\", \"how's\": \"how is\", \"I'd\": \"I would\", \"I'd've\": \"I would have\", \"I'll\": \"I will\", \"I'll've\": \"I will have\",\"I'm\": \"I am\", \"I've\": \"I have\", \"i'd\": \"i would\", \"i'd've\": \"i would have\", \"i'll\": \"i will\",  \"i'll've\": \"i will have\",\"i'm\": \"i am\", \"i've\": \"i have\", \"isn't\": \"is not\", \"it'd\": \"it would\", \"it'd've\": \"it would have\", \"it'll\": \"it will\", \"it'll've\": \"it will have\",\"it's\": \"it is\", \"let's\": \"let us\", \"ma'am\": \"madam\", \"mayn't\": \"may not\", \"might've\": \"might have\",\"mightn't\": \"might not\",\"mightn't've\": \"might not have\", \"must've\": \"must have\", \"mustn't\": \"must not\", \"mustn't've\": \"must not have\", \"needn't\": \"need not\", \"needn't've\": \"need not have\",\"o'clock\": \"of the clock\", \"oughtn't\": \"ought not\", \"oughtn't've\": \"ought not have\", \"shan't\": \"shall not\", \"sha'n't\": \"shall not\", \"shan't've\": \"shall not have\", \"she'd\": \"she would\", \"she'd've\": \"she would have\", \"she'll\": \"she will\", \"she'll've\": \"she will have\", \"she's\": \"she is\", \"should've\": \"should have\", \"shouldn't\": \"should not\", \"shouldn't've\": \"should not have\", \"so've\": \"so have\",\"so's\": \"so as\", \"this's\": \"this is\",\"that'd\": \"that would\", \"that'd've\": \"that would have\", \"that's\": \"that is\", \"there'd\": \"there would\", \"there'd've\": \"there would have\", \"there's\": \"there is\", \"here's\": \"here is\",\"they'd\": \"they would\", \"they'd've\": \"they would have\", \"they'll\": \"they will\", \"they'll've\": \"they will have\", \"they're\": \"they are\", \"they've\": \"they have\", \"to've\": \"to have\", \"wasn't\": \"was not\", \"we'd\": \"we would\", \"we'd've\": \"we would have\", \"we'll\": \"we will\", \"we'll've\": \"we will have\", \"we're\": \"we are\", \"we've\": \"we have\", \"weren't\": \"were not\", \"what'll\": \"what will\", \"what'll've\": \"what will have\", \"what're\": \"what are\", \"what's\": \"what is\", \"what've\": \"what have\", \"when's\": \"when is\", \"when've\": \"when have\", \"where'd\": \"where did\", \"where's\": \"where is\", \"where've\": \"where have\", \"who'll\": \"who will\", \"who'll've\": \"who will have\", \"who's\": \"who is\", \"who've\": \"who have\", \"why's\": \"why is\", \"why've\": \"why have\", \"will've\": \"will have\", \"won't\": \"will not\", \"won't've\": \"will not have\", \"would've\": \"would have\", \"wouldn't\": \"would not\", \"wouldn't've\": \"would not have\", \"y'all\": \"you all\", \"y'all'd\": \"you all would\",\"y'all'd've\": \"you all would have\",\"y'all're\": \"you all are\",\"y'all've\": \"you all have\", \"you'd\": \"you would\", \"you'd've\": \"you would have\", \"you'll\": \"you will\", \"you'll've\": \"you will have\", \"you're\": \"you are\", \"you've\": \"you have\"}\n",
        "  text = text.lower()\n",
        "  text = re.sub(\" +\", \" \", text)\n",
        "  text = re.sub(\"\\n+\", \" \", text)\n",
        "  text = \" \".join([contraction_mapping[w] if w in contraction_mapping else w for w in text.split()])\n",
        "  return text\n",
        "\n",
        "  # more preprocessing\n",
        "  text = re.sub(\"[^a-zA-Z0-9\\n]\", \" \", text)\n",
        "  text = re.sub(r'\\([^)]*\\)', '', text)\n",
        "  text = re.sub('\"','', text)\n",
        "  text = re.sub(r\"'s\\b\",\"\",text)\n",
        "  return text "
      ],
      "execution_count": 7,
      "outputs": []
    },
    {
      "cell_type": "code",
      "metadata": {
        "id": "8AelLqhPvJwz"
      },
      "source": [
        "df[\"TEXT\"] = df[\"TEXT\"].apply(lambda x: formatArticleHeader(x))\n",
        "df[\"TEXT\"] = df[\"TEXT\"].apply(lambda x: cleanText(x))\n",
        "df[\"SUMMARY\"] = df[\"SUMMARY\"].apply(lambda x: \"<START> \" + cleanText(x) + \"<END>\")"
      ],
      "execution_count": 8,
      "outputs": []
    },
    {
      "cell_type": "code",
      "metadata": {
        "id": "L3YFKx6ovhsa",
        "outputId": "62e0c5c7-1968-47ea-f6c7-95af91a57874",
        "colab": {
          "base_uri": "https://localhost:8080/",
          "height": 206
        }
      },
      "source": [
        "df.head()"
      ],
      "execution_count": 9,
      "outputs": [
        {
          "output_type": "execute_result",
          "data": {
            "text/html": [
              "<div>\n",
              "<style scoped>\n",
              "    .dataframe tbody tr th:only-of-type {\n",
              "        vertical-align: middle;\n",
              "    }\n",
              "\n",
              "    .dataframe tbody tr th {\n",
              "        vertical-align: top;\n",
              "    }\n",
              "\n",
              "    .dataframe thead th {\n",
              "        text-align: right;\n",
              "    }\n",
              "</style>\n",
              "<table border=\"1\" class=\"dataframe\">\n",
              "  <thead>\n",
              "    <tr style=\"text-align: right;\">\n",
              "      <th></th>\n",
              "      <th>TEXT</th>\n",
              "      <th>SUMMARY</th>\n",
              "    </tr>\n",
              "  </thead>\n",
              "  <tbody>\n",
              "    <tr>\n",
              "      <th>0</th>\n",
              "      <td>ad sales boost time warner profit. quarterly p...</td>\n",
              "      <td>&lt;START&gt; timewarner said fourth quarter sales r...</td>\n",
              "    </tr>\n",
              "    <tr>\n",
              "      <th>1</th>\n",
              "      <td>dollar gains on greenspan speech. the dollar h...</td>\n",
              "      <td>&lt;START&gt; the dollar has hit its highest level a...</td>\n",
              "    </tr>\n",
              "    <tr>\n",
              "      <th>2</th>\n",
              "      <td>yukos unit buyer faces loan claim. the owners ...</td>\n",
              "      <td>&lt;START&gt; yukos' owner menatep group says it wil...</td>\n",
              "    </tr>\n",
              "    <tr>\n",
              "      <th>3</th>\n",
              "      <td>high fuel prices hit ba's profits. british air...</td>\n",
              "      <td>&lt;START&gt; rod eddington, ba's chief executive, s...</td>\n",
              "    </tr>\n",
              "    <tr>\n",
              "      <th>4</th>\n",
              "      <td>pernod takeover talk lifts domecq. shares in u...</td>\n",
              "      <td>&lt;START&gt; pernod has reduced the debt it took on...</td>\n",
              "    </tr>\n",
              "  </tbody>\n",
              "</table>\n",
              "</div>"
            ],
            "text/plain": [
              "                                                TEXT                                            SUMMARY\n",
              "0  ad sales boost time warner profit. quarterly p...  <START> timewarner said fourth quarter sales r...\n",
              "1  dollar gains on greenspan speech. the dollar h...  <START> the dollar has hit its highest level a...\n",
              "2  yukos unit buyer faces loan claim. the owners ...  <START> yukos' owner menatep group says it wil...\n",
              "3  high fuel prices hit ba's profits. british air...  <START> rod eddington, ba's chief executive, s...\n",
              "4  pernod takeover talk lifts domecq. shares in u...  <START> pernod has reduced the debt it took on..."
            ]
          },
          "metadata": {
            "tags": []
          },
          "execution_count": 9
        }
      ]
    },
    {
      "cell_type": "markdown",
      "metadata": {
        "id": "AZPW_R7alV-g"
      },
      "source": [
        "# Training fastText"
      ]
    },
    {
      "cell_type": "code",
      "metadata": {
        "id": "03-Myx1Iha3M"
      },
      "source": [
        "X_words = list(map(word_tokenize, df[\"TEXT\"].values))\n",
        "y_words = list(map(word_tokenize, df[\"SUMMARY\"].values))"
      ],
      "execution_count": 10,
      "outputs": []
    },
    {
      "cell_type": "code",
      "metadata": {
        "id": "G25tmg6slY0m",
        "outputId": "af7df319-0482-4158-eee2-1e03e5616d7e",
        "colab": {
          "base_uri": "https://localhost:8080/",
          "height": 53
        }
      },
      "source": [
        "\"\"\"ft_model = FastText(min_count=1)\n",
        "ft_model.build_vocab(sentences=X_words+y_words)\n",
        "ft_model.train(sentences=X_words+y_words, total_examples=ft_model.corpus_count, epochs=10)\"\"\""
      ],
      "execution_count": 11,
      "outputs": [
        {
          "output_type": "execute_result",
          "data": {
            "application/vnd.google.colaboratory.intrinsic+json": {
              "type": "string"
            },
            "text/plain": [
              "'ft_model = FastText(min_count=1)\\nft_model.build_vocab(sentences=X_words+y_words)\\nft_model.train(sentences=X_words+y_words, total_examples=ft_model.corpus_count, epochs=10)'"
            ]
          },
          "metadata": {
            "tags": []
          },
          "execution_count": 11
        }
      ]
    },
    {
      "cell_type": "code",
      "metadata": {
        "id": "TkKmA5iNsspD"
      },
      "source": [
        "#word2embedding = {word:ft_model.wv.get_vector(word) for word in list(ft_model.wv.vocab)}"
      ],
      "execution_count": 12,
      "outputs": []
    },
    {
      "cell_type": "markdown",
      "metadata": {
        "id": "c6MvRwwPgklr"
      },
      "source": [
        "# Finding Sequence Parameters"
      ]
    },
    {
      "cell_type": "code",
      "metadata": {
        "id": "3xd3T3HxiglM"
      },
      "source": [
        "X_text = df[\"TEXT\"].values\n",
        "y_text = df[\"SUMMARY\"].values"
      ],
      "execution_count": 13,
      "outputs": []
    },
    {
      "cell_type": "code",
      "metadata": {
        "id": "9-V9iPCYeJLm",
        "outputId": "ae52d5b7-92d3-48a5-866d-6c4a744e2ebb",
        "colab": {
          "base_uri": "https://localhost:8080/",
          "height": 53
        }
      },
      "source": [
        "Tx = len(max(X_words, key=len))\n",
        "Ty = len(max(y_words, key=len))\n",
        "print(f\"Tx = {Tx}\\nTy = {Ty}\")"
      ],
      "execution_count": 14,
      "outputs": [
        {
          "output_type": "stream",
          "text": [
            "Tx = 4966\n",
            "Ty = 2229\n"
          ],
          "name": "stdout"
        }
      ]
    },
    {
      "cell_type": "code",
      "metadata": {
        "id": "BpU9FeI_i5wE",
        "outputId": "6caae104-b999-472f-c520-e9f710bf3735",
        "colab": {
          "base_uri": "https://localhost:8080/",
          "height": 53
        }
      },
      "source": [
        "tokenizer_X = Tokenizer()\n",
        "tokenizer_X.fit_on_texts(list(X_text))\n",
        "X_seq = tokenizer_X.texts_to_sequences(X_text)\n",
        "X_seq = pad_sequences(X_seq,  maxlen=Tx, padding='post') \n",
        "vocab_size_X = len(tokenizer_X.word_index) + 1 \n",
        "\n",
        "tokenizer_y = Tokenizer()\n",
        "tokenizer_y.fit_on_texts(list(y_text))\n",
        "y_seq = tokenizer_y.texts_to_sequences(y_text)\n",
        "y_seq = pad_sequences(y_seq,  maxlen=Ty, padding='post') \n",
        "vocab_size_y = len(tokenizer_y.word_index) + 1 \n",
        "\n",
        "print(f\"Vocabulary Size of X = {vocab_size_X}\\nVocabulary Size of y = {vocab_size_y}\")"
      ],
      "execution_count": 15,
      "outputs": [
        {
          "output_type": "stream",
          "text": [
            "Vocabulary Size of X = 32347\n",
            "Vocabulary Size of y = 21816\n"
          ],
          "name": "stdout"
        }
      ]
    },
    {
      "cell_type": "markdown",
      "metadata": {
        "id": "FLD1y02JsQVi"
      },
      "source": [
        "# Creating Sequences"
      ]
    },
    {
      "cell_type": "code",
      "metadata": {
        "id": "xd7JkQfDzmTq"
      },
      "source": [
        "X = np.zeros((df.shape[0], Tx, vocab_size_X))\n",
        "y = np.zeros((df.shape[0], Ty, vocab_size_y))\n",
        "target = np.zeros((df.shape[0], Ty, vocab_size_y))\n",
        "\n",
        "for row in range(X_seq.shape[0]):\n",
        "  for idx, val in enumerate(X_seq[row]):\n",
        "    X[row, idx, val] = 1\n",
        "  for idx, val in enumerate(y_seq[row]):\n",
        "    y[row, idx, val] = 1\n",
        "    if idx > 0:\n",
        "      target[row, idx-1, val] = 1\n",
        "\n",
        "X.shape, y.shape, target.shape"
      ],
      "execution_count": null,
      "outputs": []
    },
    {
      "cell_type": "code",
      "metadata": {
        "id": "641jZljEhLD_"
      },
      "source": [
        "'''X_train, X_test, y_train, y_test = train_test_split(X, y, test_size=0.33, random_state=42)\n",
        "X_train.shape, X_test.shape, y_train.shape, y_test.shape'''"
      ],
      "execution_count": null,
      "outputs": []
    },
    {
      "cell_type": "markdown",
      "metadata": {
        "id": "66T3f7P7kpJu"
      },
      "source": [
        "# Building Model"
      ]
    },
    {
      "cell_type": "code",
      "metadata": {
        "id": "TDL0OBtulCtG"
      },
      "source": [
        "def createModel(X, y, Tx, Ty, X_vocab_size, y_vocab_size, dim=512):\n",
        "  #encoder\n",
        "  encoder_input = Input(shape=(Tx, X_vocab_size))\n",
        "\n",
        "  encoder_LSTM_1 = LSTM(512, return_state=True, return_sequences=True)\n",
        "  encoder_out_1, hidden_state_1, cell_state_1 = encoder_LSTM_1(encoder_input)\n",
        "\n",
        "  encoder_LSTM_2 = LSTM(256, return_state=True, return_sequences=True)\n",
        "  encoder_out_2, hidden_state_2, cell_state_2 = encoder_LSTM_2(encoder_out_1)\n",
        "\n",
        "  encoder_LSTM_3 = LSTM(128, return_state=True)\n",
        "  encoder_out_3, hidden_state_3, cell_state_3 = encoder_LSTM_3(encoder_out_2)\n",
        "\n",
        "  encoder_states = [hidden_state_3, cell_state_3]\n",
        "\n",
        "  #decoder\n",
        "  decoder_input = Input(shape=(Ty, y_vocab_size))\n",
        "\n",
        "  decoder_LSTM = LSTM(128, return_state=True)\n",
        "  decoder_out_1, _, _ = decoder_LSTM(decoder_input, initial_state=encoder_states)\n",
        "\n",
        "  decoder_dense = (Dense(y_vocab_size, activation='softmax'))\n",
        "  decoder_output = decoder_dense(decoder_out_1)\n",
        "\n",
        "  model = Model([encoder_input, decoder_input], decoder_output)\n",
        "  model.compile(optimizer=\"adam\", loss=\"categorical_crossentropy\", metrics=[\"accuracy\"])\n",
        "  return model, encoder_input, encoder_states, decoder_input, decoder_LSTM, decoder_dense"
      ],
      "execution_count": null,
      "outputs": []
    },
    {
      "cell_type": "code",
      "metadata": {
        "id": "Y1CN1J8LsW9z"
      },
      "source": [
        "model, encoder_input, encoder_states, decoder_input, decoder_LSTM, decoder_dense = createModel(X, y, Tx, Ty, vocab_size_X, vocab_size_y, 512)\n",
        "plot_model(model, show_shapes=True)"
      ],
      "execution_count": null,
      "outputs": []
    },
    {
      "cell_type": "code",
      "metadata": {
        "id": "KWS8oyedv_6T"
      },
      "source": [
        "model.fit(x=[X, y], y=target, epochs=20, batch_size=128)"
      ],
      "execution_count": null,
      "outputs": []
    },
    {
      "cell_type": "code",
      "metadata": {
        "id": "_0gbvgI969Id"
      },
      "source": [
        ""
      ],
      "execution_count": null,
      "outputs": []
    }
  ]
}