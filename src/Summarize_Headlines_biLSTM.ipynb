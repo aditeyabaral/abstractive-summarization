{
  "nbformat": 4,
  "nbformat_minor": 0,
  "metadata": {
    "colab": {
      "name": "Summarize Headlines",
      "provenance": [],
      "collapsed_sections": [],
      "include_colab_link": true
    },
    "kernelspec": {
      "display_name": "Python 3",
      "language": "python",
      "name": "python3"
    },
    "language_info": {
      "codemirror_mode": {
        "name": "ipython",
        "version": 3
      },
      "file_extension": ".py",
      "mimetype": "text/x-python",
      "name": "python",
      "nbconvert_exporter": "python",
      "pygments_lexer": "ipython3",
      "version": "3.8.3"
    },
    "accelerator": "GPU"
  },
  "cells": [
    {
      "cell_type": "markdown",
      "metadata": {
        "id": "view-in-github",
        "colab_type": "text"
      },
      "source": [
        "<a href=\"https://colab.research.google.com/github/aditeyabaral/abstractive-summarization/blob/main/src/Summarize_Headlines_biLSTM.ipynb\" target=\"_parent\"><img src=\"https://colab.research.google.com/assets/colab-badge.svg\" alt=\"Open In Colab\"/></a>"
      ]
    },
    {
      "cell_type": "markdown",
      "metadata": {
        "id": "9zII8VL8t27G"
      },
      "source": [
        "# Importing Libraries"
      ]
    },
    {
      "cell_type": "code",
      "metadata": {
        "colab": {
          "base_uri": "https://localhost:8080/"
        },
        "id": "eMSAQJ0pvOv1",
        "outputId": "c11db1d3-b549-41bb-bdca-973e52573263"
      },
      "source": [
        "import nltk\n",
        "nltk.download(\"punkt\")"
      ],
      "execution_count": 1,
      "outputs": [
        {
          "output_type": "stream",
          "text": [
            "[nltk_data] Downloading package punkt to /root/nltk_data...\n",
            "[nltk_data]   Unzipping tokenizers/punkt.zip.\n"
          ],
          "name": "stdout"
        },
        {
          "output_type": "execute_result",
          "data": {
            "text/plain": [
              "True"
            ]
          },
          "metadata": {
            "tags": []
          },
          "execution_count": 1
        }
      ]
    },
    {
      "cell_type": "code",
      "metadata": {
        "id": "Hi8UIHCsm2gz"
      },
      "source": [
        "import logging\n",
        "logging.basicConfig(format=\"%(asctime)s : %(levelname)s : %(message)s\", level=logging.INFO)"
      ],
      "execution_count": 2,
      "outputs": []
    },
    {
      "cell_type": "code",
      "metadata": {
        "colab": {
          "base_uri": "https://localhost:8080/"
        },
        "id": "tfhoOjgtq-n_",
        "outputId": "3ad8b3ef-b0d0-40f8-b9c8-5082d0f5fcf5"
      },
      "source": [
        "!curl -L -O https://raw.githubusercontent.com/aditeyabaral/abstractive-summarization/main/data/news_summary_more.csv"
      ],
      "execution_count": 3,
      "outputs": [
        {
          "output_type": "stream",
          "text": [
            "  % Total    % Received % Xferd  Average Speed   Time    Time     Time  Current\n",
            "                                 Dload  Upload   Total   Spent    Left  Speed\n",
            "100 39.4M  100 39.4M    0     0  16.3M      0  0:00:02  0:00:02 --:--:-- 16.3M\n"
          ],
          "name": "stdout"
        }
      ]
    },
    {
      "cell_type": "code",
      "metadata": {
        "colab": {
          "base_uri": "https://localhost:8080/"
        },
        "id": "pFNYneClJZg1",
        "outputId": "5bbba8ce-6016-407e-8306-d7121e649cde"
      },
      "source": [
        "!curl -L -O https://raw.githubusercontent.com/aditeyabaral/abstractive-summarization/main/src/attention.py"
      ],
      "execution_count": 4,
      "outputs": [
        {
          "output_type": "stream",
          "text": [
            "  % Total    % Received % Xferd  Average Speed   Time    Time     Time  Current\n",
            "                                 Dload  Upload   Total   Spent    Left  Speed\n",
            "100  5230  100  5230    0     0  28423      0 --:--:-- --:--:-- --:--:-- 28423\n"
          ],
          "name": "stdout"
        }
      ]
    },
    {
      "cell_type": "code",
      "metadata": {
        "colab": {
          "base_uri": "https://localhost:8080/"
        },
        "id": "PSZTQ31sq0Fo",
        "outputId": "1847a92a-be48-4486-9097-764738a7daa6"
      },
      "source": [
        "import numpy as np\n",
        "import pandas as pd\n",
        "import re\n",
        "import string\n",
        "from google.colab import files\n",
        "from gensim.models import FastText\n",
        "from nltk.tokenize import word_tokenize, sent_tokenize\n",
        "from nltk.corpus import stopwords\n",
        "import matplotlib.pyplot as plt\n",
        "from sklearn.model_selection import train_test_split\n",
        "from tensorflow import keras\n",
        "from keras.preprocessing.text import Tokenizer \n",
        "from keras.preprocessing.sequence import pad_sequences\n",
        "from keras.layers import Input, LSTM, Embedding, Dense, Concatenate, TimeDistributed, Bidirectional\n",
        "from tensorflow.keras.models import Model\n",
        "from keras.utils.vis_utils import plot_model\n",
        "import attention\n",
        "from attention import AttentionLayer"
      ],
      "execution_count": 5,
      "outputs": [
        {
          "output_type": "stream",
          "text": [
            "2020-11-24 12:11:11,076 : INFO : 'pattern' package not found; tag filters are not available for English\n"
          ],
          "name": "stderr"
        }
      ]
    },
    {
      "cell_type": "markdown",
      "metadata": {
        "id": "ylAiZOjet6B7"
      },
      "source": [
        "# Reading Dataset"
      ]
    },
    {
      "cell_type": "code",
      "metadata": {
        "colab": {
          "base_uri": "https://localhost:8080/",
          "height": 224
        },
        "id": "ax16JtDvrQ21",
        "outputId": "b2aa204c-f711-4dbb-a909-c0225d592b59"
      },
      "source": [
        "df = pd.read_csv(\"news_summary_more.csv\")\n",
        "# df.drop(columns=[\"Unnamed: 0\"], inplace=True)\n",
        "print(df.shape)\n",
        "df.head()"
      ],
      "execution_count": 6,
      "outputs": [
        {
          "output_type": "stream",
          "text": [
            "(98401, 2)\n"
          ],
          "name": "stdout"
        },
        {
          "output_type": "execute_result",
          "data": {
            "text/html": [
              "<div>\n",
              "<style scoped>\n",
              "    .dataframe tbody tr th:only-of-type {\n",
              "        vertical-align: middle;\n",
              "    }\n",
              "\n",
              "    .dataframe tbody tr th {\n",
              "        vertical-align: top;\n",
              "    }\n",
              "\n",
              "    .dataframe thead th {\n",
              "        text-align: right;\n",
              "    }\n",
              "</style>\n",
              "<table border=\"1\" class=\"dataframe\">\n",
              "  <thead>\n",
              "    <tr style=\"text-align: right;\">\n",
              "      <th></th>\n",
              "      <th>headlines</th>\n",
              "      <th>text</th>\n",
              "    </tr>\n",
              "  </thead>\n",
              "  <tbody>\n",
              "    <tr>\n",
              "      <th>0</th>\n",
              "      <td>upGrad learner switches to career in ML &amp; Al w...</td>\n",
              "      <td>Saurav Kant, an alumnus of upGrad and IIIT-B's...</td>\n",
              "    </tr>\n",
              "    <tr>\n",
              "      <th>1</th>\n",
              "      <td>Delhi techie wins free food from Swiggy for on...</td>\n",
              "      <td>Kunal Shah's credit card bill payment platform...</td>\n",
              "    </tr>\n",
              "    <tr>\n",
              "      <th>2</th>\n",
              "      <td>New Zealand end Rohit Sharma-led India's 12-ma...</td>\n",
              "      <td>New Zealand defeated India by 8 wickets in the...</td>\n",
              "    </tr>\n",
              "    <tr>\n",
              "      <th>3</th>\n",
              "      <td>Aegon life iTerm insurance plan helps customer...</td>\n",
              "      <td>With Aegon Life iTerm Insurance plan, customer...</td>\n",
              "    </tr>\n",
              "    <tr>\n",
              "      <th>4</th>\n",
              "      <td>Have known Hirani for yrs, what if MeToo claim...</td>\n",
              "      <td>Speaking about the sexual harassment allegatio...</td>\n",
              "    </tr>\n",
              "  </tbody>\n",
              "</table>\n",
              "</div>"
            ],
            "text/plain": [
              "                                           headlines                                               text\n",
              "0  upGrad learner switches to career in ML & Al w...  Saurav Kant, an alumnus of upGrad and IIIT-B's...\n",
              "1  Delhi techie wins free food from Swiggy for on...  Kunal Shah's credit card bill payment platform...\n",
              "2  New Zealand end Rohit Sharma-led India's 12-ma...  New Zealand defeated India by 8 wickets in the...\n",
              "3  Aegon life iTerm insurance plan helps customer...  With Aegon Life iTerm Insurance plan, customer...\n",
              "4  Have known Hirani for yrs, what if MeToo claim...  Speaking about the sexual harassment allegatio..."
            ]
          },
          "metadata": {
            "tags": []
          },
          "execution_count": 6
        }
      ]
    },
    {
      "cell_type": "markdown",
      "metadata": {
        "id": "HcCQZgE4t9GW"
      },
      "source": [
        "# Preprocessing Data"
      ]
    },
    {
      "cell_type": "code",
      "metadata": {
        "id": "1hVOo-IAqIQp"
      },
      "source": [
        "def formatArticleHeader(text):\n",
        "  text = text.strip().split(\"\\n\\n\")\n",
        "  header = text[0] + \". \"\n",
        "  del text[0]\n",
        "  #text[0] = header + text[0]\n",
        "  text = \"\\n\\n\".join(text)\n",
        "  return text"
      ],
      "execution_count": 7,
      "outputs": []
    },
    {
      "cell_type": "code",
      "metadata": {
        "id": "Iew5JvgErXw0"
      },
      "source": [
        "def cleanText(text):\n",
        "  contraction_mapping = {\"ain't\": \"is not\", \"aren't\": \"are not\",\"can't\": \"cannot\", \"'cause\": \"because\", \"could've\": \"could have\", \"couldn't\": \"could not\", \"didn't\": \"did not\", \"doesn't\": \"does not\", \"don't\": \"do not\", \"hadn't\": \"had not\", \"hasn't\": \"has not\", \"haven't\": \"have not\", \"he'd\": \"he would\",\"he'll\": \"he will\", \"he's\": \"he is\", \"how'd\": \"how did\", \"how'd'y\": \"how do you\", \"how'll\": \"how will\", \"how's\": \"how is\", \"I'd\": \"I would\", \"I'd've\": \"I would have\", \"I'll\": \"I will\", \"I'll've\": \"I will have\",\"I'm\": \"I am\", \"I've\": \"I have\", \"i'd\": \"i would\", \"i'd've\": \"i would have\", \"i'll\": \"i will\",  \"i'll've\": \"i will have\",\"i'm\": \"i am\", \"i've\": \"i have\", \"isn't\": \"is not\", \"it'd\": \"it would\", \"it'd've\": \"it would have\", \"it'll\": \"it will\", \"it'll've\": \"it will have\",\"it's\": \"it is\", \"let's\": \"let us\", \"ma'am\": \"madam\", \"mayn't\": \"may not\", \"might've\": \"might have\",\"mightn't\": \"might not\",\"mightn't've\": \"might not have\", \"must've\": \"must have\", \"mustn't\": \"must not\", \"mustn't've\": \"must not have\", \"needn't\": \"need not\", \"needn't've\": \"need not have\",\"o'clock\": \"of the clock\", \"oughtn't\": \"ought not\", \"oughtn't've\": \"ought not have\", \"shan't\": \"shall not\", \"sha'n't\": \"shall not\", \"shan't've\": \"shall not have\", \"she'd\": \"she would\", \"she'd've\": \"she would have\", \"she'll\": \"she will\", \"she'll've\": \"she will have\", \"she's\": \"she is\", \"should've\": \"should have\", \"shouldn't\": \"should not\", \"shouldn't've\": \"should not have\", \"so've\": \"so have\",\"so's\": \"so as\", \"this's\": \"this is\",\"that'd\": \"that would\", \"that'd've\": \"that would have\", \"that's\": \"that is\", \"there'd\": \"there would\", \"there'd've\": \"there would have\", \"there's\": \"there is\", \"here's\": \"here is\",\"they'd\": \"they would\", \"they'd've\": \"they would have\", \"they'll\": \"they will\", \"they'll've\": \"they will have\", \"they're\": \"they are\", \"they've\": \"they have\", \"to've\": \"to have\", \"wasn't\": \"was not\", \"we'd\": \"we would\", \"we'd've\": \"we would have\", \"we'll\": \"we will\", \"we'll've\": \"we will have\", \"we're\": \"we are\", \"we've\": \"we have\", \"weren't\": \"were not\", \"what'll\": \"what will\", \"what'll've\": \"what will have\", \"what're\": \"what are\", \"what's\": \"what is\", \"what've\": \"what have\", \"when's\": \"when is\", \"when've\": \"when have\", \"where'd\": \"where did\", \"where's\": \"where is\", \"where've\": \"where have\", \"who'll\": \"who will\", \"who'll've\": \"who will have\", \"who's\": \"who is\", \"who've\": \"who have\", \"why's\": \"why is\", \"why've\": \"why have\", \"will've\": \"will have\", \"won't\": \"will not\", \"won't've\": \"will not have\", \"would've\": \"would have\", \"wouldn't\": \"would not\", \"wouldn't've\": \"would not have\", \"y'all\": \"you all\", \"y'all'd\": \"you all would\",\"y'all'd've\": \"you all would have\",\"y'all're\": \"you all are\",\"y'all've\": \"you all have\", \"you'd\": \"you would\", \"you'd've\": \"you would have\", \"you'll\": \"you will\", \"you'll've\": \"you will have\", \"you're\": \"you are\", \"you've\": \"you have\"}\n",
        "  text = text.lower()\n",
        "  text = re.sub(\" +\", \" \", text)\n",
        "  text = re.sub(\"\\n+\", \" \", text)\n",
        "  text = \" \".join([contraction_mapping[w] if w in contraction_mapping else w for w in text.split()])\n",
        "  return text\n",
        "\n",
        "  # more preprocessing\n",
        "  text = re.sub(\"[^a-zA-Z0-9\\n]\", \" \", text)\n",
        "  text = re.sub(r'\\([^)]*\\)', '', text)\n",
        "  text = re.sub('\"','', text)\n",
        "  text = re.sub(r\"'s\\b\",\"\",text)\n",
        "  return text "
      ],
      "execution_count": 8,
      "outputs": []
    },
    {
      "cell_type": "code",
      "metadata": {
        "id": "8AelLqhPvJwz"
      },
      "source": [
        "# df[\"text\"] = df[\"text\"].apply(lambda x: formatArticleHeader(x))\n",
        "df[\"text\"] = df[\"text\"].apply(lambda x: cleanText(x))\n",
        "df[\"headlines\"] = df[\"headlines\"].apply(lambda x: \"<START> \" + cleanText(x) + \" <END>\")"
      ],
      "execution_count": 9,
      "outputs": []
    },
    {
      "cell_type": "code",
      "metadata": {
        "colab": {
          "base_uri": "https://localhost:8080/",
          "height": 206
        },
        "id": "L3YFKx6ovhsa",
        "outputId": "218e1160-710b-4fca-f8ad-dd7f2ae3c509"
      },
      "source": [
        "df.head()"
      ],
      "execution_count": 10,
      "outputs": [
        {
          "output_type": "execute_result",
          "data": {
            "text/html": [
              "<div>\n",
              "<style scoped>\n",
              "    .dataframe tbody tr th:only-of-type {\n",
              "        vertical-align: middle;\n",
              "    }\n",
              "\n",
              "    .dataframe tbody tr th {\n",
              "        vertical-align: top;\n",
              "    }\n",
              "\n",
              "    .dataframe thead th {\n",
              "        text-align: right;\n",
              "    }\n",
              "</style>\n",
              "<table border=\"1\" class=\"dataframe\">\n",
              "  <thead>\n",
              "    <tr style=\"text-align: right;\">\n",
              "      <th></th>\n",
              "      <th>headlines</th>\n",
              "      <th>text</th>\n",
              "    </tr>\n",
              "  </thead>\n",
              "  <tbody>\n",
              "    <tr>\n",
              "      <th>0</th>\n",
              "      <td>&lt;START&gt; upgrad learner switches to career in m...</td>\n",
              "      <td>saurav kant, an alumnus of upgrad and iiit-b's...</td>\n",
              "    </tr>\n",
              "    <tr>\n",
              "      <th>1</th>\n",
              "      <td>&lt;START&gt; delhi techie wins free food from swigg...</td>\n",
              "      <td>kunal shah's credit card bill payment platform...</td>\n",
              "    </tr>\n",
              "    <tr>\n",
              "      <th>2</th>\n",
              "      <td>&lt;START&gt; new zealand end rohit sharma-led india...</td>\n",
              "      <td>new zealand defeated india by 8 wickets in the...</td>\n",
              "    </tr>\n",
              "    <tr>\n",
              "      <th>3</th>\n",
              "      <td>&lt;START&gt; aegon life iterm insurance plan helps ...</td>\n",
              "      <td>with aegon life iterm insurance plan, customer...</td>\n",
              "    </tr>\n",
              "    <tr>\n",
              "      <th>4</th>\n",
              "      <td>&lt;START&gt; have known hirani for yrs, what if met...</td>\n",
              "      <td>speaking about the sexual harassment allegatio...</td>\n",
              "    </tr>\n",
              "  </tbody>\n",
              "</table>\n",
              "</div>"
            ],
            "text/plain": [
              "                                           headlines                                               text\n",
              "0  <START> upgrad learner switches to career in m...  saurav kant, an alumnus of upgrad and iiit-b's...\n",
              "1  <START> delhi techie wins free food from swigg...  kunal shah's credit card bill payment platform...\n",
              "2  <START> new zealand end rohit sharma-led india...  new zealand defeated india by 8 wickets in the...\n",
              "3  <START> aegon life iterm insurance plan helps ...  with aegon life iterm insurance plan, customer...\n",
              "4  <START> have known hirani for yrs, what if met...  speaking about the sexual harassment allegatio..."
            ]
          },
          "metadata": {
            "tags": []
          },
          "execution_count": 10
        }
      ]
    },
    {
      "cell_type": "markdown",
      "metadata": {
        "id": "AZPW_R7alV-g"
      },
      "source": [
        "# Training fastText"
      ]
    },
    {
      "cell_type": "code",
      "metadata": {
        "id": "03-Myx1Iha3M"
      },
      "source": [
        "X_words = list(map(word_tokenize, df[\"text\"].values))\n",
        "y_words = list(map(word_tokenize, df[\"headlines\"].values))"
      ],
      "execution_count": 11,
      "outputs": []
    },
    {
      "cell_type": "code",
      "metadata": {
        "id": "G25tmg6slY0m",
        "colab": {
          "base_uri": "https://localhost:8080/",
          "height": 54
        },
        "outputId": "e91e47ed-f3e3-4c1a-ff77-64515719dd2b"
      },
      "source": [
        "\"\"\"ft_model = FastText(min_count=1)\n",
        "ft_model.build_vocab(sentences=X_words+y_words)\n",
        "ft_model.train(sentences=X_words+y_words, total_examples=ft_model.corpus_count, epochs=10)\"\"\""
      ],
      "execution_count": 12,
      "outputs": [
        {
          "output_type": "execute_result",
          "data": {
            "application/vnd.google.colaboratory.intrinsic+json": {
              "type": "string"
            },
            "text/plain": [
              "'ft_model = FastText(min_count=1)\\nft_model.build_vocab(sentences=X_words+y_words)\\nft_model.train(sentences=X_words+y_words, total_examples=ft_model.corpus_count, epochs=10)'"
            ]
          },
          "metadata": {
            "tags": []
          },
          "execution_count": 12
        }
      ]
    },
    {
      "cell_type": "code",
      "metadata": {
        "id": "TkKmA5iNsspD"
      },
      "source": [
        "#word2embedding = {word:ft_model.wv.get_vector(word) for word in list(ft_model.wv.vocab)}"
      ],
      "execution_count": 13,
      "outputs": []
    },
    {
      "cell_type": "markdown",
      "metadata": {
        "id": "c6MvRwwPgklr"
      },
      "source": [
        "# Finding Sequence Parameters"
      ]
    },
    {
      "cell_type": "code",
      "metadata": {
        "id": "3xd3T3HxiglM"
      },
      "source": [
        "X_text = df[\"text\"].values\n",
        "y_text = df[\"headlines\"].values"
      ],
      "execution_count": 14,
      "outputs": []
    },
    {
      "cell_type": "code",
      "metadata": {
        "id": "9-V9iPCYeJLm",
        "colab": {
          "base_uri": "https://localhost:8080/"
        },
        "outputId": "df31e9b3-fdd1-4200-ee83-789c3a2effac"
      },
      "source": [
        "Tx = len(max(X_words, key=len))\n",
        "Ty = len(max(y_words, key=len))\n",
        "print(f\"Tx = {Tx}\\nTy = {Ty}\")"
      ],
      "execution_count": 15,
      "outputs": [
        {
          "output_type": "stream",
          "text": [
            "Tx = 98\n",
            "Ty = 26\n"
          ],
          "name": "stdout"
        }
      ]
    },
    {
      "cell_type": "code",
      "metadata": {
        "id": "BpU9FeI_i5wE"
      },
      "source": [
        "tokenizer_X = Tokenizer()\n",
        "tokenizer_X.fit_on_texts(list(X_text))\n",
        "X_seq = tokenizer_X.texts_to_sequences(X_text)\n",
        "X_seq = pad_sequences(X_seq,  maxlen=Tx, padding='post') \n",
        "vocab_size_X = len(tokenizer_X.word_index) + 1 \n",
        "\n",
        "tokenizer_y = Tokenizer()\n",
        "tokenizer_y.fit_on_texts(list(y_text))\n",
        "y_seq = tokenizer_y.texts_to_sequences(y_text)\n",
        "y_seq = pad_sequences(y_seq,  maxlen=Ty, padding='post') \n",
        "vocab_size_y = len(tokenizer_y.word_index) + 1 \n",
        "\n",
        "print(f\"Vocabulary Size of X = {vocab_size_X}\\nVocabulary Size of y = {vocab_size_y}\")"
      ],
      "execution_count": null,
      "outputs": []
    },
    {
      "cell_type": "code",
      "metadata": {
        "id": "m4EQDuQPL_mw"
      },
      "source": [
        "X_seq.shape, y_seq.shape"
      ],
      "execution_count": null,
      "outputs": []
    },
    {
      "cell_type": "markdown",
      "metadata": {
        "id": "FLD1y02JsQVi"
      },
      "source": [
        "# Creating Sequences"
      ]
    },
    {
      "cell_type": "code",
      "metadata": {
        "id": "641jZljEhLD_"
      },
      "source": [
        "X_train, X_test, y_train, y_test = train_test_split(X_seq, y_seq, test_size=0.05, random_state=42)\n",
        "X_train.shape, X_test.shape, y_train.shape, y_test.shape"
      ],
      "execution_count": null,
      "outputs": []
    },
    {
      "cell_type": "markdown",
      "metadata": {
        "id": "66T3f7P7kpJu"
      },
      "source": [
        "# Building Model"
      ]
    },
    {
      "cell_type": "code",
      "metadata": {
        "id": "aBGpdXPad3IQ"
      },
      "source": [
        "latent_dim=512"
      ],
      "execution_count": null,
      "outputs": []
    },
    {
      "cell_type": "code",
      "metadata": {
        "id": "TDL0OBtulCtG"
      },
      "source": [
        "#encoder\n",
        "encoder_input = Input(shape=(Tx, ))\n",
        "  \n",
        "encoder_embedding =  Embedding(vocab_size_X, 100, trainable=True)(encoder_input)\n",
        "\n",
        "encoder_LSTM_1 = Bidirectional(LSTM(latent_dim, return_state=True, return_sequences=True))\n",
        "encoder_output, forward_h, forward_c, backward_h, backward_c = encoder_LSTM_1(encoder_embedding)\n",
        "\n",
        "encoder_LSTM_2 = Bidirectional(LSTM(latent_dim, return_state=True, return_sequences=True))\n",
        "encoder_output, forward_h, forward_c, backward_h, backward_c = encoder_LSTM_2(encoder_output)\n",
        "\n",
        "state_h = Concatenate()([forward_h, backward_h])\n",
        "state_c = Concatenate()([forward_c, backward_c])\n",
        "encoder_states = [state_h, state_c]\n",
        "\n",
        "# encoder_states = [hidden_state_3, cell_state_3] # uni-lstm\n",
        "\n",
        "#decoder\n",
        "decoder_input = Input(shape=(None, ))\n",
        "  \n",
        "decoder_embedding = Embedding(vocab_size_y, 100, trainable=True)(decoder_input)\n",
        "\n",
        "decoder_LSTM_1 = LSTM(2*latent_dim, return_state=True, return_sequences=True)\n",
        "decoder_output, _, _ = decoder_LSTM_1(decoder_embedding, initial_state=encoder_states)\n",
        "\n",
        "decoder_LSTM_2 = LSTM(latent_dim, return_state=True, return_sequences=True)\n",
        "decoder_output, _, _ = decoder_LSTM_2(decoder_output)\n",
        "\n",
        "# attention\n",
        "attention_layer = AttentionLayer()\n",
        "attention_output, attention_states = attention_layer([encoder_output, decoder_output])\n",
        "decoder_concat = Concatenate(axis=-1)([decoder_output, attention_output])\n",
        "\n",
        "decoder_dense = TimeDistributed(Dense(vocab_size_y, activation='softmax'))\n",
        "decoder_output = decoder_dense(decoder_concat)\n",
        "\n",
        "model = Model([encoder_input, decoder_input], decoder_output)\n",
        "model.compile(optimizer=\"adam\", loss=\"sparse_categorical_crossentropy\", metrics=[\"accuracy\"])\n",
        "plot_model(model, show_shapes=True)"
      ],
      "execution_count": null,
      "outputs": []
    },
    {
      "cell_type": "code",
      "metadata": {
        "id": "5MvxEcXMJR2O"
      },
      "source": [
        "history = model.fit(\n",
        "    [X_train, y_train[:,:-1]], \n",
        "    y_train.reshape(y_train.shape[0],y_train.shape[1], 1)[:,1:],\n",
        "    epochs=10,\n",
        "    batch_size=128, \n",
        "    validation_data=([X_test, y_test[:,:-1]], y_test.reshape(y_test.shape[0],y_test.shape[1], 1)[:,1:])\n",
        "    )"
      ],
      "execution_count": null,
      "outputs": []
    },
    {
      "cell_type": "code",
      "metadata": {
        "id": "9jeLhT7tJR2P"
      },
      "source": [
        "plt.plot(history.history['loss'], label='train')\n",
        "plt.plot(history.history['val_loss'], label='test')\n",
        "plt.legend()\n",
        "plt.show()"
      ],
      "execution_count": null,
      "outputs": []
    },
    {
      "cell_type": "code",
      "metadata": {
        "id": "wN_Pv_9-WrZx"
      },
      "source": [
        "model.save(\"headlines_model.h5\")\n",
        "files.download(\"headlines_model.h5\")"
      ],
      "execution_count": null,
      "outputs": []
    }
  ]
}