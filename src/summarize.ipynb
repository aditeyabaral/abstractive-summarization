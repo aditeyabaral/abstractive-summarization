{
 "cells": [
  {
   "cell_type": "markdown",
   "metadata": {
    "colab_type": "text",
    "id": "view-in-github"
   },
   "source": [
    "<a href=\"https://colab.research.google.com/github/aditeyabaral/abstractive-summarization/blob/main/src/summarize.ipynb\" target=\"_parent\"><img src=\"https://colab.research.google.com/assets/colab-badge.svg\" alt=\"Open In Colab\"/></a>"
   ]
  },
  {
   "cell_type": "markdown",
   "metadata": {
    "id": "9zII8VL8t27G"
   },
   "source": [
    "# Importing Libraries"
   ]
  },
  {
   "cell_type": "code",
   "execution_count": 1,
   "metadata": {
    "colab": {
     "base_uri": "https://localhost:8080/",
     "height": 72
    },
    "id": "eMSAQJ0pvOv1",
    "outputId": "1ab5eb60-9a40-4e5d-8162-9e49d2a4f9ce"
   },
   "outputs": [
    {
     "name": "stderr",
     "output_type": "stream",
     "text": [
      "[nltk_data] Downloading package punkt to\n",
      "[nltk_data]     C:\\Users\\Aditeya\\AppData\\Roaming\\nltk_data...\n",
      "[nltk_data]   Package punkt is already up-to-date!\n"
     ]
    },
    {
     "data": {
      "text/plain": [
       "True"
      ]
     },
     "execution_count": 1,
     "metadata": {},
     "output_type": "execute_result"
    }
   ],
   "source": [
    "import nltk\n",
    "nltk.download(\"punkt\")"
   ]
  },
  {
   "cell_type": "code",
   "execution_count": 2,
   "metadata": {
    "id": "Hi8UIHCsm2gz"
   },
   "outputs": [],
   "source": [
    "import logging\n",
    "logging.basicConfig(format=\"%(asctime)s : %(levelname)s : %(message)s\", level=logging.INFO)"
   ]
  },
  {
   "cell_type": "code",
   "execution_count": 3,
   "metadata": {
    "colab": {
     "base_uri": "https://localhost:8080/",
     "height": 35
    },
    "id": "PSZTQ31sq0Fo",
    "outputId": "10e02be1-53e0-4048-93fd-c437067e0ae3"
   },
   "outputs": [],
   "source": [
    "import numpy as np\n",
    "import pandas as pd\n",
    "import re\n",
    "import string\n",
    "from gensim.models import FastText\n",
    "from nltk.tokenize import word_tokenize, sent_tokenize\n",
    "from nltk.corpus import stopwords\n",
    "from sklearn.model_selection import train_test_split\n",
    "from tensorflow import keras\n",
    "from keras.preprocessing.text import Tokenizer \n",
    "from keras.preprocessing.sequence import pad_sequences\n",
    "from keras.layers import Input, LSTM, Embedding, Dense, Concatenate, TimeDistributed, Bidirectional\n",
    "from tensorflow.keras.models import Model\n",
    "from keras.utils.vis_utils import plot_model\n",
    "import attention\n",
    "from attention import AttentionLayer"
   ]
  },
  {
   "cell_type": "code",
   "execution_count": 4,
   "metadata": {
    "colab": {
     "base_uri": "https://localhost:8080/",
     "height": 72
    },
    "id": "tfhoOjgtq-n_",
    "outputId": "f98478ec-a809-4e19-b726-68325b5e869b"
   },
   "outputs": [
    {
     "name": "stderr",
     "output_type": "stream",
     "text": [
      "  % Total    % Received % Xferd  Average Speed   Time    Time     Time  Current\n",
      "                                 Dload  Upload   Total   Spent    Left  Speed\n",
      "\n",
      "  0     0    0     0    0     0      0      0 --:--:-- --:--:-- --:--:--     0\n",
      "  0     0    0     0    0     0      0      0 --:--:-- --:--:-- --:--:--     0\n",
      "  4 7150k    4  343k    0     0   343k      0  0:00:20  0:00:01  0:00:19  296k\n",
      " 17 7150k   17 1271k    0     0   635k      0  0:00:11  0:00:02  0:00:09  589k\n",
      " 33 7150k   33 2391k    0     0   797k      0  0:00:08  0:00:03  0:00:05  757k\n",
      " 50 7150k   50 3591k    0     0   897k      0  0:00:07  0:00:04  0:00:03  863k\n",
      " 67 7150k   67 4807k    0     0   961k      0  0:00:07  0:00:05  0:00:02  967k\n",
      " 81 7150k   81 5799k    0     0   966k      0  0:00:07  0:00:06  0:00:01 1091k\n",
      " 96 7150k   96 6871k    0     0   981k      0  0:00:07  0:00:07 --:--:-- 1120k\n",
      "100 7150k  100 7150k    0     0  1021k      0  0:00:07  0:00:07 --:--:-- 1123k\n"
     ]
    }
   ],
   "source": [
    "!curl -L -O https://raw.githubusercontent.com/aditeyabaral/abstractive-summarization/main/data/bbc_news.csv"
   ]
  },
  {
   "cell_type": "markdown",
   "metadata": {
    "id": "ylAiZOjet6B7"
   },
   "source": [
    "# Reading Dataset"
   ]
  },
  {
   "cell_type": "code",
   "execution_count": 5,
   "metadata": {
    "colab": {
     "base_uri": "https://localhost:8080/",
     "height": 224
    },
    "id": "ax16JtDvrQ21",
    "outputId": "d1abb694-b31e-4a0a-b10f-d795e2c055e6"
   },
   "outputs": [
    {
     "name": "stdout",
     "output_type": "stream",
     "text": [
      "(2225, 2)\n"
     ]
    },
    {
     "data": {
      "text/html": [
       "<div>\n",
       "<style scoped>\n",
       "    .dataframe tbody tr th:only-of-type {\n",
       "        vertical-align: middle;\n",
       "    }\n",
       "\n",
       "    .dataframe tbody tr th {\n",
       "        vertical-align: top;\n",
       "    }\n",
       "\n",
       "    .dataframe thead th {\n",
       "        text-align: right;\n",
       "    }\n",
       "</style>\n",
       "<table border=\"1\" class=\"dataframe\">\n",
       "  <thead>\n",
       "    <tr style=\"text-align: right;\">\n",
       "      <th></th>\n",
       "      <th>TEXT</th>\n",
       "      <th>SUMMARY</th>\n",
       "    </tr>\n",
       "  </thead>\n",
       "  <tbody>\n",
       "    <tr>\n",
       "      <th>0</th>\n",
       "      <td>Ad sales boost Time Warner profit\\n\\nQuarterly...</td>\n",
       "      <td>TimeWarner said fourth quarter sales rose 2% t...</td>\n",
       "    </tr>\n",
       "    <tr>\n",
       "      <th>1</th>\n",
       "      <td>Dollar gains on Greenspan speech\\n\\nThe dollar...</td>\n",
       "      <td>The dollar has hit its highest level against t...</td>\n",
       "    </tr>\n",
       "    <tr>\n",
       "      <th>2</th>\n",
       "      <td>Yukos unit buyer faces loan claim\\n\\nThe owner...</td>\n",
       "      <td>Yukos' owner Menatep Group says it will ask Ro...</td>\n",
       "    </tr>\n",
       "    <tr>\n",
       "      <th>3</th>\n",
       "      <td>High fuel prices hit BA's profits\\n\\nBritish A...</td>\n",
       "      <td>Rod Eddington, BA's chief executive, said the ...</td>\n",
       "    </tr>\n",
       "    <tr>\n",
       "      <th>4</th>\n",
       "      <td>Pernod takeover talk lifts Domecq\\n\\nShares in...</td>\n",
       "      <td>Pernod has reduced the debt it took on to fund...</td>\n",
       "    </tr>\n",
       "  </tbody>\n",
       "</table>\n",
       "</div>"
      ],
      "text/plain": [
       "                                                TEXT  \\\n",
       "0  Ad sales boost Time Warner profit\\n\\nQuarterly...   \n",
       "1  Dollar gains on Greenspan speech\\n\\nThe dollar...   \n",
       "2  Yukos unit buyer faces loan claim\\n\\nThe owner...   \n",
       "3  High fuel prices hit BA's profits\\n\\nBritish A...   \n",
       "4  Pernod takeover talk lifts Domecq\\n\\nShares in...   \n",
       "\n",
       "                                             SUMMARY  \n",
       "0  TimeWarner said fourth quarter sales rose 2% t...  \n",
       "1  The dollar has hit its highest level against t...  \n",
       "2  Yukos' owner Menatep Group says it will ask Ro...  \n",
       "3  Rod Eddington, BA's chief executive, said the ...  \n",
       "4  Pernod has reduced the debt it took on to fund...  "
      ]
     },
     "execution_count": 5,
     "metadata": {},
     "output_type": "execute_result"
    }
   ],
   "source": [
    "df = pd.read_csv(\"bbc_news.csv\")\n",
    "df.drop(columns=[\"Unnamed: 0\"], inplace=True)\n",
    "print(df.shape)\n",
    "df.head()"
   ]
  },
  {
   "cell_type": "markdown",
   "metadata": {
    "id": "HcCQZgE4t9GW"
   },
   "source": [
    "# Preprocessing Data"
   ]
  },
  {
   "cell_type": "code",
   "execution_count": 6,
   "metadata": {
    "id": "1hVOo-IAqIQp"
   },
   "outputs": [],
   "source": [
    "def formatArticleHeader(text):\n",
    "  text = text.strip().split(\"\\n\\n\")\n",
    "  header = text[0] + \". \"\n",
    "  del text[0]\n",
    "  #text[0] = header + text[0]\n",
    "  text = \"\\n\\n\".join(text)\n",
    "  return text"
   ]
  },
  {
   "cell_type": "code",
   "execution_count": 7,
   "metadata": {
    "id": "Iew5JvgErXw0"
   },
   "outputs": [],
   "source": [
    "def cleanText(text):\n",
    "  contraction_mapping = {\"ain't\": \"is not\", \"aren't\": \"are not\",\"can't\": \"cannot\", \"'cause\": \"because\", \"could've\": \"could have\", \"couldn't\": \"could not\", \"didn't\": \"did not\", \"doesn't\": \"does not\", \"don't\": \"do not\", \"hadn't\": \"had not\", \"hasn't\": \"has not\", \"haven't\": \"have not\", \"he'd\": \"he would\",\"he'll\": \"he will\", \"he's\": \"he is\", \"how'd\": \"how did\", \"how'd'y\": \"how do you\", \"how'll\": \"how will\", \"how's\": \"how is\", \"I'd\": \"I would\", \"I'd've\": \"I would have\", \"I'll\": \"I will\", \"I'll've\": \"I will have\",\"I'm\": \"I am\", \"I've\": \"I have\", \"i'd\": \"i would\", \"i'd've\": \"i would have\", \"i'll\": \"i will\",  \"i'll've\": \"i will have\",\"i'm\": \"i am\", \"i've\": \"i have\", \"isn't\": \"is not\", \"it'd\": \"it would\", \"it'd've\": \"it would have\", \"it'll\": \"it will\", \"it'll've\": \"it will have\",\"it's\": \"it is\", \"let's\": \"let us\", \"ma'am\": \"madam\", \"mayn't\": \"may not\", \"might've\": \"might have\",\"mightn't\": \"might not\",\"mightn't've\": \"might not have\", \"must've\": \"must have\", \"mustn't\": \"must not\", \"mustn't've\": \"must not have\", \"needn't\": \"need not\", \"needn't've\": \"need not have\",\"o'clock\": \"of the clock\", \"oughtn't\": \"ought not\", \"oughtn't've\": \"ought not have\", \"shan't\": \"shall not\", \"sha'n't\": \"shall not\", \"shan't've\": \"shall not have\", \"she'd\": \"she would\", \"she'd've\": \"she would have\", \"she'll\": \"she will\", \"she'll've\": \"she will have\", \"she's\": \"she is\", \"should've\": \"should have\", \"shouldn't\": \"should not\", \"shouldn't've\": \"should not have\", \"so've\": \"so have\",\"so's\": \"so as\", \"this's\": \"this is\",\"that'd\": \"that would\", \"that'd've\": \"that would have\", \"that's\": \"that is\", \"there'd\": \"there would\", \"there'd've\": \"there would have\", \"there's\": \"there is\", \"here's\": \"here is\",\"they'd\": \"they would\", \"they'd've\": \"they would have\", \"they'll\": \"they will\", \"they'll've\": \"they will have\", \"they're\": \"they are\", \"they've\": \"they have\", \"to've\": \"to have\", \"wasn't\": \"was not\", \"we'd\": \"we would\", \"we'd've\": \"we would have\", \"we'll\": \"we will\", \"we'll've\": \"we will have\", \"we're\": \"we are\", \"we've\": \"we have\", \"weren't\": \"were not\", \"what'll\": \"what will\", \"what'll've\": \"what will have\", \"what're\": \"what are\", \"what's\": \"what is\", \"what've\": \"what have\", \"when's\": \"when is\", \"when've\": \"when have\", \"where'd\": \"where did\", \"where's\": \"where is\", \"where've\": \"where have\", \"who'll\": \"who will\", \"who'll've\": \"who will have\", \"who's\": \"who is\", \"who've\": \"who have\", \"why's\": \"why is\", \"why've\": \"why have\", \"will've\": \"will have\", \"won't\": \"will not\", \"won't've\": \"will not have\", \"would've\": \"would have\", \"wouldn't\": \"would not\", \"wouldn't've\": \"would not have\", \"y'all\": \"you all\", \"y'all'd\": \"you all would\",\"y'all'd've\": \"you all would have\",\"y'all're\": \"you all are\",\"y'all've\": \"you all have\", \"you'd\": \"you would\", \"you'd've\": \"you would have\", \"you'll\": \"you will\", \"you'll've\": \"you will have\", \"you're\": \"you are\", \"you've\": \"you have\"}\n",
    "  text = text.lower()\n",
    "  text = re.sub(\" +\", \" \", text)\n",
    "  text = re.sub(\"\\n+\", \" \", text)\n",
    "  text = \" \".join([contraction_mapping[w] if w in contraction_mapping else w for w in text.split()])\n",
    "  return text\n",
    "\n",
    "  # more preprocessing\n",
    "  text = re.sub(\"[^a-zA-Z0-9\\n]\", \" \", text)\n",
    "  text = re.sub(r'\\([^)]*\\)', '', text)\n",
    "  text = re.sub('\"','', text)\n",
    "  text = re.sub(r\"'s\\b\",\"\",text)\n",
    "  return text "
   ]
  },
  {
   "cell_type": "code",
   "execution_count": 8,
   "metadata": {
    "id": "8AelLqhPvJwz"
   },
   "outputs": [],
   "source": [
    "df[\"TEXT\"] = df[\"TEXT\"].apply(lambda x: formatArticleHeader(x))\n",
    "df[\"TEXT\"] = df[\"TEXT\"].apply(lambda x: cleanText(x))\n",
    "df[\"SUMMARY\"] = df[\"SUMMARY\"].apply(lambda x: \"<START> \" + cleanText(x) + \" <END>\")"
   ]
  },
  {
   "cell_type": "code",
   "execution_count": 9,
   "metadata": {
    "colab": {
     "base_uri": "https://localhost:8080/",
     "height": 206
    },
    "id": "L3YFKx6ovhsa",
    "outputId": "62e0c5c7-1968-47ea-f6c7-95af91a57874"
   },
   "outputs": [
    {
     "data": {
      "text/html": [
       "<div>\n",
       "<style scoped>\n",
       "    .dataframe tbody tr th:only-of-type {\n",
       "        vertical-align: middle;\n",
       "    }\n",
       "\n",
       "    .dataframe tbody tr th {\n",
       "        vertical-align: top;\n",
       "    }\n",
       "\n",
       "    .dataframe thead th {\n",
       "        text-align: right;\n",
       "    }\n",
       "</style>\n",
       "<table border=\"1\" class=\"dataframe\">\n",
       "  <thead>\n",
       "    <tr style=\"text-align: right;\">\n",
       "      <th></th>\n",
       "      <th>TEXT</th>\n",
       "      <th>SUMMARY</th>\n",
       "    </tr>\n",
       "  </thead>\n",
       "  <tbody>\n",
       "    <tr>\n",
       "      <th>0</th>\n",
       "      <td>quarterly profits at us media giant timewarner...</td>\n",
       "      <td>&lt;START&gt; timewarner said fourth quarter sales r...</td>\n",
       "    </tr>\n",
       "    <tr>\n",
       "      <th>1</th>\n",
       "      <td>the dollar has hit its highest level against t...</td>\n",
       "      <td>&lt;START&gt; the dollar has hit its highest level a...</td>\n",
       "    </tr>\n",
       "    <tr>\n",
       "      <th>2</th>\n",
       "      <td>the owners of embattled russian oil giant yuko...</td>\n",
       "      <td>&lt;START&gt; yukos' owner menatep group says it wil...</td>\n",
       "    </tr>\n",
       "    <tr>\n",
       "      <th>3</th>\n",
       "      <td>british airways has blamed high fuel prices fo...</td>\n",
       "      <td>&lt;START&gt; rod eddington, ba's chief executive, s...</td>\n",
       "    </tr>\n",
       "    <tr>\n",
       "      <th>4</th>\n",
       "      <td>shares in uk drinks and food firm allied domec...</td>\n",
       "      <td>&lt;START&gt; pernod has reduced the debt it took on...</td>\n",
       "    </tr>\n",
       "  </tbody>\n",
       "</table>\n",
       "</div>"
      ],
      "text/plain": [
       "                                                TEXT  \\\n",
       "0  quarterly profits at us media giant timewarner...   \n",
       "1  the dollar has hit its highest level against t...   \n",
       "2  the owners of embattled russian oil giant yuko...   \n",
       "3  british airways has blamed high fuel prices fo...   \n",
       "4  shares in uk drinks and food firm allied domec...   \n",
       "\n",
       "                                             SUMMARY  \n",
       "0  <START> timewarner said fourth quarter sales r...  \n",
       "1  <START> the dollar has hit its highest level a...  \n",
       "2  <START> yukos' owner menatep group says it wil...  \n",
       "3  <START> rod eddington, ba's chief executive, s...  \n",
       "4  <START> pernod has reduced the debt it took on...  "
      ]
     },
     "execution_count": 9,
     "metadata": {},
     "output_type": "execute_result"
    }
   ],
   "source": [
    "df.head()"
   ]
  },
  {
   "cell_type": "markdown",
   "metadata": {
    "id": "AZPW_R7alV-g"
   },
   "source": [
    "# Training fastText"
   ]
  },
  {
   "cell_type": "code",
   "execution_count": 10,
   "metadata": {
    "id": "03-Myx1Iha3M"
   },
   "outputs": [],
   "source": [
    "X_words = list(map(word_tokenize, df[\"TEXT\"].values))\n",
    "y_words = list(map(word_tokenize, df[\"SUMMARY\"].values))"
   ]
  },
  {
   "cell_type": "code",
   "execution_count": 11,
   "metadata": {
    "colab": {
     "base_uri": "https://localhost:8080/",
     "height": 53
    },
    "id": "G25tmg6slY0m",
    "outputId": "1735481d-03ce-442e-afeb-686be7840ebe"
   },
   "outputs": [
    {
     "data": {
      "text/plain": [
       "'ft_model = FastText(min_count=1)\\nft_model.build_vocab(sentences=X_words+y_words)\\nft_model.train(sentences=X_words+y_words, total_examples=ft_model.corpus_count, epochs=10)'"
      ]
     },
     "execution_count": 11,
     "metadata": {},
     "output_type": "execute_result"
    }
   ],
   "source": [
    "\"\"\"ft_model = FastText(min_count=1)\n",
    "ft_model.build_vocab(sentences=X_words+y_words)\n",
    "ft_model.train(sentences=X_words+y_words, total_examples=ft_model.corpus_count, epochs=10)\"\"\""
   ]
  },
  {
   "cell_type": "code",
   "execution_count": 12,
   "metadata": {
    "id": "TkKmA5iNsspD"
   },
   "outputs": [],
   "source": [
    "#word2embedding = {word:ft_model.wv.get_vector(word) for word in list(ft_model.wv.vocab)}"
   ]
  },
  {
   "cell_type": "markdown",
   "metadata": {
    "id": "c6MvRwwPgklr"
   },
   "source": [
    "# Finding Sequence Parameters"
   ]
  },
  {
   "cell_type": "code",
   "execution_count": 13,
   "metadata": {
    "id": "3xd3T3HxiglM"
   },
   "outputs": [],
   "source": [
    "X_text = df[\"TEXT\"].values\n",
    "y_text = df[\"SUMMARY\"].values"
   ]
  },
  {
   "cell_type": "code",
   "execution_count": 14,
   "metadata": {
    "colab": {
     "base_uri": "https://localhost:8080/",
     "height": 53
    },
    "id": "9-V9iPCYeJLm",
    "outputId": "1e802390-b8b4-4632-dd49-94d32334541a"
   },
   "outputs": [
    {
     "name": "stdout",
     "output_type": "stream",
     "text": [
      "Tx = 4960\n",
      "Ty = 2231\n"
     ]
    }
   ],
   "source": [
    "Tx = len(max(X_words, key=len))\n",
    "Ty = len(max(y_words, key=len))\n",
    "print(f\"Tx = {Tx}\\nTy = {Ty}\")"
   ]
  },
  {
   "cell_type": "code",
   "execution_count": 15,
   "metadata": {
    "colab": {
     "base_uri": "https://localhost:8080/",
     "height": 53
    },
    "id": "BpU9FeI_i5wE",
    "outputId": "9b166a5b-1959-4d24-fb5d-015895ce8d80"
   },
   "outputs": [
    {
     "name": "stdout",
     "output_type": "stream",
     "text": [
      "Vocabulary Size of X = 31828\n",
      "Vocabulary Size of y = 21816\n"
     ]
    }
   ],
   "source": [
    "tokenizer_X = Tokenizer()\n",
    "tokenizer_X.fit_on_texts(list(X_text))\n",
    "X_seq = tokenizer_X.texts_to_sequences(X_text)\n",
    "X_seq = pad_sequences(X_seq,  maxlen=Tx, padding='post') \n",
    "vocab_size_X = len(tokenizer_X.word_index) + 1 \n",
    "\n",
    "tokenizer_y = Tokenizer()\n",
    "tokenizer_y.fit_on_texts(list(y_text))\n",
    "y_seq = tokenizer_y.texts_to_sequences(y_text)\n",
    "y_seq = pad_sequences(y_seq,  maxlen=Ty, padding='post') \n",
    "vocab_size_y = len(tokenizer_y.word_index) + 1 \n",
    "\n",
    "print(f\"Vocabulary Size of X = {vocab_size_X}\\nVocabulary Size of y = {vocab_size_y}\")"
   ]
  },
  {
   "cell_type": "markdown",
   "metadata": {
    "id": "FLD1y02JsQVi"
   },
   "source": [
    "# Creating Sequences"
   ]
  },
  {
   "cell_type": "code",
   "execution_count": 46,
   "metadata": {
    "colab": {
     "base_uri": "https://localhost:8080/",
     "height": 35
    },
    "id": "xd7JkQfDzmTq",
    "outputId": "1b423993-5380-4d6c-e422-3ba3981f7dbb"
   },
   "outputs": [
    {
     "data": {
      "text/plain": [
       "((2225, 4960, 1), (2225, 2231, 1), (2225, 2231, 1))"
      ]
     },
     "execution_count": 46,
     "metadata": {},
     "output_type": "execute_result"
    }
   ],
   "source": [
    "X = np.zeros((df.shape[0], Tx, 1))\n",
    "y = np.zeros((df.shape[0], Ty, 1))\n",
    "target = np.zeros((df.shape[0], Ty, 1))\n",
    "\n",
    "for row in range(X_seq.shape[0]):\n",
    "  for idx, val in enumerate(X_seq[row]):\n",
    "    X[row, idx, 0] = val\n",
    "  for idx, val in enumerate(y_seq[row]):\n",
    "    y[row, idx, 0] = val\n",
    "    if idx > 0:\n",
    "      target[row, idx-1, 0] = val\n",
    "\n",
    "X.shape, y.shape, target.shape"
   ]
  },
  {
   "cell_type": "code",
   "execution_count": 50,
   "metadata": {
    "colab": {
     "base_uri": "https://localhost:8080/",
     "height": 36
    },
    "id": "641jZljEhLD_",
    "outputId": "08eb477a-7023-4e40-d315-118f819744c2"
   },
   "outputs": [
    {
     "data": {
      "text/plain": [
       "((2002, 4960, 1), (223, 4960, 1), (2002, 2231, 1), (223, 2231, 1))"
      ]
     },
     "execution_count": 50,
     "metadata": {},
     "output_type": "execute_result"
    }
   ],
   "source": [
    "X_train, X_test, y_train, y_test = train_test_split(X, y, test_size=0.1, random_state=42)\n",
    "X_train.shape, X_test.shape, y_train.shape, y_test.shape"
   ]
  },
  {
   "cell_type": "markdown",
   "metadata": {
    "id": "66T3f7P7kpJu"
   },
   "source": [
    "# Building Model"
   ]
  },
  {
   "cell_type": "code",
   "execution_count": 51,
   "metadata": {
    "id": "TDL0OBtulCtG"
   },
   "outputs": [],
   "source": [
    "def createModel(X, y, Tx, Ty, X_vocab_size, y_vocab_size, dim=512):\n",
    "  #encoder\n",
    "  encoder_input = Input(shape=(Tx, ))\n",
    "    \n",
    "  enc_embedding =  Embedding(X_vocab_size, 100, trainable=True)(encoder_input)\n",
    "\n",
    "  encoder_LSTM_1 = LSTM(dim, return_state=True, return_sequences=True)\n",
    "  encoder_out_1, hidden_state_1, cell_state_1 = encoder_LSTM_1(enc_embedding)\n",
    "\n",
    "  encoder_LSTM_2 = LSTM(dim, return_state=True, return_sequences=True)\n",
    "  encoder_out_2, hidden_state_2, cell_state_2 = encoder_LSTM_2(encoder_out_1)\n",
    "\n",
    "  encoder_LSTM_3 = LSTM(dim, return_state=True, return_sequences=True)\n",
    "  encoder_out_3, hidden_state_3, cell_state_3 = encoder_LSTM_3(encoder_out_2)\n",
    "\n",
    "  encoder_states = [hidden_state_3, cell_state_3]\n",
    "\n",
    "  #decoder\n",
    "  decoder_input = Input(shape=(None, ))\n",
    "    \n",
    "  dec_emb_layer = Embedding(y_vocab_size, 100, trainable=True)\n",
    "  dec_emb = dec_emb_layer(decoder_input)\n",
    "\n",
    "  decoder_LSTM_1 = LSTM(dim, return_state=True, return_sequences=True)\n",
    "  decoder_out_1, _, _ = decoder_LSTM_1(dec_emb, initial_state=encoder_states)\n",
    "\n",
    "  #decoder_LSTM_2 = LSTM(64, return_state=True)\n",
    "  #decoder_out_2, _, _ = decoder_LSTM_2(decoder_out_1)\n",
    "\n",
    "  attention_layer = AttentionLayer()\n",
    "  attention_output, attention_states = attention_layer([encoder_out_3, decoder_out_1])\n",
    "\n",
    "  decoder_concat = Concatenate(axis=-1)([decoder_out_1, attention_output])\n",
    "\n",
    "  decoder_dense = TimeDistributed(Dense(1, activation='sigmoid'))\n",
    "  decoder_output = decoder_dense(decoder_concat)\n",
    "\n",
    "  model = Model([encoder_input, decoder_input], decoder_output)\n",
    "  model.compile(optimizer=\"adam\", loss=\"categorical_crossentropy\", metrics=[\"accuracy\"])\n",
    "  return model, encoder_input, encoder_states, decoder_input, decoder_LSTM_1, decoder_dense"
   ]
  },
  {
   "cell_type": "code",
   "execution_count": 52,
   "metadata": {
    "colab": {
     "base_uri": "https://localhost:8080/",
     "height": 644
    },
    "id": "Y1CN1J8LsW9z",
    "outputId": "74fbc7ed-fb6f-459e-cb40-174cfdad1c47",
    "scrolled": false
   },
   "outputs": [
    {
     "data": {
      "image/png": "[encoded data removed]",
      "text/plain": [
       "<IPython.core.display.Image object>"
      ]
     },
     "execution_count": 52,
     "metadata": {},
     "output_type": "execute_result"
    }
   ],
   "source": [
    "model, encoder_input, encoder_states, decoder_input, decoder_LSTM, decoder_dense = createModel(X_train, y_train, Tx, Ty, vocab_size_X, vocab_size_y, 512)\n",
    "plot_model(model, show_shapes=True)"
   ]
  },
  {
   "cell_type": "code",
   "execution_count": 53,
   "metadata": {},
   "outputs": [
    {
     "name": "stdout",
     "output_type": "stream",
     "text": [
      "Model: \"functional_13\"\n",
      "__________________________________________________________________________________________________\n",
      "Layer (type)                    Output Shape         Param #     Connected to                     \n",
      "==================================================================================================\n",
      "input_21 (InputLayer)           [(None, 4960)]       0                                            \n",
      "__________________________________________________________________________________________________\n",
      "embedding_20 (Embedding)        (None, 4960, 100)    3182800     input_21[0][0]                   \n",
      "__________________________________________________________________________________________________\n",
      "lstm_40 (LSTM)                  [(None, 4960, 512),  1255424     embedding_20[0][0]               \n",
      "__________________________________________________________________________________________________\n",
      "input_22 (InputLayer)           [(None, None)]       0                                            \n",
      "__________________________________________________________________________________________________\n",
      "lstm_41 (LSTM)                  [(None, 4960, 512),  2099200     lstm_40[0][0]                    \n",
      "__________________________________________________________________________________________________\n",
      "embedding_21 (Embedding)        (None, None, 100)    2181600     input_22[0][0]                   \n",
      "__________________________________________________________________________________________________\n",
      "lstm_42 (LSTM)                  [(None, 4960, 512),  2099200     lstm_41[0][0]                    \n",
      "__________________________________________________________________________________________________\n",
      "lstm_43 (LSTM)                  [(None, None, 512),  1255424     embedding_21[0][0]               \n",
      "                                                                 lstm_42[0][1]                    \n",
      "                                                                 lstm_42[0][2]                    \n",
      "__________________________________________________________________________________________________\n",
      "attention_layer_9 (AttentionLay ((None, None, 512),  524800      lstm_42[0][0]                    \n",
      "                                                                 lstm_43[0][0]                    \n",
      "__________________________________________________________________________________________________\n",
      "concatenate_6 (Concatenate)     (None, None, 1024)   0           lstm_43[0][0]                    \n",
      "                                                                 attention_layer_9[0][0]          \n",
      "__________________________________________________________________________________________________\n",
      "time_distributed_6 (TimeDistrib (None, None, 1)      1025        concatenate_6[0][0]              \n",
      "==================================================================================================\n",
      "Total params: 12,599,473\n",
      "Trainable params: 12,599,473\n",
      "Non-trainable params: 0\n",
      "__________________________________________________________________________________________________\n"
     ]
    }
   ],
   "source": [
    "model.summary()"
   ]
  },
  {
   "cell_type": "code",
   "execution_count": null,
   "metadata": {},
   "outputs": [
    {
     "name": "stdout",
     "output_type": "stream",
     "text": [
      "Epoch 1/20\n"
     ]
    }
   ],
   "source": [
    "model.fit(x=[X_train, y_train[:,:-1]], y=y_train.reshape(y_train.shape[0],y_train.shape[1], 1)[:,1:], epochs=20, batch_size=128)"
   ]
  },
  {
   "cell_type": "code",
   "execution_count": null,
   "metadata": {},
   "outputs": [],
   "source": []
  }
 ],
 "metadata": {
  "colab": {
   "authorship_tag": "ABX9TyNs3C2yxAFlH1n0w8riFI0V",
   "collapsed_sections": [],
   "include_colab_link": true,
   "name": "summarize",
   "provenance": []
  },
  "kernelspec": {
   "display_name": "Python 3",
   "language": "python",
   "name": "python3"
  },
  "language_info": {
   "codemirror_mode": {
    "name": "ipython",
    "version": 3
   },
   "file_extension": ".py",
   "mimetype": "text/x-python",
   "name": "python",
   "nbconvert_exporter": "python",
   "pygments_lexer": "ipython3",
   "version": "3.8.3"
  }
 },
 "nbformat": 4,
 "nbformat_minor": 1
}
