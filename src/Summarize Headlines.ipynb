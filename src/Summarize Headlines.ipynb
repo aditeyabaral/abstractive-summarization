{
  "nbformat": 4,
  "nbformat_minor": 0,
  "metadata": {
    "colab": {
      "name": "Summarize Headlines",
      "provenance": [],
      "collapsed_sections": [],
      "include_colab_link": true
    },
    "kernelspec": {
      "display_name": "Python 3",
      "language": "python",
      "name": "python3"
    },
    "language_info": {
      "codemirror_mode": {
        "name": "ipython",
        "version": 3
      },
      "file_extension": ".py",
      "mimetype": "text/x-python",
      "name": "python",
      "nbconvert_exporter": "python",
      "pygments_lexer": "ipython3",
      "version": "3.8.3"
    },
    "accelerator": "GPU"
  },
  "cells": [
    {
      "cell_type": "markdown",
      "metadata": {
        "id": "view-in-github",
        "colab_type": "text"
      },
      "source": [
        "<a href=\"https://colab.research.google.com/github/aditeyabaral/abstractive-summarization/blob/main/src/Summarize%20Headlines.ipynb\" target=\"_parent\"><img src=\"https://colab.research.google.com/assets/colab-badge.svg\" alt=\"Open In Colab\"/></a>"
      ]
    },
    {
      "cell_type": "markdown",
      "metadata": {
        "id": "9zII8VL8t27G"
      },
      "source": [
        "# Importing Libraries"
      ]
    },
    {
      "cell_type": "code",
      "metadata": {
        "colab": {
          "base_uri": "https://localhost:8080/"
        },
        "id": "eMSAQJ0pvOv1",
        "outputId": "b9432bac-ca8b-44b2-deff-1ad39dfd9aa0"
      },
      "source": [
        "import nltk\n",
        "nltk.download(\"punkt\")"
      ],
      "execution_count": 1,
      "outputs": [
        {
          "output_type": "stream",
          "text": [
            "[nltk_data] Downloading package punkt to /root/nltk_data...\n",
            "[nltk_data]   Package punkt is already up-to-date!\n"
          ],
          "name": "stdout"
        },
        {
          "output_type": "execute_result",
          "data": {
            "text/plain": [
              "True"
            ]
          },
          "metadata": {
            "tags": []
          },
          "execution_count": 1
        }
      ]
    },
    {
      "cell_type": "code",
      "metadata": {
        "id": "Hi8UIHCsm2gz"
      },
      "source": [
        "import logging\n",
        "logging.basicConfig(format=\"%(asctime)s : %(levelname)s : %(message)s\", level=logging.INFO)"
      ],
      "execution_count": 2,
      "outputs": []
    },
    {
      "cell_type": "code",
      "metadata": {
        "colab": {
          "base_uri": "https://localhost:8080/"
        },
        "id": "tfhoOjgtq-n_",
        "outputId": "a41f40ca-0103-4017-9534-afc8019e23c8"
      },
      "source": [
        "!curl -L -O https://raw.githubusercontent.com/aditeyabaral/abstractive-summarization/main/data/news_summary_more.csv"
      ],
      "execution_count": 3,
      "outputs": [
        {
          "output_type": "stream",
          "text": [
            "  % Total    % Received % Xferd  Average Speed   Time    Time     Time  Current\n",
            "                                 Dload  Upload   Total   Spent    Left  Speed\n",
            "\r  0     0    0     0    0     0      0      0 --:--:-- --:--:-- --:--:--     0\r100 39.4M  100 39.4M    0     0   206M      0 --:--:-- --:--:-- --:--:--  206M\n"
          ],
          "name": "stdout"
        }
      ]
    },
    {
      "cell_type": "code",
      "metadata": {
        "colab": {
          "base_uri": "https://localhost:8080/"
        },
        "id": "pFNYneClJZg1",
        "outputId": "7da1ea1b-5554-4a47-beb6-7cb0fe29b907"
      },
      "source": [
        "!curl -L -O https://raw.githubusercontent.com/aditeyabaral/abstractive-summarization/main/src/attention.py"
      ],
      "execution_count": 4,
      "outputs": [
        {
          "output_type": "stream",
          "text": [
            "  % Total    % Received % Xferd  Average Speed   Time    Time     Time  Current\n",
            "                                 Dload  Upload   Total   Spent    Left  Speed\n",
            "\r  0     0    0     0    0     0      0      0 --:--:-- --:--:-- --:--:--     0\r100  5230  100  5230    0     0   283k      0 --:--:-- --:--:-- --:--:--  283k\n"
          ],
          "name": "stdout"
        }
      ]
    },
    {
      "cell_type": "code",
      "metadata": {
        "id": "PSZTQ31sq0Fo",
        "colab": {
          "base_uri": "https://localhost:8080/"
        },
        "outputId": "ed7fe3ad-1284-48da-a37d-a29e229f4adb"
      },
      "source": [
        "import numpy as np\n",
        "import pandas as pd\n",
        "import re\n",
        "import string\n",
        "from google.colab import files\n",
        "from gensim.models import FastText\n",
        "from nltk.tokenize import word_tokenize, sent_tokenize\n",
        "from nltk.corpus import stopwords\n",
        "import matplotlib.pyplot as plt\n",
        "from sklearn.model_selection import train_test_split\n",
        "from tensorflow import keras\n",
        "from keras.preprocessing.text import Tokenizer \n",
        "from keras.preprocessing.sequence import pad_sequences\n",
        "from keras.layers import Input, LSTM, Embedding, Dense, Concatenate, TimeDistributed, Bidirectional\n",
        "from tensorflow.keras.models import Model\n",
        "from keras.utils.vis_utils import plot_model\n",
        "import attention\n",
        "from attention import AttentionLayer"
      ],
      "execution_count": 5,
      "outputs": [
        {
          "output_type": "stream",
          "text": [
            "2021-01-15 04:53:04,454 : INFO : 'pattern' package not found; tag filters are not available for English\n"
          ],
          "name": "stderr"
        }
      ]
    },
    {
      "cell_type": "markdown",
      "metadata": {
        "id": "ylAiZOjet6B7"
      },
      "source": [
        "# Reading Dataset"
      ]
    },
    {
      "cell_type": "code",
      "metadata": {
        "colab": {
          "base_uri": "https://localhost:8080/",
          "height": 224
        },
        "id": "ax16JtDvrQ21",
        "outputId": "15c21d91-ae3c-4d31-83d5-955cca9cc4bd"
      },
      "source": [
        "df = pd.read_csv(\"news_summary_more.csv\")\n",
        "# df.drop(columns=[\"Unnamed: 0\"], inplace=True)\n",
        "print(df.shape)\n",
        "df.head()"
      ],
      "execution_count": 6,
      "outputs": [
        {
          "output_type": "stream",
          "text": [
            "(98401, 2)\n"
          ],
          "name": "stdout"
        },
        {
          "output_type": "execute_result",
          "data": {
            "text/html": [
              "<div>\n",
              "<style scoped>\n",
              "    .dataframe tbody tr th:only-of-type {\n",
              "        vertical-align: middle;\n",
              "    }\n",
              "\n",
              "    .dataframe tbody tr th {\n",
              "        vertical-align: top;\n",
              "    }\n",
              "\n",
              "    .dataframe thead th {\n",
              "        text-align: right;\n",
              "    }\n",
              "</style>\n",
              "<table border=\"1\" class=\"dataframe\">\n",
              "  <thead>\n",
              "    <tr style=\"text-align: right;\">\n",
              "      <th></th>\n",
              "      <th>headlines</th>\n",
              "      <th>text</th>\n",
              "    </tr>\n",
              "  </thead>\n",
              "  <tbody>\n",
              "    <tr>\n",
              "      <th>0</th>\n",
              "      <td>upGrad learner switches to career in ML &amp; Al w...</td>\n",
              "      <td>Saurav Kant, an alumnus of upGrad and IIIT-B's...</td>\n",
              "    </tr>\n",
              "    <tr>\n",
              "      <th>1</th>\n",
              "      <td>Delhi techie wins free food from Swiggy for on...</td>\n",
              "      <td>Kunal Shah's credit card bill payment platform...</td>\n",
              "    </tr>\n",
              "    <tr>\n",
              "      <th>2</th>\n",
              "      <td>New Zealand end Rohit Sharma-led India's 12-ma...</td>\n",
              "      <td>New Zealand defeated India by 8 wickets in the...</td>\n",
              "    </tr>\n",
              "    <tr>\n",
              "      <th>3</th>\n",
              "      <td>Aegon life iTerm insurance plan helps customer...</td>\n",
              "      <td>With Aegon Life iTerm Insurance plan, customer...</td>\n",
              "    </tr>\n",
              "    <tr>\n",
              "      <th>4</th>\n",
              "      <td>Have known Hirani for yrs, what if MeToo claim...</td>\n",
              "      <td>Speaking about the sexual harassment allegatio...</td>\n",
              "    </tr>\n",
              "  </tbody>\n",
              "</table>\n",
              "</div>"
            ],
            "text/plain": [
              "                                           headlines                                               text\n",
              "0  upGrad learner switches to career in ML & Al w...  Saurav Kant, an alumnus of upGrad and IIIT-B's...\n",
              "1  Delhi techie wins free food from Swiggy for on...  Kunal Shah's credit card bill payment platform...\n",
              "2  New Zealand end Rohit Sharma-led India's 12-ma...  New Zealand defeated India by 8 wickets in the...\n",
              "3  Aegon life iTerm insurance plan helps customer...  With Aegon Life iTerm Insurance plan, customer...\n",
              "4  Have known Hirani for yrs, what if MeToo claim...  Speaking about the sexual harassment allegatio..."
            ]
          },
          "metadata": {
            "tags": []
          },
          "execution_count": 6
        }
      ]
    },
    {
      "cell_type": "markdown",
      "metadata": {
        "id": "HcCQZgE4t9GW"
      },
      "source": [
        "# Preprocessing Data"
      ]
    },
    {
      "cell_type": "code",
      "metadata": {
        "id": "1hVOo-IAqIQp"
      },
      "source": [
        "def formatArticleHeader(text):\n",
        "  text = text.strip().split(\"\\n\\n\")\n",
        "  header = text[0] + \". \"\n",
        "  del text[0]\n",
        "  #text[0] = header + text[0]\n",
        "  text = \"\\n\\n\".join(text)\n",
        "  return text"
      ],
      "execution_count": 7,
      "outputs": []
    },
    {
      "cell_type": "code",
      "metadata": {
        "id": "Iew5JvgErXw0"
      },
      "source": [
        "def cleanText(text):\n",
        "  contraction_mapping = {\"ain't\": \"is not\", \"aren't\": \"are not\",\"can't\": \"cannot\", \"'cause\": \"because\", \"could've\": \"could have\", \"couldn't\": \"could not\", \"didn't\": \"did not\", \"doesn't\": \"does not\", \"don't\": \"do not\", \"hadn't\": \"had not\", \"hasn't\": \"has not\", \"haven't\": \"have not\", \"he'd\": \"he would\",\"he'll\": \"he will\", \"he's\": \"he is\", \"how'd\": \"how did\", \"how'd'y\": \"how do you\", \"how'll\": \"how will\", \"how's\": \"how is\", \"I'd\": \"I would\", \"I'd've\": \"I would have\", \"I'll\": \"I will\", \"I'll've\": \"I will have\",\"I'm\": \"I am\", \"I've\": \"I have\", \"i'd\": \"i would\", \"i'd've\": \"i would have\", \"i'll\": \"i will\",  \"i'll've\": \"i will have\",\"i'm\": \"i am\", \"i've\": \"i have\", \"isn't\": \"is not\", \"it'd\": \"it would\", \"it'd've\": \"it would have\", \"it'll\": \"it will\", \"it'll've\": \"it will have\",\"it's\": \"it is\", \"let's\": \"let us\", \"ma'am\": \"madam\", \"mayn't\": \"may not\", \"might've\": \"might have\",\"mightn't\": \"might not\",\"mightn't've\": \"might not have\", \"must've\": \"must have\", \"mustn't\": \"must not\", \"mustn't've\": \"must not have\", \"needn't\": \"need not\", \"needn't've\": \"need not have\",\"o'clock\": \"of the clock\", \"oughtn't\": \"ought not\", \"oughtn't've\": \"ought not have\", \"shan't\": \"shall not\", \"sha'n't\": \"shall not\", \"shan't've\": \"shall not have\", \"she'd\": \"she would\", \"she'd've\": \"she would have\", \"she'll\": \"she will\", \"she'll've\": \"she will have\", \"she's\": \"she is\", \"should've\": \"should have\", \"shouldn't\": \"should not\", \"shouldn't've\": \"should not have\", \"so've\": \"so have\",\"so's\": \"so as\", \"this's\": \"this is\",\"that'd\": \"that would\", \"that'd've\": \"that would have\", \"that's\": \"that is\", \"there'd\": \"there would\", \"there'd've\": \"there would have\", \"there's\": \"there is\", \"here's\": \"here is\",\"they'd\": \"they would\", \"they'd've\": \"they would have\", \"they'll\": \"they will\", \"they'll've\": \"they will have\", \"they're\": \"they are\", \"they've\": \"they have\", \"to've\": \"to have\", \"wasn't\": \"was not\", \"we'd\": \"we would\", \"we'd've\": \"we would have\", \"we'll\": \"we will\", \"we'll've\": \"we will have\", \"we're\": \"we are\", \"we've\": \"we have\", \"weren't\": \"were not\", \"what'll\": \"what will\", \"what'll've\": \"what will have\", \"what're\": \"what are\", \"what's\": \"what is\", \"what've\": \"what have\", \"when's\": \"when is\", \"when've\": \"when have\", \"where'd\": \"where did\", \"where's\": \"where is\", \"where've\": \"where have\", \"who'll\": \"who will\", \"who'll've\": \"who will have\", \"who's\": \"who is\", \"who've\": \"who have\", \"why's\": \"why is\", \"why've\": \"why have\", \"will've\": \"will have\", \"won't\": \"will not\", \"won't've\": \"will not have\", \"would've\": \"would have\", \"wouldn't\": \"would not\", \"wouldn't've\": \"would not have\", \"y'all\": \"you all\", \"y'all'd\": \"you all would\",\"y'all'd've\": \"you all would have\",\"y'all're\": \"you all are\",\"y'all've\": \"you all have\", \"you'd\": \"you would\", \"you'd've\": \"you would have\", \"you'll\": \"you will\", \"you'll've\": \"you will have\", \"you're\": \"you are\", \"you've\": \"you have\"}\n",
        "  # text = text.lower()\n",
        "  text = re.sub(\" +\", \" \", text)\n",
        "  text = re.sub(\"\\n+\", \" \", text)\n",
        "  text = \" \".join([contraction_mapping[w] if w in contraction_mapping else w for w in text.split()])\n",
        "  return text\n",
        "\n",
        "  # more preprocessing\n",
        "  text = re.sub(\"[^a-zA-Z0-9\\n]\", \" \", text)\n",
        "  text = re.sub(r'\\([^)]*\\)', '', text)\n",
        "  text = re.sub('\"','', text)\n",
        "  text = re.sub(r\"'s\\b\",\"\",text)\n",
        "  return text "
      ],
      "execution_count": 8,
      "outputs": []
    },
    {
      "cell_type": "code",
      "metadata": {
        "id": "8AelLqhPvJwz"
      },
      "source": [
        "# df[\"text\"] = df[\"text\"].apply(lambda x: formatArticleHeader(x))\n",
        "df[\"text\"] = df[\"text\"].apply(lambda x: cleanText(x))\n",
        "df[\"headlines\"] = df[\"headlines\"].apply(lambda x: \"starttoken \" + cleanText(x) + \" endtoken\")"
      ],
      "execution_count": 9,
      "outputs": []
    },
    {
      "cell_type": "code",
      "metadata": {
        "colab": {
          "base_uri": "https://localhost:8080/",
          "height": 206
        },
        "id": "L3YFKx6ovhsa",
        "outputId": "e8553c0d-1c8e-4cd3-f5dd-20bf85a22777"
      },
      "source": [
        "df.head()"
      ],
      "execution_count": 10,
      "outputs": [
        {
          "output_type": "execute_result",
          "data": {
            "text/html": [
              "<div>\n",
              "<style scoped>\n",
              "    .dataframe tbody tr th:only-of-type {\n",
              "        vertical-align: middle;\n",
              "    }\n",
              "\n",
              "    .dataframe tbody tr th {\n",
              "        vertical-align: top;\n",
              "    }\n",
              "\n",
              "    .dataframe thead th {\n",
              "        text-align: right;\n",
              "    }\n",
              "</style>\n",
              "<table border=\"1\" class=\"dataframe\">\n",
              "  <thead>\n",
              "    <tr style=\"text-align: right;\">\n",
              "      <th></th>\n",
              "      <th>headlines</th>\n",
              "      <th>text</th>\n",
              "    </tr>\n",
              "  </thead>\n",
              "  <tbody>\n",
              "    <tr>\n",
              "      <th>0</th>\n",
              "      <td>starttoken upGrad learner switches to career i...</td>\n",
              "      <td>Saurav Kant, an alumnus of upGrad and IIIT-B's...</td>\n",
              "    </tr>\n",
              "    <tr>\n",
              "      <th>1</th>\n",
              "      <td>starttoken Delhi techie wins free food from Sw...</td>\n",
              "      <td>Kunal Shah's credit card bill payment platform...</td>\n",
              "    </tr>\n",
              "    <tr>\n",
              "      <th>2</th>\n",
              "      <td>starttoken New Zealand end Rohit Sharma-led In...</td>\n",
              "      <td>New Zealand defeated India by 8 wickets in the...</td>\n",
              "    </tr>\n",
              "    <tr>\n",
              "      <th>3</th>\n",
              "      <td>starttoken Aegon life iTerm insurance plan hel...</td>\n",
              "      <td>With Aegon Life iTerm Insurance plan, customer...</td>\n",
              "    </tr>\n",
              "    <tr>\n",
              "      <th>4</th>\n",
              "      <td>starttoken Have known Hirani for yrs, what if ...</td>\n",
              "      <td>Speaking about the sexual harassment allegatio...</td>\n",
              "    </tr>\n",
              "  </tbody>\n",
              "</table>\n",
              "</div>"
            ],
            "text/plain": [
              "                                           headlines                                               text\n",
              "0  starttoken upGrad learner switches to career i...  Saurav Kant, an alumnus of upGrad and IIIT-B's...\n",
              "1  starttoken Delhi techie wins free food from Sw...  Kunal Shah's credit card bill payment platform...\n",
              "2  starttoken New Zealand end Rohit Sharma-led In...  New Zealand defeated India by 8 wickets in the...\n",
              "3  starttoken Aegon life iTerm insurance plan hel...  With Aegon Life iTerm Insurance plan, customer...\n",
              "4  starttoken Have known Hirani for yrs, what if ...  Speaking about the sexual harassment allegatio..."
            ]
          },
          "metadata": {
            "tags": []
          },
          "execution_count": 10
        }
      ]
    },
    {
      "cell_type": "markdown",
      "metadata": {
        "id": "AZPW_R7alV-g"
      },
      "source": [
        "# Training fastText"
      ]
    },
    {
      "cell_type": "code",
      "metadata": {
        "id": "03-Myx1Iha3M"
      },
      "source": [
        "X_words = list(map(word_tokenize, df[\"text\"].values))\n",
        "y_words = list(map(word_tokenize, df[\"headlines\"].values))"
      ],
      "execution_count": 11,
      "outputs": []
    },
    {
      "cell_type": "code",
      "metadata": {
        "id": "G25tmg6slY0m",
        "colab": {
          "base_uri": "https://localhost:8080/",
          "height": 54
        },
        "outputId": "857a83a7-b857-47f8-f923-77165af849a4"
      },
      "source": [
        "\"\"\"ft_model = FastText(min_count=1)\n",
        "ft_model.build_vocab(sentences=X_words+y_words)\n",
        "ft_model.train(sentences=X_words+y_words, total_examples=ft_model.corpus_count, epochs=10)\"\"\""
      ],
      "execution_count": 12,
      "outputs": [
        {
          "output_type": "execute_result",
          "data": {
            "application/vnd.google.colaboratory.intrinsic+json": {
              "type": "string"
            },
            "text/plain": [
              "'ft_model = FastText(min_count=1)\\nft_model.build_vocab(sentences=X_words+y_words)\\nft_model.train(sentences=X_words+y_words, total_examples=ft_model.corpus_count, epochs=10)'"
            ]
          },
          "metadata": {
            "tags": []
          },
          "execution_count": 12
        }
      ]
    },
    {
      "cell_type": "code",
      "metadata": {
        "id": "TkKmA5iNsspD"
      },
      "source": [
        "#word2embedding = {word:ft_model.wv.get_vector(word) for word in list(ft_model.wv.vocab)}"
      ],
      "execution_count": 13,
      "outputs": []
    },
    {
      "cell_type": "markdown",
      "metadata": {
        "id": "c6MvRwwPgklr"
      },
      "source": [
        "# Finding Sequence Parameters"
      ]
    },
    {
      "cell_type": "code",
      "metadata": {
        "id": "3xd3T3HxiglM"
      },
      "source": [
        "X_text = df[\"text\"].values\n",
        "y_text = df[\"headlines\"].values"
      ],
      "execution_count": 14,
      "outputs": []
    },
    {
      "cell_type": "code",
      "metadata": {
        "id": "9-V9iPCYeJLm",
        "colab": {
          "base_uri": "https://localhost:8080/"
        },
        "outputId": "d6741946-f976-42d6-92ed-e187404dcbf7"
      },
      "source": [
        "Tx = len(max(X_words, key=len))\n",
        "Ty = len(max(y_words, key=len))\n",
        "print(f\"Tx = {Tx}\\nTy = {Ty}\")"
      ],
      "execution_count": 15,
      "outputs": [
        {
          "output_type": "stream",
          "text": [
            "Tx = 98\n",
            "Ty = 22\n"
          ],
          "name": "stdout"
        }
      ]
    },
    {
      "cell_type": "code",
      "metadata": {
        "id": "BpU9FeI_i5wE",
        "colab": {
          "base_uri": "https://localhost:8080/"
        },
        "outputId": "9ba2da7d-b62b-43a5-a4ee-a527dd5528c7"
      },
      "source": [
        "tokenizer_X = Tokenizer()\n",
        "tokenizer_X.fit_on_texts(list(X_text))\n",
        "X_seq = tokenizer_X.texts_to_sequences(X_text)\n",
        "X_seq = pad_sequences(X_seq,  maxlen=Tx, padding='post') \n",
        "vocab_size_X = len(tokenizer_X.word_index) + 1 \n",
        "\n",
        "tokenizer_y = Tokenizer()\n",
        "tokenizer_y.fit_on_texts(list(y_text))\n",
        "y_seq = tokenizer_y.texts_to_sequences(y_text)\n",
        "y_seq = pad_sequences(y_seq,  maxlen=Ty, padding='post') \n",
        "vocab_size_y = len(tokenizer_y.word_index) + 1 \n",
        "\n",
        "print(f\"Vocabulary Size of X = {vocab_size_X}\\nVocabulary Size of y = {vocab_size_y}\")"
      ],
      "execution_count": 16,
      "outputs": [
        {
          "output_type": "stream",
          "text": [
            "Vocabulary Size of X = 101008\n",
            "Vocabulary Size of y = 44826\n"
          ],
          "name": "stdout"
        }
      ]
    },
    {
      "cell_type": "code",
      "metadata": {
        "id": "m4EQDuQPL_mw",
        "colab": {
          "base_uri": "https://localhost:8080/"
        },
        "outputId": "f87e43d6-f275-4ec8-90c9-bb6fd9c91d15"
      },
      "source": [
        "X_seq.shape, y_seq.shape"
      ],
      "execution_count": 17,
      "outputs": [
        {
          "output_type": "execute_result",
          "data": {
            "text/plain": [
              "((98401, 98), (98401, 22))"
            ]
          },
          "metadata": {
            "tags": []
          },
          "execution_count": 17
        }
      ]
    },
    {
      "cell_type": "markdown",
      "metadata": {
        "id": "FLD1y02JsQVi"
      },
      "source": [
        "# Creating Sequences"
      ]
    },
    {
      "cell_type": "code",
      "metadata": {
        "id": "641jZljEhLD_",
        "colab": {
          "base_uri": "https://localhost:8080/"
        },
        "outputId": "98884fd7-3d02-42ec-c48f-637e4362c1df"
      },
      "source": [
        "X_train, X_test, y_train, y_test = train_test_split(X_seq, y_seq, test_size=0.05, random_state=42)\n",
        "X_train.shape, X_test.shape, y_train.shape, y_test.shape"
      ],
      "execution_count": 18,
      "outputs": [
        {
          "output_type": "execute_result",
          "data": {
            "text/plain": [
              "((93480, 98), (4921, 98), (93480, 22), (4921, 22))"
            ]
          },
          "metadata": {
            "tags": []
          },
          "execution_count": 18
        }
      ]
    },
    {
      "cell_type": "markdown",
      "metadata": {
        "id": "66T3f7P7kpJu"
      },
      "source": [
        "# Building Model"
      ]
    },
    {
      "cell_type": "code",
      "metadata": {
        "id": "TDL0OBtulCtG"
      },
      "source": [
        "dim=512\n",
        "\n",
        "#encoder\n",
        "encoder_input = Input(shape=(Tx, ))\n",
        "  \n",
        "enc_embedding =  Embedding(vocab_size_X, 100, trainable=True)(encoder_input)\n",
        "\n",
        "encoder_LSTM_1 = LSTM(dim, return_state=True, return_sequences=True)\n",
        "encoder_out_1, hidden_state_1, cell_state_1 = encoder_LSTM_1(enc_embedding)\n",
        "\n",
        "encoder_LSTM_2 = LSTM(dim, return_state=True, return_sequences=True)\n",
        "encoder_out_2, hidden_state_2, cell_state_2 = encoder_LSTM_2(encoder_out_1)\n",
        "\n",
        "encoder_LSTM_3 = LSTM(dim, return_state=True, return_sequences=True)\n",
        "encoder_out_3, hidden_state_3, cell_state_3 = encoder_LSTM_3(encoder_out_2)\n",
        "\n",
        "encoder_states = [hidden_state_3, cell_state_3]\n",
        "\n",
        "#decoder\n",
        "decoder_input = Input(shape=(None, ))\n",
        "  \n",
        "dec_emb_layer = Embedding(vocab_size_y, 100, trainable=True)\n",
        "dec_emb = dec_emb_layer(decoder_input)\n",
        "\n",
        "decoder_LSTM_1 = LSTM(dim, return_state=True, return_sequences=True)\n",
        "decoder_out_1, decoder_fwd_state, decoder_back_state = decoder_LSTM_1(dec_emb, initial_state=encoder_states)\n",
        "\n",
        "#decoder_LSTM_2 = LSTM(64, return_state=True)\n",
        "#decoder_out_2, decoder_fwd_state, decoder_back_state = decoder_LSTM_2(decoder_out_1)\n",
        "\n",
        "attention_layer = AttentionLayer()\n",
        "attention_output, attention_states = attention_layer([encoder_out_3, decoder_out_1])\n",
        "\n",
        "decoder_concat = Concatenate(axis=-1)([decoder_out_1, attention_output])\n",
        "\n",
        "decoder_dense = TimeDistributed(Dense(vocab_size_y, activation='softmax'))\n",
        "decoder_output = decoder_dense(decoder_concat)\n",
        "\n",
        "model = Model([encoder_input, decoder_input], decoder_output)\n",
        "model.compile(optimizer=\"adam\", loss=\"sparse_categorical_crossentropy\", metrics=[\"accuracy\"])"
      ],
      "execution_count": 19,
      "outputs": []
    },
    {
      "cell_type": "code",
      "metadata": {
        "id": "Y1CN1J8LsW9z",
        "scrolled": false,
        "colab": {
          "base_uri": "https://localhost:8080/",
          "height": 976
        },
        "outputId": "b01f74d6-366d-4acf-e75a-169cabf89d47"
      },
      "source": [
        "plot_model(model, show_shapes=True)"
      ],
      "execution_count": 20,
      "outputs": [
        {
          "output_type": "execute_result",
          "data": {
            "image/png": "[encoded data removed]",
            "text/plain": [
              "<IPython.core.display.Image object>"
            ]
          },
          "metadata": {
            "tags": []
          },
          "execution_count": 20
        }
      ]
    },
    {
      "cell_type": "code",
      "metadata": {
        "id": "5MvxEcXMJR2O",
        "colab": {
          "base_uri": "https://localhost:8080/",
          "height": 667
        },
        "outputId": "712820bb-1946-4a80-e152-a1a5d70142ce"
      },
      "source": [
        "history = model.fit(\n",
        "    [X_train,y_train[:,:-1]], \n",
        "    y_train.reshape(y_train.shape[0],y_train.shape[1], 1)[:,1:],\n",
        "    epochs=10,\n",
        "    batch_size=128, \n",
        "    validation_data=([X_test, y_test[:,:-1]], y_test.reshape(y_test.shape[0],y_test.shape[1], 1)[:,1:])\n",
        "    )"
      ],
      "execution_count": 21,
      "outputs": [
        {
          "output_type": "stream",
          "text": [
            "Epoch 1/10\n",
            "731/731 [==============================] - 596s 804ms/step - loss: 4.2806 - accuracy: 0.5252 - val_loss: 3.5200 - val_accuracy: 0.5554\n",
            "Epoch 2/10\n",
            "731/731 [==============================] - 594s 813ms/step - loss: 3.3041 - accuracy: 0.5640 - val_loss: 3.0544 - val_accuracy: 0.5797\n",
            "Epoch 3/10\n",
            "731/731 [==============================] - 597s 816ms/step - loss: 2.7604 - accuracy: 0.5913 - val_loss: 2.7782 - val_accuracy: 0.6009\n",
            "Epoch 4/10\n",
            "731/731 [==============================] - 597s 816ms/step - loss: 2.3217 - accuracy: 0.6192 - val_loss: 2.6259 - val_accuracy: 0.6151\n",
            "Epoch 5/10\n",
            "731/731 [==============================] - 597s 817ms/step - loss: 1.9356 - accuracy: 0.6525 - val_loss: 2.5649 - val_accuracy: 0.6218\n",
            "Epoch 6/10\n",
            "731/731 [==============================] - 598s 818ms/step - loss: 1.6210 - accuracy: 0.6903 - val_loss: 2.5501 - val_accuracy: 0.6272\n",
            "Epoch 7/10\n",
            "731/731 [==============================] - 597s 817ms/step - loss: 1.3758 - accuracy: 0.7246 - val_loss: 2.5617 - val_accuracy: 0.6268\n",
            "Epoch 8/10\n",
            " 23/731 [..............................] - ETA: 9:26 - loss: 1.1360 - accuracy: 0.7654"
          ],
          "name": "stdout"
        },
        {
          "output_type": "error",
          "ename": "KeyboardInterrupt",
          "evalue": "ignored",
          "traceback": [
            "\u001b[0;31m---------------------------------------------------------------------------\u001b[0m",
            "\u001b[0;31mKeyboardInterrupt\u001b[0m                         Traceback (most recent call last)",
            "\u001b[0;32m<ipython-input-21-38f10ce26f33>\u001b[0m in \u001b[0;36m<module>\u001b[0;34m()\u001b[0m\n\u001b[1;32m      4\u001b[0m     \u001b[0mepochs\u001b[0m\u001b[0;34m=\u001b[0m\u001b[0;36m10\u001b[0m\u001b[0;34m,\u001b[0m\u001b[0;34m\u001b[0m\u001b[0;34m\u001b[0m\u001b[0m\n\u001b[1;32m      5\u001b[0m     \u001b[0mbatch_size\u001b[0m\u001b[0;34m=\u001b[0m\u001b[0;36m128\u001b[0m\u001b[0;34m,\u001b[0m\u001b[0;34m\u001b[0m\u001b[0;34m\u001b[0m\u001b[0m\n\u001b[0;32m----> 6\u001b[0;31m     \u001b[0mvalidation_data\u001b[0m\u001b[0;34m=\u001b[0m\u001b[0;34m(\u001b[0m\u001b[0;34m[\u001b[0m\u001b[0mX_test\u001b[0m\u001b[0;34m,\u001b[0m \u001b[0my_test\u001b[0m\u001b[0;34m[\u001b[0m\u001b[0;34m:\u001b[0m\u001b[0;34m,\u001b[0m\u001b[0;34m:\u001b[0m\u001b[0;34m-\u001b[0m\u001b[0;36m1\u001b[0m\u001b[0;34m]\u001b[0m\u001b[0;34m]\u001b[0m\u001b[0;34m,\u001b[0m \u001b[0my_test\u001b[0m\u001b[0;34m.\u001b[0m\u001b[0mreshape\u001b[0m\u001b[0;34m(\u001b[0m\u001b[0my_test\u001b[0m\u001b[0;34m.\u001b[0m\u001b[0mshape\u001b[0m\u001b[0;34m[\u001b[0m\u001b[0;36m0\u001b[0m\u001b[0;34m]\u001b[0m\u001b[0;34m,\u001b[0m\u001b[0my_test\u001b[0m\u001b[0;34m.\u001b[0m\u001b[0mshape\u001b[0m\u001b[0;34m[\u001b[0m\u001b[0;36m1\u001b[0m\u001b[0;34m]\u001b[0m\u001b[0;34m,\u001b[0m \u001b[0;36m1\u001b[0m\u001b[0;34m)\u001b[0m\u001b[0;34m[\u001b[0m\u001b[0;34m:\u001b[0m\u001b[0;34m,\u001b[0m\u001b[0;36m1\u001b[0m\u001b[0;34m:\u001b[0m\u001b[0;34m]\u001b[0m\u001b[0;34m)\u001b[0m\u001b[0;34m\u001b[0m\u001b[0;34m\u001b[0m\u001b[0m\n\u001b[0m\u001b[1;32m      7\u001b[0m     )\n",
            "\u001b[0;32m/usr/local/lib/python3.6/dist-packages/tensorflow/python/keras/engine/training.py\u001b[0m in \u001b[0;36mfit\u001b[0;34m(self, x, y, batch_size, epochs, verbose, callbacks, validation_split, validation_data, shuffle, class_weight, sample_weight, initial_epoch, steps_per_epoch, validation_steps, validation_batch_size, validation_freq, max_queue_size, workers, use_multiprocessing)\u001b[0m\n\u001b[1;32m   1098\u001b[0m                 _r=1):\n\u001b[1;32m   1099\u001b[0m               \u001b[0mcallbacks\u001b[0m\u001b[0;34m.\u001b[0m\u001b[0mon_train_batch_begin\u001b[0m\u001b[0;34m(\u001b[0m\u001b[0mstep\u001b[0m\u001b[0;34m)\u001b[0m\u001b[0;34m\u001b[0m\u001b[0;34m\u001b[0m\u001b[0m\n\u001b[0;32m-> 1100\u001b[0;31m               \u001b[0mtmp_logs\u001b[0m \u001b[0;34m=\u001b[0m \u001b[0mself\u001b[0m\u001b[0;34m.\u001b[0m\u001b[0mtrain_function\u001b[0m\u001b[0;34m(\u001b[0m\u001b[0miterator\u001b[0m\u001b[0;34m)\u001b[0m\u001b[0;34m\u001b[0m\u001b[0;34m\u001b[0m\u001b[0m\n\u001b[0m\u001b[1;32m   1101\u001b[0m               \u001b[0;32mif\u001b[0m \u001b[0mdata_handler\u001b[0m\u001b[0;34m.\u001b[0m\u001b[0mshould_sync\u001b[0m\u001b[0;34m:\u001b[0m\u001b[0;34m\u001b[0m\u001b[0;34m\u001b[0m\u001b[0m\n\u001b[1;32m   1102\u001b[0m                 \u001b[0mcontext\u001b[0m\u001b[0;34m.\u001b[0m\u001b[0masync_wait\u001b[0m\u001b[0;34m(\u001b[0m\u001b[0;34m)\u001b[0m\u001b[0;34m\u001b[0m\u001b[0;34m\u001b[0m\u001b[0m\n",
            "\u001b[0;32m/usr/local/lib/python3.6/dist-packages/tensorflow/python/eager/def_function.py\u001b[0m in \u001b[0;36m__call__\u001b[0;34m(self, *args, **kwds)\u001b[0m\n\u001b[1;32m    826\u001b[0m     \u001b[0mtracing_count\u001b[0m \u001b[0;34m=\u001b[0m \u001b[0mself\u001b[0m\u001b[0;34m.\u001b[0m\u001b[0mexperimental_get_tracing_count\u001b[0m\u001b[0;34m(\u001b[0m\u001b[0;34m)\u001b[0m\u001b[0;34m\u001b[0m\u001b[0;34m\u001b[0m\u001b[0m\n\u001b[1;32m    827\u001b[0m     \u001b[0;32mwith\u001b[0m \u001b[0mtrace\u001b[0m\u001b[0;34m.\u001b[0m\u001b[0mTrace\u001b[0m\u001b[0;34m(\u001b[0m\u001b[0mself\u001b[0m\u001b[0;34m.\u001b[0m\u001b[0m_name\u001b[0m\u001b[0;34m)\u001b[0m \u001b[0;32mas\u001b[0m \u001b[0mtm\u001b[0m\u001b[0;34m:\u001b[0m\u001b[0;34m\u001b[0m\u001b[0;34m\u001b[0m\u001b[0m\n\u001b[0;32m--> 828\u001b[0;31m       \u001b[0mresult\u001b[0m \u001b[0;34m=\u001b[0m \u001b[0mself\u001b[0m\u001b[0;34m.\u001b[0m\u001b[0m_call\u001b[0m\u001b[0;34m(\u001b[0m\u001b[0;34m*\u001b[0m\u001b[0margs\u001b[0m\u001b[0;34m,\u001b[0m \u001b[0;34m**\u001b[0m\u001b[0mkwds\u001b[0m\u001b[0;34m)\u001b[0m\u001b[0;34m\u001b[0m\u001b[0;34m\u001b[0m\u001b[0m\n\u001b[0m\u001b[1;32m    829\u001b[0m       \u001b[0mcompiler\u001b[0m \u001b[0;34m=\u001b[0m \u001b[0;34m\"xla\"\u001b[0m \u001b[0;32mif\u001b[0m \u001b[0mself\u001b[0m\u001b[0;34m.\u001b[0m\u001b[0m_experimental_compile\u001b[0m \u001b[0;32melse\u001b[0m \u001b[0;34m\"nonXla\"\u001b[0m\u001b[0;34m\u001b[0m\u001b[0;34m\u001b[0m\u001b[0m\n\u001b[1;32m    830\u001b[0m       \u001b[0mnew_tracing_count\u001b[0m \u001b[0;34m=\u001b[0m \u001b[0mself\u001b[0m\u001b[0;34m.\u001b[0m\u001b[0mexperimental_get_tracing_count\u001b[0m\u001b[0;34m(\u001b[0m\u001b[0;34m)\u001b[0m\u001b[0;34m\u001b[0m\u001b[0;34m\u001b[0m\u001b[0m\n",
            "\u001b[0;32m/usr/local/lib/python3.6/dist-packages/tensorflow/python/eager/def_function.py\u001b[0m in \u001b[0;36m_call\u001b[0;34m(self, *args, **kwds)\u001b[0m\n\u001b[1;32m    853\u001b[0m       \u001b[0;31m# In this case we have created variables on the first call, so we run the\u001b[0m\u001b[0;34m\u001b[0m\u001b[0;34m\u001b[0m\u001b[0;34m\u001b[0m\u001b[0m\n\u001b[1;32m    854\u001b[0m       \u001b[0;31m# defunned version which is guaranteed to never create variables.\u001b[0m\u001b[0;34m\u001b[0m\u001b[0;34m\u001b[0m\u001b[0;34m\u001b[0m\u001b[0m\n\u001b[0;32m--> 855\u001b[0;31m       \u001b[0;32mreturn\u001b[0m \u001b[0mself\u001b[0m\u001b[0;34m.\u001b[0m\u001b[0m_stateless_fn\u001b[0m\u001b[0;34m(\u001b[0m\u001b[0;34m*\u001b[0m\u001b[0margs\u001b[0m\u001b[0;34m,\u001b[0m \u001b[0;34m**\u001b[0m\u001b[0mkwds\u001b[0m\u001b[0;34m)\u001b[0m  \u001b[0;31m# pylint: disable=not-callable\u001b[0m\u001b[0;34m\u001b[0m\u001b[0;34m\u001b[0m\u001b[0m\n\u001b[0m\u001b[1;32m    856\u001b[0m     \u001b[0;32melif\u001b[0m \u001b[0mself\u001b[0m\u001b[0;34m.\u001b[0m\u001b[0m_stateful_fn\u001b[0m \u001b[0;32mis\u001b[0m \u001b[0;32mnot\u001b[0m \u001b[0;32mNone\u001b[0m\u001b[0;34m:\u001b[0m\u001b[0;34m\u001b[0m\u001b[0;34m\u001b[0m\u001b[0m\n\u001b[1;32m    857\u001b[0m       \u001b[0;31m# Release the lock early so that multiple threads can perform the call\u001b[0m\u001b[0;34m\u001b[0m\u001b[0;34m\u001b[0m\u001b[0;34m\u001b[0m\u001b[0m\n",
            "\u001b[0;32m/usr/local/lib/python3.6/dist-packages/tensorflow/python/eager/function.py\u001b[0m in \u001b[0;36m__call__\u001b[0;34m(self, *args, **kwargs)\u001b[0m\n\u001b[1;32m   2941\u001b[0m        filtered_flat_args) = self._maybe_define_function(args, kwargs)\n\u001b[1;32m   2942\u001b[0m     return graph_function._call_flat(\n\u001b[0;32m-> 2943\u001b[0;31m         filtered_flat_args, captured_inputs=graph_function.captured_inputs)  # pylint: disable=protected-access\n\u001b[0m\u001b[1;32m   2944\u001b[0m \u001b[0;34m\u001b[0m\u001b[0m\n\u001b[1;32m   2945\u001b[0m   \u001b[0;34m@\u001b[0m\u001b[0mproperty\u001b[0m\u001b[0;34m\u001b[0m\u001b[0;34m\u001b[0m\u001b[0m\n",
            "\u001b[0;32m/usr/local/lib/python3.6/dist-packages/tensorflow/python/eager/function.py\u001b[0m in \u001b[0;36m_call_flat\u001b[0;34m(self, args, captured_inputs, cancellation_manager)\u001b[0m\n\u001b[1;32m   1917\u001b[0m       \u001b[0;31m# No tape is watching; skip to running the function.\u001b[0m\u001b[0;34m\u001b[0m\u001b[0;34m\u001b[0m\u001b[0;34m\u001b[0m\u001b[0m\n\u001b[1;32m   1918\u001b[0m       return self._build_call_outputs(self._inference_function.call(\n\u001b[0;32m-> 1919\u001b[0;31m           ctx, args, cancellation_manager=cancellation_manager))\n\u001b[0m\u001b[1;32m   1920\u001b[0m     forward_backward = self._select_forward_and_backward_functions(\n\u001b[1;32m   1921\u001b[0m         \u001b[0margs\u001b[0m\u001b[0;34m,\u001b[0m\u001b[0;34m\u001b[0m\u001b[0;34m\u001b[0m\u001b[0m\n",
            "\u001b[0;32m/usr/local/lib/python3.6/dist-packages/tensorflow/python/eager/function.py\u001b[0m in \u001b[0;36mcall\u001b[0;34m(self, ctx, args, cancellation_manager)\u001b[0m\n\u001b[1;32m    558\u001b[0m               \u001b[0minputs\u001b[0m\u001b[0;34m=\u001b[0m\u001b[0margs\u001b[0m\u001b[0;34m,\u001b[0m\u001b[0;34m\u001b[0m\u001b[0;34m\u001b[0m\u001b[0m\n\u001b[1;32m    559\u001b[0m               \u001b[0mattrs\u001b[0m\u001b[0;34m=\u001b[0m\u001b[0mattrs\u001b[0m\u001b[0;34m,\u001b[0m\u001b[0;34m\u001b[0m\u001b[0;34m\u001b[0m\u001b[0m\n\u001b[0;32m--> 560\u001b[0;31m               ctx=ctx)\n\u001b[0m\u001b[1;32m    561\u001b[0m         \u001b[0;32melse\u001b[0m\u001b[0;34m:\u001b[0m\u001b[0;34m\u001b[0m\u001b[0;34m\u001b[0m\u001b[0m\n\u001b[1;32m    562\u001b[0m           outputs = execute.execute_with_cancellation(\n",
            "\u001b[0;32m/usr/local/lib/python3.6/dist-packages/tensorflow/python/eager/execute.py\u001b[0m in \u001b[0;36mquick_execute\u001b[0;34m(op_name, num_outputs, inputs, attrs, ctx, name)\u001b[0m\n\u001b[1;32m     58\u001b[0m     \u001b[0mctx\u001b[0m\u001b[0;34m.\u001b[0m\u001b[0mensure_initialized\u001b[0m\u001b[0;34m(\u001b[0m\u001b[0;34m)\u001b[0m\u001b[0;34m\u001b[0m\u001b[0;34m\u001b[0m\u001b[0m\n\u001b[1;32m     59\u001b[0m     tensors = pywrap_tfe.TFE_Py_Execute(ctx._handle, device_name, op_name,\n\u001b[0;32m---> 60\u001b[0;31m                                         inputs, attrs, num_outputs)\n\u001b[0m\u001b[1;32m     61\u001b[0m   \u001b[0;32mexcept\u001b[0m \u001b[0mcore\u001b[0m\u001b[0;34m.\u001b[0m\u001b[0m_NotOkStatusException\u001b[0m \u001b[0;32mas\u001b[0m \u001b[0me\u001b[0m\u001b[0;34m:\u001b[0m\u001b[0;34m\u001b[0m\u001b[0;34m\u001b[0m\u001b[0m\n\u001b[1;32m     62\u001b[0m     \u001b[0;32mif\u001b[0m \u001b[0mname\u001b[0m \u001b[0;32mis\u001b[0m \u001b[0;32mnot\u001b[0m \u001b[0;32mNone\u001b[0m\u001b[0;34m:\u001b[0m\u001b[0;34m\u001b[0m\u001b[0;34m\u001b[0m\u001b[0m\n",
            "\u001b[0;31mKeyboardInterrupt\u001b[0m: "
          ]
        }
      ]
    },
    {
      "cell_type": "code",
      "metadata": {
        "id": "9jeLhT7tJR2P"
      },
      "source": [
        "plt.plot(history.history['loss'], label='train')\n",
        "plt.plot(history.history['val_loss'], label='test')\n",
        "plt.legend()\n",
        "plt.show()"
      ],
      "execution_count": null,
      "outputs": []
    },
    {
      "cell_type": "code",
      "metadata": {
        "id": "ba_77-IxC9WJ"
      },
      "source": [
        "reverse_target_word_index = tokenizer_y.index_word\r\n",
        "reverse_source_word_index = tokenizer_X.index_word\r\n",
        "target_word_index = tokenizer_y.word_index"
      ],
      "execution_count": 22,
      "outputs": []
    },
    {
      "cell_type": "code",
      "metadata": {
        "id": "mQHLraRCDMTI"
      },
      "source": [
        " # Encode the input sequence to get the feature vector\r\n",
        "encoder_model = Model(inputs=encoder_input, outputs=[encoder_out_3, hidden_state_3, cell_state_3])\r\n",
        "\r\n",
        "# Decoder setup\r\n",
        "# Below tensors will hold the states of the previous time step\r\n",
        "decoder_state_input_h = Input(shape=(dim,))\r\n",
        "decoder_state_input_c = Input(shape=(dim,))\r\n",
        "decoder_hidden_state_input = Input(shape=(Tx, dim))"
      ],
      "execution_count": 23,
      "outputs": []
    },
    {
      "cell_type": "code",
      "metadata": {
        "id": "tBT_X2FLGBGk"
      },
      "source": [
        "dec_emb2 = dec_emb_layer(decoder_input) \r\n",
        "# To predict the next word in the sequence, set the initial states to the states from the previous time step\r\n",
        "decoder_outputs2, state_h2, state_c2 = decoder_LSTM_1(dec_emb2, initial_state=[decoder_state_input_h, decoder_state_input_c])\r\n",
        "\r\n",
        "#attention inference\r\n",
        "attn_out_inf, attn_states_inf = attention_layer([decoder_hidden_state_input, decoder_outputs2])\r\n",
        "decoder_inf_concat = Concatenate(axis=-1, name='concat')([decoder_outputs2, attn_out_inf])\r\n",
        "\r\n",
        "# A dense softmax layer to generate prob dist. over the target vocabulary\r\n",
        "decoder_outputs2 = decoder_dense(decoder_inf_concat) \r\n",
        "\r\n",
        "# Final decoder model\r\n",
        "decoder_model = Model(\r\n",
        "    [decoder_input] + [decoder_hidden_state_input,decoder_state_input_h, decoder_state_input_c],\r\n",
        "    [decoder_outputs2] + [state_h2, state_c2])"
      ],
      "execution_count": 24,
      "outputs": []
    },
    {
      "cell_type": "code",
      "metadata": {
        "id": "5u_r_zqpOwx9"
      },
      "source": [
        "def decode_sequence(input_seq):\r\n",
        "    # Encode the input as state vectors.\r\n",
        "    e_out, e_h, e_c = encoder_model.predict(input_seq)\r\n",
        "    \r\n",
        "    # Generate empty target sequence of length 1.\r\n",
        "    target_seq = np.zeros((1,1))\r\n",
        "    \r\n",
        "    # Populate the first word of target sequence with the start word.\r\n",
        "    target_seq[0, 0] = target_word_index['starttoken']\r\n",
        "\r\n",
        "    stop_condition = False\r\n",
        "    decoded_sentence = ''\r\n",
        "    while not stop_condition:\r\n",
        "      \r\n",
        "        output_tokens, h, c = decoder_model.predict([target_seq] + [e_out, e_h, e_c])\r\n",
        "\r\n",
        "        # Sample a token\r\n",
        "        sampled_token_index = np.argmax(output_tokens[0, -1, :])\r\n",
        "        sampled_token = reverse_target_word_index[sampled_token_index]\r\n",
        "        \r\n",
        "        if(sampled_token!='endtoken'):\r\n",
        "            decoded_sentence += ' '+sampled_token\r\n",
        "\r\n",
        "        # Exit condition: either hit max length or find stop word.\r\n",
        "        if (sampled_token == 'endtoken'  or len(decoded_sentence.split()) >= (Ty-1)):\r\n",
        "            stop_condition = True\r\n",
        "\r\n",
        "        # Update the target sequence (of length 1).\r\n",
        "        target_seq = np.zeros((1,1))\r\n",
        "        target_seq[0, 0] = sampled_token_index\r\n",
        "\r\n",
        "        # Update internal states\r\n",
        "        e_h, e_c = h, c\r\n",
        "\r\n",
        "    return decoded_sentence"
      ],
      "execution_count": 25,
      "outputs": []
    },
    {
      "cell_type": "code",
      "metadata": {
        "id": "jOQmaQnZO-tJ"
      },
      "source": [
        "def seq2summary(input_seq):\r\n",
        "    newString=''\r\n",
        "    for i in input_seq:\r\n",
        "        if((i!=0 and i!=target_word_index['starttoken']) and i!=target_word_index['endtoken']):\r\n",
        "            newString=newString+reverse_target_word_index[i]+' '\r\n",
        "    return newString\r\n",
        "\r\n",
        "def seq2text(input_seq):\r\n",
        "    newString=''\r\n",
        "    for i in input_seq:\r\n",
        "        if(i!=0):\r\n",
        "            newString=newString+reverse_source_word_index[i]+' '\r\n",
        "    return newString"
      ],
      "execution_count": 26,
      "outputs": []
    },
    {
      "cell_type": "code",
      "metadata": {
        "id": "NWkY0aqNPSjv",
        "colab": {
          "base_uri": "https://localhost:8080/"
        },
        "outputId": "cbb662a5-9ea2-4ff5-a034-693b504257b4"
      },
      "source": [
        "for i in range(100):\r\n",
        "    print(\"Review:\",seq2text(X_train[i]))\r\n",
        "    print(\"Original summary:\",seq2summary(y_train[i]))\r\n",
        "    print(\"Predicted summary:\",decode_sequence(X_train[i].reshape(1, Tx)))\r\n",
        "    print(\"\\n\")"
      ],
      "execution_count": 27,
      "outputs": [
        {
          "output_type": "stream",
          "text": [
            "Review: army jawan rajendra singh lost his life when a group of youths hurled stones at an army vehicle in jammu and kashmir an army official informed on friday the 22 year old jawan was part of a quick reaction team providing security to a border roads organisation convoy and was attacked when the convoy was passing through anantnag bypass tri junction \n",
            "Original summary: 22 yr old jawan dies after being hit by stones thrown by youths \n",
            "Predicted summary:  jawan who was shot by stones thrown from army camp in j k\n",
            "\n",
            "\n",
            "Review: ibrahim shaik a 28 year old plumber working on the sets of the tamil version of the reality show 'bigg boss' died of a seizure after he collapsed while at work shaik was given emergency medical aid before being taken to chennai's kilpauk medical college hospital where he was declared brought dead the local police have registered a case regarding the incident \n",
            "Original summary: worker dies on sets of tamil version of 'bigg boss' \n",
            "Predicted summary:  bigg boss 11 contestant dies in hostel for 'bigg boss 11\n",
            "\n",
            "\n",
            "Review: the 2015 nuclear deal agreed between iran and the world powers is not a bilateral agreement and it is not up to any single country to terminate it the european union foreign policy chief federica mogherini has said this comes after us president donald trump announced that he will not certify iran's compliance with the pact n \n",
            "Original summary: not up to any single country to end iran nuclear deal eu \n",
            "Predicted summary:  no one deal in china deal not possible iran on nuke deal\n",
            "\n",
            "\n",
            "Review: a 38 year old man who killed 10 people in over six months in prayagraj formerly allahabad and nearby areas was arrested from kumbh mela said the police the accused would attack sleeping individuals with sharp edged weapons and cover their faces with their own garments identified as kaluwa from basahara village he was nabbed with the help of cctv footage \n",
            "Original summary: serial killer who killed 10 people in 6 months held at kumbh mela \n",
            "Predicted summary:  10 killed in shooting at kumbh mela in 2018\n",
            "\n",
            "\n",
            "Review: the government will celebrate july 1 as 'gst day' as the indirect tax regime completes one year gst binds the country in an economic union as it has subsumed over a dozen local levies and transformed india into one nation one tax the government said gst was rolled out in the intervening night of june 30 and july 1 2017 n \n",
            "Original summary: july 1 to be celebrated as 'gst day' \n",
            "Predicted summary:  gst on 'gst day' to be celebrated on august 18\n",
            "\n",
            "\n",
            "Review: pilots flying boeing's 737 max jets in india should be trained on a simulator that replicates the suspected scenario that led to the lion air crash aviation regulator dgca said the indonesian lion air 737 max crashed shortly after takeoff however dgca added jet airways and spicejet which operate 737 max jets in india have not had problems with the aircraft \n",
            "Original summary: dgca urges pilots to train in simulator replicating lion air crash \n",
            "Predicted summary:  air india crash crash to crash in cockpit replicating flights\n",
            "\n",
            "\n",
            "Review: indian captain virat kohli who was rested for the limited over series against sri lanka has returned to the indian squad for the six match odi series against south africa pacers shardul thakur mohammed shami and all rounder kedar jadhav have also been included in the 17 member squad all rounders ravichandran ashwin and ravindra jadeja were not named for theâ fifth straight odi series \n",
            "Original summary: kohli returns to india squad for 6 match odi series vs sa \n",
            "Predicted summary:  kohli returns to india in odi series vs india in sl series\n",
            "\n",
            "\n",
            "Review: the italian team which failed to qualify for the fifa world cup for the first time in 60 years had already booked their accommodation in russia for the 2018 tournament italy missed a berth after losing 0 1 to sweden in the play off denmark's football team is reportedly considering using italy's accommodation with most major teams having already locked their choices \n",
            "Original summary: italy who did not qualify had pre booked hotel for fifa wc \n",
            "Predicted summary:  sweden to host poland for 2018 fifa wc over over russian games\n",
            "\n",
            "\n",
            "Review: for the first time in public militants have threatened to target the families and homes of police and army men in jammu and kashmir the threat came at the funeral of an 18 year old who was killed in army firing on friday militants claimed this was in response to security forces vandalising the homes of suspected local militants \n",
            "Original summary: militants publicly threaten to target families of j k police \n",
            "Predicted summary:  1st state in kashmir is not a crime slain army chief\n",
            "\n",
            "\n",
            "Review: filmmaker vikas bahl has moved bombay high court with a â¹10 crore defamation suit against his former phantom films partners anurag kashyap and vikramaditya motwane bahl also sought direction from the hc to restrain them from making any statement about him to the media or via social media bahl was accused of sexual harassment by a former employee of phantom films \n",
            "Original summary: vikas bahl files â¹10 cr defamation suit against anurag motwane \n",
            "Predicted summary:  vikas bahl sends â¹10 cr defamation suit against anurag motwane\n",
            "\n",
            "\n",
            "Review: filmmaker amole gupte has said that the blue whale challenge has become popular because teenagers are isolated and lonely that's why they want a virtual world of their own added gupte he further said that families need to inculcate a value system in children so that they learn these things are not 'cool' \n",
            "Original summary: blue whale game becoming popular as teens are lonely amole \n",
            "Predicted summary:  blue whale is becoming lonely for becoming lonely amole\n",
            "\n",
            "\n",
            "Review: a mob led by buddhist monks attacked a un safe house for rohingya refugees in sri lanka on tuesday and forced authorities to relocate them officials said these are rohingya terrorists who killed buddhist monks in myanmar the monks alleged the refugees were rescued by sri lanka earlier this year after they were found drifting in a boat \n",
            "Original summary: mob led by monks attacks rohingya refugees in sri lanka \n",
            "Predicted summary:  suspected rohingyas refugees in pakistan in 2017 report\n",
            "\n",
            "\n",
            "Review: praising president donald trump's decision to move the us embassy from tel aviv to jerusalem israeli prime minister benjamin netanyahu has said that trump will be remembered through the ages he also compared trump to former us president harry truman the first world leader to recognise the jewish state in 1948 \n",
            "Original summary: trump will be remembered through ages israel pm netanyahu \n",
            "Predicted summary:  israel has never been the us president trump\n",
            "\n",
            "\n",
            "Review: bjp mla panna lal shakya has slammed indian cricket captain virat kohli and actress anushka sharma for getting married in italy and not in india he added that virat earned all his money and fame in the country and then took it abroad shakya further said in this country ram krishna vikramaditya and yudhisthira got married \n",
            "Original summary: mla slams virat anushka for marrying in italy not in india \n",
            "Predicted summary:  virat anushka marrying virat kohli in italy for india\n",
            "\n",
            "\n",
            "Review: supreme court judges in their media address on friday alleged chief justices of india were selectively assigning cases with far reaching consequences to their preferred benches without any rationale the four judges made public a two month old letter they had sent to the cji wherein they expressed their concern over the functioning of the judicial system and independence of high courts \n",
            "Original summary: cjis have been assigning cases to preferred bench sc judges \n",
            "Predicted summary:  cjis have been assigning cases against india sc on sec 377\n",
            "\n",
            "\n",
            "Review: actress parineeti chopra has thanked the fashion police for helping improve her fashion sense she jokingly added i am doing well so i like them now earlier parineeti had said that when people criticised her older appearance they were right while adding i knew when i lose the weight everybody will say that she looks so good \n",
            "Original summary: fashion police helped improve my fashion sense parineeti \n",
            "Predicted summary:  i am a fashion girl in fashion to get a fashion parineeti\n",
            "\n",
            "\n",
            "Review: the all india council for technical education aicte has asked all engineering professional and technical institutions to launch campaigns aimed at discouraging students from spitting on campus as a part of the swachh bharat initiative the institutions were told to involve voluntary groups such as the national services scheme nss and national cadet corps ncc in enforcing the rule \n",
            "Original summary: aicte directs engineering students to not spit on campus \n",
            "Predicted summary:  aicte to observe education of engineering students\n",
            "\n",
            "\n",
            "Review: the cbi has claimed to have busted a scam of over â¹2 200 crore wherein 13 companies allegedly remitted the amount to foreign entities against bill payments of imports of only â¹24 64 crore cbi has registered a case against stelkon infratel sipl and the 12 other companies many transactions were made through the company's account at punjab national bank cbi alleged \n",
            "Original summary: cbi busts â¹2 200 crore foreign remittance scam by 13 firms \n",
            "Predicted summary:  cbi orders probe into â¹2 000 crore fraud scam in noida\n",
            "\n",
            "\n",
            "Review: ysr congress party chief jagan mohan reddy said the tdp must leave the nda alliance if it is sincere about getting special category status for andhra pradesh even as two tdp ministers resigned from the union cabinet last week the party has ruled out leaving the alliance this came after the centre rejected their demand for special category status for andhra \n",
            "Original summary: tdp must quit nda if sincere on andhra special status ysrcp \n",
            "Predicted summary:  special status for special status cong leader to tdp mps\n",
            "\n",
            "\n",
            "Review: manmohan singh made fewer trips and was abroad for fewer days than narendra modi in the first three years of both his first term 2004 2009 and the second term 2009 2014 modi's each trip however lasted 2 5 days on average while the average duration of singh's trip was nearly 4 days during the first three years of both the terms \n",
            "Original summary: did manmohan singh undertake more foreign visits than modi \n",
            "Predicted summary:  indian origin pm modi to run in china with manmohan singh\n",
            "\n",
            "\n",
            "Review: filmmaker ketan mehta has sent a legal notice to kangana ranaut to stop the production of her film manikarnika he accused kangana and producer kamal jain of hijacking his original project called rani of jhansi the warrior queen mehta added that since 2015 he was in contact with kangana for the project and she had access to the script drafts \n",
            "Original summary: ketan mehta sends legal notice to stop kangana's manikarnika \n",
            "Predicted summary:  kangana ranaut to be legal legal notice for kangana reports\n",
            "\n",
            "\n",
            "Review: the original winnie the pooh map drawn by artist eh shepard in 1926 was sold for approximately â¹3 9 crore â£430 000 setting a world record for the highest price paid for a book illustration sold at an auction the illustration was privately owned and had not been seen for around half a century four other winnie the pooh illustrations were also sold at the auction \n",
            "Original summary: original winnie the pooh map sold for world record â¹3 9 cr \n",
            "Predicted summary:  world's smallest winnie winnie pooh for record of world cash\n",
            "\n",
            "\n",
            "Review: following an argument police in the us' michigan tasered a man who was holding his two month old baby the man's girlfriend said she grabbed the baby as it fell out of his hands when he was tasered the police were responding to a report of an assault on a woman and the man had been saying they had the wrong house \n",
            "Original summary: us cops taser man holding 2 month old baby \n",
            "Predicted summary:  us man gives birth to girlfriend on her birth anniversary\n",
            "\n",
            "\n",
            "Review: surabhi gupta one of the five killed in the mumbai plane crash on thursday had told her father over phone that she was going to fly in a sick aircraft her father revealed how was permission given to fly a sick aircraft and who gave this permission he asked the 12 seater aircraft which crashed in ghatkopar was on test flight \n",
            "Original summary: going to fly in sick aircraft mumbai crash victim told dad \n",
            "Predicted summary:  i was going to save my father mother on flight crash\n",
            "\n",
            "\n",
            "Review: a farmer in tamil nadu committed suicide after recovery agents of a private bank seized his tractor for failing to pay a loan instalment the farmer took â¹7 2 lakh loan which he had to repay in instalments of â¹90 000 after his tractor was seized the farmer went into depression and consumed pesticide that was kept in his house for agricultural use \n",
            "Original summary: farmer kills self after bank recovery agents seize tractor \n",
            "Predicted summary:  farmer kills self after failing to repay bank of loan recovery\n",
            "\n",
            "\n",
            "Review: a 22 year old man was sentenced to death on monday for raping and killing a 14 year old girl in madhya pradesh last year the victim had died a week after sarvesh sen poured kerosene and set her on fire after raping her this is the eleventh case of a person being awarded the death penalty for sexually assaulting a minor this year \n",
            "Original summary: mp man awarded death penalty for raping killing 14 year old \n",
            "Predicted summary:  man kills 6 yr old in mp for killing her death in mp\n",
            "\n",
            "\n",
            "Review: the producers of the tom cruise starrer 'american made' are being sued by the families of two men who died in a september 2015 plane crash on the film's set they have alleged that the production companies ignored safety procedures before the flight in order to save time and money the families hope their lawsuit establishes stricter regulations on safety \n",
            "Original summary: makers of tom cruise film being sued for plane crash on sets \n",
            "Predicted summary:  tom cruise sued over co founder of caribbean film\n",
            "\n",
            "\n",
            "Review: a technical glitch in the ground support systems prompted elon musk led spacex on thursday to call off the first flight of its updated falcon 9 rocket in the final minute of the launch countdown the rocket was set to carry bangladesh's first geostationary communications satellite 'bangabandhu satellite 1' to the orbit spacex said the rocket and payload were in good health \n",
            "Original summary: spacex calls off rocket launch at last minute due to glitch \n",
            "Predicted summary:  spacex sends its first rocket to launch its rocket landing\n",
            "\n",
            "\n",
            "Review: chad netherland from the united states restrained the take off of two cessna aeroplanes in opposite directions for 1 minute and 0 6 seconds setting the guinness world record for the 'longest time restraining two aircraft' he set the record at the richard i bong airport in wisconsin united states in july 2007 \n",
            "Original summary: man holds record for stopping take off of 2 aircraft at once \n",
            "Predicted summary:  man holds record for most runs in an world world record\n",
            "\n",
            "\n",
            "Review: the uk's opposition labour party has called for the delisting of anil agarwal led vedanta resources from london stock exchange after 13 people died during protests against its copper plant in tuticorin vedanta must be immediately delisted to remove its cloak of respectability the party said locals have been demanding the closure of the sterlite copper smelter over pollution concerns \n",
            "Original summary: delist vedanta from london stock exchange uk opposition \n",
            "Predicted summary:  delist vedanta stock from uk stock exchange\n",
            "\n",
            "\n",
            "Review: indian wrestlers anil kumar and jyoti won bronze medals in their respective categories on the second day of the asian wrestling championships in new delhi on thursday anil defeated uzbekistan's muhammadali shamsiddinov 7 6 in the bronze medal play off in the men's greco roman 85 kilogram category india's tally in the tournament now stands at three bronze medals \n",
            "Original summary: indian wrestlers win 2 bronze medals at asian championships \n",
            "Predicted summary:  indian wrestlers win 1st ever medal at asian championships\n",
            "\n",
            "\n",
            "Review: the video of an indian navy seaking 42b helicopter landing on a rooftop to rescue people in the flood hit kerala town of chalakudy on friday has gone viral after rescuing 4 people using a winch the crew landed on the roof to rescue 22 more the pilot said the roof could have collapsed under the chopper's full weight he added \n",
            "Original summary: video chopper lands on roof to rescue kerala flood victims \n",
            "Predicted summary:  video iaf chopper lands on chopper roof in kerala\n",
            "\n",
            "\n",
            "Review: china's sensetime which is the world's highest valued artificial intelligence ai startup at 4 5 billion has raised 620 million as part of its series c funding round the latest round was led by fidelity international hopu capital silver lake and tiger global the announcement comes just months after sensetime said it raised 600 million from alibaba suning com and singapore's temasek \n",
            "Original summary: world's most valued ai startup sensetime raises 620 million \n",
            "Predicted summary:  world's most valued startup lilium raises 90 million\n",
            "\n",
            "\n",
            "Review: the united states of america cricket association usaca is facing expulsion from the international cricket council icc the sport's global governing body revealed on monday icc had suspended the board in 2015 as it claimed that the body did not have unity and did not hold the widespread authority over the country's cricket activities \n",
            "Original summary: usa cricket governing body faces expulsion from icc \n",
            "Predicted summary:  icc issues expulsion of governing cricket governing body\n",
            "\n",
            "\n",
            "Review: noida based digital payments startup pine labs has raised 125 million from singapore based investment firm temasek and american payments giant paypal the funding comes around two months after pine labs raised 82 million in a funding round led by actis capital founded in 1998 pine labs is a provider of retail pos point of sale solutions that simplify payment acceptance \n",
            "Original summary: digital payments startup pine labs raises 125 million \n",
            "Predicted summary:  digital payments startup pine labs raises funds\n",
            "\n",
            "\n",
            "Review: four women were booked on tuesday for allegedly creating ruckus and assaulting police officials in mumbai's bhayander the patrol police including a woman officer was trying to calm the four friends who got into an argument in the area but the group became aggressive and attacked the officials the police arrested three while one of them is on the run \n",
            "Original summary: 4 drunken women assault police officers in mumbai booked \n",
            "Predicted summary:  4 women booked for drunken assaulting cops in mumbai\n",
            "\n",
            "\n",
            "Review: the kerala pradesh congress committee headquarters in thiruvananthapuram was listed for 'sale' on olx for â¹10 000 by a user named aniesh on saturday the post requested interested buyers to contact indian union muslim league or kerala congress mani this comes after several congress leaders opposed the party's decision to back kerala congress mani for elections to a rajya sabha seat \n",
            "Original summary: congress hq in kerala put for sale on olx for â¹10 000 \n",
            "Predicted summary:  kerala congress launches its own scooter as kerala congress\n",
            "\n",
            "\n",
            "Review: india should avoid replicating foreign models of urbanisation like that of china as it may lead to inequitable urbanisation niti aayog vice chairman rajiv kumar has said development in china had only taken place along coastal areas while other regions remained backward kumar added he stressed the need to introduce the concept of rurban to link villages with urban facilities \n",
            "Original summary: india should avoid china like urbanisation niti aayog vc \n",
            "Predicted summary:  india to be concerned on china and urbanisation niti aayog\n",
            "\n",
            "\n",
            "Review: chief of the general staff of the armed forces of russia general valery gerasimov has said that the country's nuclear deterrence is strong enough to ensure a level of unacceptable damage to any potential enemy adding that nearly 74 of the arsenal employs cutting edge technology gerasimov said russia was working on improving the arsenal without violating international laws \n",
            "Original summary: our nukes would cause 'unacceptable damage' to enemy russia \n",
            "Predicted summary:  russia would have been 'unacceptable damage' to enemy russia\n",
            "\n",
            "\n",
            "Review: heavy rains and strong winds have killed 17 people and uprooted nearly 1 4 crore trees across italy with the country's civil protection agency calling the situation apocalyptic many of the victims to date have been killed by falling trees major tourist attractions in rome including the colosseum and roman forum had earlier been shut due to the weather conditions \n",
            "Original summary: 17 dead 1 4 crore trees uprooted in italy's 'apocalyptic' storm \n",
            "Predicted summary:  1 crore trees uprooted in 'apocalyptic' 'apocalyptic' 'apocalyptic' 'apocalyptic' 'apocalyptic' 'apocalyptic'\n",
            "\n",
            "\n",
            "Review: india's first multi wavelength space telescope astrosat has performed the most sensitive measurement of x ray polarisation of a pulsar fast spinning neutron star in the taurus constellation the pulsar powers the crab nebula that formed after a supernova explosion which was recorded by chinese astronomers in the year 1054 astrosat was launched in september 2015 by isro aboard its pslv rocket \n",
            "Original summary: indian space telescope measures star parameters in taurus \n",
            "Predicted summary:  1st space telescope was named after star wars' star wars'\n",
            "\n",
            "\n",
            "Review: india opener rohit sharma has become the fastest cricketer in odi history to reach 200 sixes achieving the feat with his second six in the fifth windies odi on thursday the 31 year old took 187 innings to reach the landmark overtaking shahid afridi's record of 195 innings rohit is only the second indian after ms dhoni to smash 200 odi sixes \n",
            "Original summary: rohit fastest cricketer to smash 200 sixes in odi cricket history \n",
            "Predicted summary:  rohit sharma becomes 2nd most valuable indian in history\n",
            "\n",
            "\n",
            "Review: the delhi government is set to launch 'spoken english' course for government school students from june the students who appeared for class 10 board exam and cleared their pre board exams with subjects with english as a subject are eligible for the course it's a step towards making government schools a viable high quality alternative to expensive private schools officials claimed \n",
            "Original summary: delhi to start 'spoken english' course for govt school kids \n",
            "Predicted summary:  delhi govt to install 'spoken english' school for school\n",
            "\n",
            "\n",
            "Review: the supreme court on friday observed that women must be allowed to abort foetuses with severe abnormalities beyond the legally permissible period of 20 weeks under the medical termination of pregnancy mtp act the sc's observation was based on a woman's petition wherein she sought permission to abort her 25 week foetus as it suffered from cardiac issues \n",
            "Original summary: must allow abortion of 'abnormal' foetuses post 20 weeks sc \n",
            "Predicted summary:  sc allows women to reduce gender sex in school in india\n",
            "\n",
            "\n",
            "Review: the government is open to listing air india after it failed to attract buyers for 76 stake in the company according to reports while several proposals are being considered to revive the divestment process the government will not give control to a foreign entity reports added the government may reportedly consider reducing the debt that the buyer would take over \n",
            "Original summary: govt may list air india after failed divestment reports \n",
            "Predicted summary:  govt to accept air india stake in air india reports\n",
            "\n",
            "\n",
            "Review: india's stand in captain rohit sharma funded the ticket of a sri lankan fan so that he could return home to be with his ailing father indian fan sudhir gautam told rohit that mohammad nilam had to leave earlier than scheduled but was unable to return due to financial constraints indian captain virat kohli also messaged nilam and offered help \n",
            "Original summary: rohit funds sri lankan fan's ticket to be with sick father \n",
            "Predicted summary:  rohit sharma to spend indian ticket ticket for a month reports\n",
            "\n",
            "\n",
            "Review: the counter intelligence wing of punjab police arrested two suspected drug peddlers and recovered four kilograms of heroin from their possession police said on thursday based on a tip off the police intercepted and arrested the two near the attari border a police official added police also recovered a country made pistol a pakistani sim card and a mobile phone from the accused \n",
            "Original summary: punjab police arrest 2 drug peddlers seize 4kg heroin \n",
            "Predicted summary:  drug peddlers found seized in punjab raid on drug trafficking\n",
            "\n",
            "\n",
            "Review: the coa has appointed a three member committee to probe anonymous sexual harassment allegations against bcci ceo rahul johri the panel includes justice rakesh sharma ex cbi director pc sharma and ex chairperson of delhi commission for women barkha singh coa member diana edulji and six associations wanted johri's ouster but coa chairman vinod rai decided an independent inquiry was necessary \n",
            "Original summary: 3 member panel to probe sexual harassment claims against bcci ceo \n",
            "Predicted summary:  bcci ceo probing sexual harassment allegations against bcci ceo\n",
            "\n",
            "\n",
            "Review: a plunge in us stocks on monday cut the fortunes of the world's 500 richest people by 114 billion bloomberg reported berkshire hathaway ceo and world's third richest person warren buffett who lost 5 1 billion was the worst hit facebook ceo mark zuckerberg saw the second biggest decline of 3 6 billion followed by world's richest person jeff bezos who lost 3 2 billion \n",
            "Original summary: world's 500 richest people lose 114 billion in one day \n",
            "Predicted summary:  us billionaire world's largest billionaire in 1 billion\n",
            "\n",
            "\n",
            "Review: the syrian government has called on its citizens fleeing the civil war and terrorist attacks to return home after the liberation of most areas previously under terrorists' control several internally displaced people had returned after their villages were liberated under military operations or reconciliations officials said over 1 crore syrians have fled their homes since the war began in 2011 \n",
            "Original summary: syria calls on citizens fleeing war to return home \n",
            "Predicted summary:  syria asks india to resume military attacks on military war\n",
            "\n",
            "\n",
            "Review: former india captain sourav ganguly has revealed his mother in law had told him after the third day of the 2001 kolkata test against australia that india would win it despite following on i honestly do not know what she was thinking on day 3 because none of us apart from vvs laxman and rahul dravid were thinking that he added \n",
            "Original summary: mom in law predicted india's 2001 kolkata test win ganguly \n",
            "Predicted summary:  my mother predicted me i have been a 'fearless' test ganguly\n",
            "\n",
            "\n",
            "Review: pakistan's national counter terrorism authority has called for enhanced security for mumbai attack mastermind hafiz saeed claiming a foreign intelligence agency was planning to kill him the anti terror body further claimed that the foreign agency had paid rs 80 million to two activists for saeed's assassination saeed has been under house arrest since january 2017 over law and order fears \n",
            "Original summary: foreign agency planning to kill 26 11 attack mastermind pak \n",
            "Predicted summary:  pak asks hafiz saeed's party to kill 26 11 mastermind hafiz saeed\n",
            "\n",
            "\n",
            "Review: sri lankan president maithripala sirisena praised his filipino counterpart rodrigo duterte's war on drugs calling it an example to the world drug menace is rampant in my country and i feel that we should follow your footsteps to control this hazard sirisena told duterte more than 5 000 people have been killed in duterte's drug war which has been condemned globally \n",
            "Original summary: duterte's drug war 'example to the world' sri lanka president \n",
            "Predicted summary:  duterte's drug war 'example to war with drug sl sri lanka\n",
            "\n",
            "\n",
            "Review: a zoo in new zealand's wellington has revealed that a failed attempt to steal squirrel monkeys from one of its enclosures was made on friday night the attempt was foiled as the monkeys fought the thieves the zoo said that some of the monkeys suffered minor injuries while the thieves would have some monkey bites \n",
            "Original summary: monkeys fight thieves who tried to steal them from zoo in nz \n",
            "Predicted summary:  thieves steal 500 million from zoo to steal chocolate\n",
            "\n",
            "\n",
            "Review: technology major apple on thursday demanded all apps including those still in testing to have a privacy policy starting october 3 2018 developers will have to include a link to their privacy policy in the metadata for their app the privacy policies will have to specify details such as how user data is collected and used \n",
            "Original summary: apple demands all apps to have a privacy policy from oct 3 \n",
            "Predicted summary:  apple to allow users to support data of 2018 apps\n",
            "\n",
            "\n",
            "Review: pooja bhatt has said that she will not release the film 'cabaret' until her cast and crew receive the dues owed to them by financiers the film starring richa chadha was scheduled to release in 2016 it is a romantic dance film which is reportedly based on the life of yesteryear actress helen \n",
            "Original summary: won't release cabaret till dues of cast crew cleared pooja \n",
            "Predicted summary:  won't release cabaret dues if i will not be release pooja\n",
            "\n",
            "\n",
            "Review: afghanistan's spin trio of rashid khan mujeeb ur rahman and mohammad nabi registered combined figures of 6 54 in 11 overs to help their side beat bangladesh for the first time in a t20i match on sunday rashid who won the man of the match award later said that performing well at the biggest stage in ipl gave him the confidence \n",
            "Original summary: spinners pick 6 wkts as afghanistan get 1st t20i win vs b'desh \n",
            "Predicted summary:  afghan pacer 1st indian pacer in english history\n",
            "\n",
            "\n",
            "Review: yahoo's first ceo timothy koogle is selling his house for 19 4 million the 5 440 square foot house which was built in 1955 has four bedrooms a guest house and an outdoor terrace adding that he and his wife have a bunch of other properties koogle said we've started to realise that we do not use all those very much which is silly \n",
            "Original summary: yahoo's first ceo to sell his house for 19 4 million \n",
            "Predicted summary:  ceo of ceo in 5 month old's diesel bid for his first time\n",
            "\n",
            "\n",
            "Review: as many as 1 003 cricketers including 232 overseas players have signed up for upcoming ipl auction to fill up the 70 available spots out of the 1 003 200 are capped 800 uncapped and three are from associate nations for the first time cricketers from arunachal pradesh bihar manipur meghalaya mizoram nagaland sikkim uttarakhand and puducherry have registered for the auction \n",
            "Original summary: 1 003 players register for ipl auction only 70 spots to be filled \n",
            "Predicted summary:  ipl 2018 auction to auction players from ipl 2018 auction\n",
            "\n",
            "\n",
            "Review: pune rural police released an official statement stating that no fact finding committee was set up by maharashtra government in the bhima koregaon case further it stated that a committee was formed to have a bilateral dialogue between the police and dalit community the violence had been triggered during a gathering by dalits for the 200th anniversary celebrations of the bhima koregaon battle \n",
            "Original summary: no fact finding panel set up in bhima koregaon case police \n",
            "Predicted summary:  no one of the state of bhima koregaon case maha govt\n",
            "\n",
            "\n",
            "Review: e commerce startup snapdeal has received â¹113 crore in an emergency funding round from existing investor nexus venture partners and co founders kunal bahl and rohit bansal nexus put â¹96 26 crore in the latest round while snapdeal co founders contributed â¹8 45 crore each the emergency funding comes amid reports that snapdeal's largest investor softbank is pushing for a snapdeal flipkart merger \n",
            "Original summary: snapdeal gets â¹113 cr emergency funding from founders nexus \n",
            "Predicted summary:  snapdeal founders others invest in funding at 950 valuation\n",
            "\n",
            "\n",
            "Review: the islamic state has been infiltrated by iraqi spies who relay necessary information to prevent attacks iraq's interior minister qasim al araji has said the government sometimes allows bombs to explode after evacuating civilians so that isis does not know that its networks have been penetrated he added he further said that fake casualty numbers are announced to protect the informants \n",
            "Original summary: isis infiltrated by iraqi spies to prevent attacks minister \n",
            "Predicted summary:  isis infiltrated by iraqi forces to fight iraqi spies\n",
            "\n",
            "\n",
            "Review: after the implementation of gst ticket prices of sporting events in india have become more expensive while ipl tickets will be taxed at the highest rate of 28 other events by recognised sports governing bodies like bcci will be taxed at 18 purchasing sports equipment is now more expensive with sports goods manufacturing being taxed between 12 28 \n",
            "Original summary: how will gst affect the sports industry in india \n",
            "Predicted summary:  gst rate to be auctioned for gst rate in india\n",
            "\n",
            "\n",
            "Review: homegrown cab aggregator ola is reportedly in talks with bengaluru based bike sharing startup vogo automotive to lead a 5 7 million round of funding ola is expected to lead the round with venture capital firms stellaris ventures partners and matrix partners founded in 2016 the startup offers round the clock scooter rental service intended as a cost effective alternative to cabs and autos \n",
            "Original summary: ola to lead 7 mn round in bike sharing startup vogo report \n",
            "Predicted summary:  ola puts 250 million in ola sharing startup vogo report\n",
            "\n",
            "\n",
            "Review: the haryana government has settled the first claim of â¹9 000 under the public insurance scheme ayushman bharat for a baby girl born in karnal's kalpana chawla government medical college the scheme's first beneficiary mousami gave birth to karishma through a caesarean section on august 17 and the claim amount was paid to the treating hospital on august 31 \n",
            "Original summary: ayushman bharat's 1st beneficiary gives birth to girl in haryana \n",
            "Predicted summary:  ayushman bharat's 1st beneficiary gives birth to girl in haryana\n",
            "\n",
            "\n",
            "Review: defence minister nirmala sitharaman has approved induction of women as jawans in the army's corps of military police the women will be inducted in graded manner to eventually comprise 20 of total corps of military police the ministry stated their roles would include probing rape and molestation cases assisting the army wherever required searching or frisking women among other duties \n",
            "Original summary: govt approves inducting women as jawans in army's military police \n",
            "Predicted summary:  defence minister to induct jawans in jawans amid rape shortage\n",
            "\n",
            "\n",
            "Review: denying rumours about daughter neha dhupia being pregnant before marriage her father pradip dhupia said people will keep talking about things and spread rumours as per their wish he added since the two got married early people are thinking otherwise but there is no such thing neha married boyfriend angad bedi on may 10 after dating for almost four years \n",
            "Original summary: neha's father denies rumour of her pregnancy before marriage \n",
            "Predicted summary:  i am not a rumour of marriage sonam on pregnancy rumours\n",
            "\n",
            "\n",
            "Review: artificial intelligence ai will create 2 3 million jobs by 2020 while eliminating 1 8 million according to american research company gartner the jobs will vary by the industry and education will see continuous growing job demand the report said by 2022 one in five workers engaged in mostly non routine tasks will rely on ai to do a job the report added \n",
            "Original summary: ai will create more jobs than it eliminates by 2020 report \n",
            "Predicted summary:  ai to raise 1 million to create jobs in next year report\n",
            "\n",
            "\n",
            "Review: gujarat based cardiologist tejas patel on wednesday conducted a heart surgery on a middle aged woman from 32 km away in the world's first in human telerobotic coronary intervention sitting at akshardham temple patel operated the patient located in ahmedabad's apex heart institute in a 15 minute procedure he used high speed internet and robots to clean the patient's arteries and insert a stent \n",
            "Original summary: gujarat doctor performs heart surgery from 32 km away using robots \n",
            "Predicted summary:  gujarat doc performs heart surgery in gujarat\n",
            "\n",
            "\n",
            "Review: idfc and shriram group have called off their planned merger following disagreements over valuation the proposed deal involved a merger between shriram city union finance and shriram capital with idfc bank while shriram transport finance would have been a standalone unit of the idfc group the merger could have created an organisation reportedly worth over 10 billion \n",
            "Original summary: idfc and shriram group call off their proposed merger \n",
            "Predicted summary:  idfc to acquire idfc deal with idfc merger deal reports\n",
            "\n",
            "\n",
            "Review: ranbir kapoor's cousin aadar jain while talking about the picture which showed him kissing deepika padukone on the cheek said if we are at a party and are clicking photos what is the harm in that it was a great time to enjoy ourselves that's about it he added earlier deepika was called drunk desperate and vulgar after the picture was shared online \n",
            "Original summary: what's the harm aadar on pic showing him kissing deepika \n",
            "Predicted summary:  deepika is the reason to justify khilji to politics ranbir\n",
            "\n",
            "\n",
            "Review: low cost sanitary pads and condoms will be sold at toilet facilities both inside and outside railway stations for passengers as well as people living in its vicinity according to a policy approved by railway board each facility will have separate toilets for men women and persons with disabilities the facilities will be set up at 8 500 railway stations across india \n",
            "Original summary: sanitary napkins condoms to be sold at railway stations \n",
            "Predicted summary:  sanitary napkins to get cheaper at mumbai airport\n",
            "\n",
            "\n",
            "Review: the us has temporarily suspended travel for its officials to parts of myanmar's rakhine state citing concerns over potential protests after us state secretary rex tillerson accused myanmar of ethnic cleansing of rohingya muslims the us held myanmar's military accountable for the crisis which has forced over six lakh rohingya muslims to flee myanmar to escape a military crackdown \n",
            "Original summary: us suspends official travel to myanmar over rohingya crisis \n",
            "Predicted summary:  us cuts travel ban on rohingya return to myanmar\n",
            "\n",
            "\n",
            "Review: the civil aviation ministry has shot down a proposal by delhi international airport limited dial to increase passenger security fee from â¹200 to â¹300 â¹350 however the ministry has proposed to create a consolidated fund to meet the security expenses of the airport dial which owes cisf â¹655 crore had called for increasing the fee citing a severe shortage of funds \n",
            "Original summary: centre does not allow delhi airport to up flyer security fee \n",
            "Predicted summary:  delhi airport to get â¹1 lakh for baggage fee from delhi\n",
            "\n",
            "\n",
            "Review: uttar pradesh deputy cm keshav prasad maurya on tuesday claimed that majority of muslims want ram mandir to be built on the disputed ayodhya site he alleged the congress party does not want consecutive hearings on the dispute in court recently maurya had said the option to pass a bill in parliament for constructing the temple was also open \n",
            "Original summary: majority of muslims want ram mandir in ayodhya up dy cm \n",
            "Predicted summary:  ram temple is a matter of ram temple in ayodhya up cm yogi\n",
            "\n",
            "\n",
            "Review: domestic passengers carrying only hand baggage are set to get a dedicated corridor at delhi airport passengers carrying e boarding passes or web check in printouts will be frisked at the entry gate allowed to bypass the security and check in area and reach the boarding point immediately the cisf also said it wants to replicate the biometric cum bar code reader at the airport \n",
            "Original summary: fast boarding for flyers with only hand baggage at airport \n",
            "Predicted summary:  flyers to get baggage ticket at delhi airport\n",
            "\n",
            "\n",
            "Review: a baby boy who survived after being buried alive just 10 days after his birth was put in a grave in madhya pradesh by his minor mother who conceived him after rape the infant was found on july 3 by a tribal couple and the suspected rapist also a minor was arrested after the girl was traced in maharashtra \n",
            "Original summary: mp âmiracle babyâ was buried alive by rape survivor mother \n",
            "Predicted summary:  newborn mother found dead by a mother in uttar pradesh\n",
            "\n",
            "\n",
            "Review: rashtriya swayamsevak sangh rss ideologue rakesh sinha on saturday slammed cpi m general secretary sitaram yechury saying i think by the next elections the cpi m would be marginalised as kerala is on the path of saffronisation his remark came after yechury said that the saffron brigade is desperately trying to expand its base in the state through violent means \n",
            "Original summary: kerala is on path of saffronisation says rss \n",
            "Predicted summary:  rss chief is the only non muslims in kerala rss chief\n",
            "\n",
            "\n",
            "Review: a hot air balloon crashed in alberta canada minutes after a man proposed marriage to his partner mid air stephen martin had proposed to christine peters who said yes just prior to their hot air balloon getting caught in a downdraft and crashing into trees it was carrying 13 people including a pilot and no one was injured during the incident \n",
            "Original summary: hot air balloon crashes after mid air marriage proposal \n",
            "Predicted summary:  plane flies into air berlin plane flies into air it\n",
            "\n",
            "\n",
            "Review: kerala's trivandrum medical college has withdrawn its ban on male and female students sitting together in classrooms this comes after health minister kk shailaja directed college authorities to submit a report and demanded a probe into the issue after receiving complaints from students the principal has clarified that students would be free to sit in the classrooms without gender segregation \n",
            "Original summary: college scraps ban on male female students sitting together \n",
            "Predicted summary:  kerala school bans students from wearing harassment\n",
            "\n",
            "\n",
            "Review: german police have arrested a man who reportedly attacked football team dortmund's bus to make the team's share prices fall the 28 year old market trader had bought options to short sell stock and would have profited from the team's falling share prices after the attack earlier a letter was found at the attack site suggesting islamist links reportedly to mislead the police \n",
            "Original summary: market trader bombed dortmund bus for financial gain police \n",
            "Predicted summary:  man tries to buy dortmund bus after 1 1 bn he arrested\n",
            "\n",
            "\n",
            "Review: cricket australia board has unanimously agreed not to reduce year long bans imposed on steve smith and david warner and the nine month ban imposed on cameron bancroft for ball tampering this comes after australian cricketers' association called for the suspension to be immediately lifted smith and warner are eight months into their bans while bancroft will be eligible to return in december \n",
            "Original summary: cricket australia refuses to reduce smith and warner's bans \n",
            "Predicted summary:  australia to ban smith from smith warner from england\n",
            "\n",
            "\n",
            "Review: yemen's shaima swileh has been granted a us visa to meet her dying two year old son the council on american islamic relations said swileh's son abdullah hassan who is currently on life support has a degenerative brain disorder swileh was unable to get a us visa due to the trump administration's travel ban on citizens from five muslim majority countries \n",
            "Original summary: yemen mom blocked by trump travel ban gets visa to see dying son \n",
            "Predicted summary:  us official ask indian to dupe son of his son in us\n",
            "\n",
            "\n",
            "Review: rjd supremo lalu prasad yadav on friday confirmed that congress president sonia gandhi will not attend desh bachao bhajpa bhagao rally on august 27 in patna he further said that ghulam nabi azad and cp joshi would attend the rally on her behalf recently bsp chief mayawati also pulled out of the rally and would send satish mishra from her party \n",
            "Original summary: sonia gandhi pulls out of lalu yadav's anti bjp rally \n",
            "Predicted summary:  rahul gandhi will not be in as next party chief lalu prasad\n",
            "\n",
            "\n",
            "Review: pakistan's prime minister nawaz sharif on saturday paid tribute to burhan wani on his death anniversary the blood rendered by burhan muzaffar wani has infused a new spirit in the freedom movement said sharif reaffirming pakistan's support to kashmiris wani terror group hizbul mujahideen's commander was killed by security forces last year prompting a four month long unrest in the valley \n",
            "Original summary: pak pm sharif pays tribute to burhan wani on anniversary \n",
            "Predicted summary:  pak pm sharif pays tribute to burhan wani in tribute\n",
            "\n",
            "\n",
            "Review: a mumbai bengaluru indigo flight returned to the mumbai airport after pilots declared a full emergency shortly after takeoff on tuesday night the emergency was declared due to an engine failure an indigo spokesperson said the flight landed safely at the airport and another plane was arranged for the passengers \n",
            "Original summary: indigo plane suffers engine failure declares full emergency \n",
            "Predicted summary:  indigo plane suffers tyre burst in cockpit\n",
            "\n",
            "\n",
            "Review: us president donald trump has called syrian president bashar al assad an animal and accused him of attacking his own people with chemical weapons even some of the worst tyrants in the world do not use the kind of gas they use trump added he also clarified that the united states will not go to war with syria \n",
            "Original summary: trump calls syrian president assad 'an animal' \n",
            "Predicted summary:  trump calls syrian president assad 'an animal'\n",
            "\n",
            "\n",
            "Review: trivandrum archbishop soosa pakiam has urged all christian schools to include constitution literacy as part of their moral science curriculum stating that children should love the constitution he added it is highly dangerous that hatred and fear are invoked among various groups as a shortcut to power the constitution defines and decides the basic character of a nation he said \n",
            "Original summary: include constitution in academics trivandrum archbishop \n",
            "Predicted summary:  why do not vote to be called muslim body on lgbt violence\n",
            "\n",
            "\n",
            "Review: the cbi registered a case against 19 companies which sent over â¹424 crore in foreign remittances through 700 transactions suspecting it to be a case of money laundering through shell companies cbi alleged that officials of a pnb branch entered into criminal conspiracy with these companies the companies were allegedly sending foreign exchange to hong kong without genuine business transactions \n",
            "Original summary: case filed against 19 firms for sending â¹420 crore abroad \n",
            "Predicted summary:  cbi books cbi firm for cheating in pnb fraud case case\n",
            "\n",
            "\n",
            "Review: delhi police on thursday arrested three isis suspects from jalandhar mumbai and bijnor in a joint operation with the uttar pradesh anti terror squad this comes after the up ats received information of a group being readied to launch terror attacks and recruit new members recently an alleged isis operative suspected of planning a train bombing in madhya pradesh was killed \n",
            "Original summary: 3 isis suspects arrested from jalandhar mumbai bijnor \n",
            "Predicted summary:  delhi police arrests four isis suspects in mumbai\n",
            "\n",
            "\n",
            "Review: whatsapp co founder brian acton has invested 50 million in encrypted messaging app signal to help launch its non profit organisation signal foundation the company said in a blog post acton will also act as the executive chairman of the organisation as part of the deal companies like whatsapp and facebook messenger both use signal's code to encrypt their applications \n",
            "Original summary: whatsapp co founder invests 50 mn in messaging app signal \n",
            "Predicted summary:  whatsapp co founders invest in 1 million in messaging app\n",
            "\n",
            "\n",
            "Review: visa has suspended its ad campaign featuring hollywood actor morgan freeman after he was accused of sexual harassment and inappropriate behaviour by eight women a production assistant alleged freeman kept trying to lift up her skirt and asked if she was wearing underwear vancouver public transit system translink also announced plans to pause its current campaign featuring freeman's voice \n",
            "Original summary: visa suspends morgan freeman ads after sexual harassment row \n",
            "Predicted summary:  govt releases complaint against women over sexual harassment\n",
            "\n",
            "\n",
            "Review: pakistan has expressed concern over the reported sale of advanced weapons to india by some countries saying it would undermine the strategic balance in the region pakistani officials said that the country's national security would be safeguarded at every cost this comes after the us approved the sale of 22 guardian drones worth 2 3 billion to india \n",
            "Original summary: weapons sale to india would destabilize region pakistan \n",
            "Predicted summary:  pakistan to declare india on india amid tensions with pak\n",
            "\n",
            "\n",
            "Review: the andhra pradesh unit of the congress has decided to send e rakhis to prime minister narendra modi in order to pressurise the centre into fulfilling its promises to the state the rakhis reportedly have rahul gandhi's image in the centre and carry slogans about promises made by the centre such as special category status to andhra pradesh among others \n",
            "Original summary: ap congress send rakhis to pm modi asking to fulfil promises \n",
            "Predicted summary:  cong to give pm modi's vote to fulfil promises promises\n",
            "\n",
            "\n",
            "Review: following zaheer khan's engagement to actress sagarika ghatge virender sehwag tweeted zaheer clean bowled by hockey sagarika portrayed the character of a hockey player who was engaged to a cricketer in chak de india zaheer and sagarika confirmed their engagement on twitter on monday with the cricketer posting a picture of the couple in which sagarika is flaunting her ring \n",
            "Original summary: zaheer clean bowled by hockey tweets sehwag \n",
            "Predicted summary:  sehwag of zaheer khan in 2011 wc final match vs aus\n",
            "\n",
            "\n",
            "Review: over 8 lakh people have died of cancer so far in 2018 mos for health anupriya patel said on friday an estimated 15 86 571 cases of cancer have been reported so far this year she added according to a report issued by indian council of medical research in 2016 the estimated number of cancer cases in india was increasing patel stated \n",
            "Original summary: over 8 lakh people died of cancer in 2018 health ministry \n",
            "Predicted summary:  30 deaths in cancer in 5 years in one deaths in 30 years study\n",
            "\n",
            "\n",
            "Review: a us based auction house has put on sale a letter by albert einstein defending his friend friedrich adler who assassinated the austrian minister president during world war i adler proved himself a goodhearted conscientious man and it is my heartfelt desire to intercede for him the physicist wrote to michele besso the only other person credited in einstein's paper on relativity \n",
            "Original summary: einstein's note defending murder accused friend up for sale \n",
            "Predicted summary:  einstein's note to honour einstein's note to rape einstein's\n",
            "\n",
            "\n",
            "Review: billionaire brothers malvinder and shivinder singh have resigned from religare enterprises' board less than a week after they stepped down from fortis healthcare board with this they will not be on the board of any listed company after they quit fortis reports emerged claiming the brothers took at least â¹500 crore from the company without board approval \n",
            "Original summary: billionaire singh brothers quit religare board after fortis \n",
            "Predicted summary:  billionaire singh brothers quit religare board after board denies\n",
            "\n",
            "\n",
            "Review: american singer songwriter ariana grande released a music video 'thank u next' on friday which delayed the posting of youtube comments the video was so good it broke the internet youtube tweeted adding comments are still working on the video they are just delayed the video reportedly received 1 million views in 35 minutes making it the fastest to reach the mark \n",
            "Original summary: ariana's new music video 'breaks internet' slows youtube comments \n",
            "Predicted summary:  ariana's new song 'breaks 'breaks internet' slows youtube comments\n",
            "\n",
            "\n",
            "Review: the iraqi judiciary has been violating the rights of isis suspects with flawed trials and arbitrary detentions under harsh conditions human rights watch alleged on tuesday iraq's handling of isis trials is a missed opportunity to show the world that it is a nation ruled by laws and justice it added recently isis lost the last iraqi town under its control \n",
            "Original summary: iraq's judiciary violating rights of isis suspects watchdog \n",
            "Predicted summary:  isis attacks islamic state in 2018 over offensive war\n",
            "\n",
            "\n"
          ],
          "name": "stdout"
        }
      ]
    },
    {
      "cell_type": "code",
      "metadata": {
        "id": "KG5pHA2KQyc1"
      },
      "source": [
        "encoder_model.save(\"headlines_model_encoder.h5\")\r\n",
        "files.download(\"headlines_model_encoder.h5\")\r\n",
        "\r\n",
        "encoder_model.save(\"headlines_model_decoder.h5\")\r\n",
        "files.download(\"headlines_model_decoder.h5\")"
      ],
      "execution_count": null,
      "outputs": []
    },
    {
      "cell_type": "code",
      "metadata": {
        "id": "2xHEucgvgYD1"
      },
      "source": [
        ""
      ],
      "execution_count": null,
      "outputs": []
    }
  ]
}