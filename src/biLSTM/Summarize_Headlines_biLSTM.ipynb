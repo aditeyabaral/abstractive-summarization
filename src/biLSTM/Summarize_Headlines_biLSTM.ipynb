{
  "nbformat": 4,
  "nbformat_minor": 0,
  "metadata": {
    "colab": {
      "name": "Summarize Headlines",
      "provenance": [],
      "collapsed_sections": [],
      "include_colab_link": true
    },
    "kernelspec": {
      "display_name": "Python 3",
      "language": "python",
      "name": "python3"
    },
    "language_info": {
      "codemirror_mode": {
        "name": "ipython",
        "version": 3
      },
      "file_extension": ".py",
      "mimetype": "text/x-python",
      "name": "python",
      "nbconvert_exporter": "python",
      "pygments_lexer": "ipython3",
      "version": "3.8.3"
    },
    "accelerator": "GPU"
  },
  "cells": [
    {
      "cell_type": "markdown",
      "metadata": {
        "id": "view-in-github",
        "colab_type": "text"
      },
      "source": [
        "<a href=\"https://colab.research.google.com/github/aditeyabaral/abstractive-summarization/blob/main/src/biLSTM/Summarize_Headlines_biLSTM.ipynb\" target=\"_parent\"><img src=\"https://colab.research.google.com/assets/colab-badge.svg\" alt=\"Open In Colab\"/></a>"
      ]
    },
    {
      "cell_type": "markdown",
      "metadata": {
        "id": "9zII8VL8t27G"
      },
      "source": [
        "# Importing Libraries"
      ]
    },
    {
      "cell_type": "code",
      "metadata": {
        "colab": {
          "base_uri": "https://localhost:8080/"
        },
        "id": "eMSAQJ0pvOv1",
        "outputId": "a71eecc0-4a42-46eb-9c02-0b4b6c3359a5"
      },
      "source": [
        "import nltk\n",
        "nltk.download(\"punkt\")"
      ],
      "execution_count": 1,
      "outputs": [
        {
          "output_type": "stream",
          "text": [
            "[nltk_data] Downloading package punkt to /root/nltk_data...\n",
            "[nltk_data]   Unzipping tokenizers/punkt.zip.\n"
          ],
          "name": "stdout"
        },
        {
          "output_type": "execute_result",
          "data": {
            "text/plain": [
              "True"
            ]
          },
          "metadata": {
            "tags": []
          },
          "execution_count": 1
        }
      ]
    },
    {
      "cell_type": "code",
      "metadata": {
        "id": "Hi8UIHCsm2gz"
      },
      "source": [
        "import logging\n",
        "logging.basicConfig(format=\"%(asctime)s : %(levelname)s : %(message)s\", level=logging.INFO)"
      ],
      "execution_count": 2,
      "outputs": []
    },
    {
      "cell_type": "code",
      "metadata": {
        "colab": {
          "base_uri": "https://localhost:8080/"
        },
        "id": "tfhoOjgtq-n_",
        "outputId": "bb45022e-6033-4477-8aa3-b85c15b0f44c"
      },
      "source": [
        "!curl -L -O https://raw.githubusercontent.com/aditeyabaral/abstractive-summarization/main/data/news_summary_more.csv"
      ],
      "execution_count": 3,
      "outputs": [
        {
          "output_type": "stream",
          "text": [
            "  % Total    % Received % Xferd  Average Speed   Time    Time     Time  Current\n",
            "                                 Dload  Upload   Total   Spent    Left  Speed\n",
            "100 39.4M  100 39.4M    0     0  49.4M      0 --:--:-- --:--:-- --:--:-- 49.4M\n"
          ],
          "name": "stdout"
        }
      ]
    },
    {
      "cell_type": "code",
      "metadata": {
        "colab": {
          "base_uri": "https://localhost:8080/"
        },
        "id": "pFNYneClJZg1",
        "outputId": "68aea4a0-8ddf-4b30-9cb4-00091bbe7a57"
      },
      "source": [
        "!curl -L -O https://raw.githubusercontent.com/aditeyabaral/abstractive-summarization/main/src/attention.py"
      ],
      "execution_count": 4,
      "outputs": [
        {
          "output_type": "stream",
          "text": [
            "  % Total    % Received % Xferd  Average Speed   Time    Time     Time  Current\n",
            "                                 Dload  Upload   Total   Spent    Left  Speed\n",
            "\r  0     0    0     0    0     0      0      0 --:--:-- --:--:-- --:--:--     0\r100  5230  100  5230    0     0  52828      0 --:--:-- --:--:-- --:--:-- 52828\n"
          ],
          "name": "stdout"
        }
      ]
    },
    {
      "cell_type": "code",
      "metadata": {
        "colab": {
          "base_uri": "https://localhost:8080/"
        },
        "id": "PSZTQ31sq0Fo",
        "outputId": "239368e8-f8a5-4df3-e4d3-968720dc24e0"
      },
      "source": [
        "import numpy as np\n",
        "import pandas as pd\n",
        "import re\n",
        "import string\n",
        "from google.colab import files\n",
        "from gensim.models import FastText\n",
        "from nltk.tokenize import word_tokenize, sent_tokenize\n",
        "from nltk.corpus import stopwords\n",
        "import matplotlib.pyplot as plt\n",
        "from sklearn.model_selection import train_test_split\n",
        "from tensorflow import keras\n",
        "from keras.preprocessing.text import Tokenizer \n",
        "from keras.preprocessing.sequence import pad_sequences\n",
        "from keras.layers import Input, LSTM, Embedding, Dense, Concatenate, TimeDistributed, Bidirectional\n",
        "from tensorflow.keras.models import Model\n",
        "from keras.utils.vis_utils import plot_model\n",
        "import attention\n",
        "from attention import AttentionLayer"
      ],
      "execution_count": 5,
      "outputs": [
        {
          "output_type": "stream",
          "text": [
            "2021-01-19 02:46:17,536 : INFO : 'pattern' package not found; tag filters are not available for English\n"
          ],
          "name": "stderr"
        }
      ]
    },
    {
      "cell_type": "markdown",
      "metadata": {
        "id": "ylAiZOjet6B7"
      },
      "source": [
        "# Reading Dataset"
      ]
    },
    {
      "cell_type": "code",
      "metadata": {
        "colab": {
          "base_uri": "https://localhost:8080/",
          "height": 224
        },
        "id": "ax16JtDvrQ21",
        "outputId": "02c50d5e-23e9-4df4-f5e8-187e12d24ffa"
      },
      "source": [
        "df = pd.read_csv(\"news_summary_more.csv\")\n",
        "# df.drop(columns=[\"Unnamed: 0\"], inplace=True)\n",
        "print(df.shape)\n",
        "df.head()"
      ],
      "execution_count": 6,
      "outputs": [
        {
          "output_type": "stream",
          "text": [
            "(98401, 2)\n"
          ],
          "name": "stdout"
        },
        {
          "output_type": "execute_result",
          "data": {
            "text/html": [
              "<div>\n",
              "<style scoped>\n",
              "    .dataframe tbody tr th:only-of-type {\n",
              "        vertical-align: middle;\n",
              "    }\n",
              "\n",
              "    .dataframe tbody tr th {\n",
              "        vertical-align: top;\n",
              "    }\n",
              "\n",
              "    .dataframe thead th {\n",
              "        text-align: right;\n",
              "    }\n",
              "</style>\n",
              "<table border=\"1\" class=\"dataframe\">\n",
              "  <thead>\n",
              "    <tr style=\"text-align: right;\">\n",
              "      <th></th>\n",
              "      <th>headlines</th>\n",
              "      <th>text</th>\n",
              "    </tr>\n",
              "  </thead>\n",
              "  <tbody>\n",
              "    <tr>\n",
              "      <th>0</th>\n",
              "      <td>upGrad learner switches to career in ML &amp; Al w...</td>\n",
              "      <td>Saurav Kant, an alumnus of upGrad and IIIT-B's...</td>\n",
              "    </tr>\n",
              "    <tr>\n",
              "      <th>1</th>\n",
              "      <td>Delhi techie wins free food from Swiggy for on...</td>\n",
              "      <td>Kunal Shah's credit card bill payment platform...</td>\n",
              "    </tr>\n",
              "    <tr>\n",
              "      <th>2</th>\n",
              "      <td>New Zealand end Rohit Sharma-led India's 12-ma...</td>\n",
              "      <td>New Zealand defeated India by 8 wickets in the...</td>\n",
              "    </tr>\n",
              "    <tr>\n",
              "      <th>3</th>\n",
              "      <td>Aegon life iTerm insurance plan helps customer...</td>\n",
              "      <td>With Aegon Life iTerm Insurance plan, customer...</td>\n",
              "    </tr>\n",
              "    <tr>\n",
              "      <th>4</th>\n",
              "      <td>Have known Hirani for yrs, what if MeToo claim...</td>\n",
              "      <td>Speaking about the sexual harassment allegatio...</td>\n",
              "    </tr>\n",
              "  </tbody>\n",
              "</table>\n",
              "</div>"
            ],
            "text/plain": [
              "                                           headlines                                               text\n",
              "0  upGrad learner switches to career in ML & Al w...  Saurav Kant, an alumnus of upGrad and IIIT-B's...\n",
              "1  Delhi techie wins free food from Swiggy for on...  Kunal Shah's credit card bill payment platform...\n",
              "2  New Zealand end Rohit Sharma-led India's 12-ma...  New Zealand defeated India by 8 wickets in the...\n",
              "3  Aegon life iTerm insurance plan helps customer...  With Aegon Life iTerm Insurance plan, customer...\n",
              "4  Have known Hirani for yrs, what if MeToo claim...  Speaking about the sexual harassment allegatio..."
            ]
          },
          "metadata": {
            "tags": []
          },
          "execution_count": 6
        }
      ]
    },
    {
      "cell_type": "markdown",
      "metadata": {
        "id": "HcCQZgE4t9GW"
      },
      "source": [
        "# Preprocessing Data"
      ]
    },
    {
      "cell_type": "code",
      "metadata": {
        "id": "1hVOo-IAqIQp"
      },
      "source": [
        "def formatArticleHeader(text):\n",
        "  text = text.strip().split(\"\\n\\n\")\n",
        "  header = text[0] + \". \"\n",
        "  del text[0]\n",
        "  #text[0] = header + text[0]\n",
        "  text = \"\\n\\n\".join(text)\n",
        "  return text"
      ],
      "execution_count": 7,
      "outputs": []
    },
    {
      "cell_type": "code",
      "metadata": {
        "id": "Iew5JvgErXw0"
      },
      "source": [
        "def cleanText(text):\n",
        "  contraction_mapping = {\"ain't\": \"is not\", \"aren't\": \"are not\",\"can't\": \"cannot\", \"'cause\": \"because\", \"could've\": \"could have\", \"couldn't\": \"could not\", \"didn't\": \"did not\", \"doesn't\": \"does not\", \"don't\": \"do not\", \"hadn't\": \"had not\", \"hasn't\": \"has not\", \"haven't\": \"have not\", \"he'd\": \"he would\",\"he'll\": \"he will\", \"he's\": \"he is\", \"how'd\": \"how did\", \"how'd'y\": \"how do you\", \"how'll\": \"how will\", \"how's\": \"how is\", \"I'd\": \"I would\", \"I'd've\": \"I would have\", \"I'll\": \"I will\", \"I'll've\": \"I will have\",\"I'm\": \"I am\", \"I've\": \"I have\", \"i'd\": \"i would\", \"i'd've\": \"i would have\", \"i'll\": \"i will\",  \"i'll've\": \"i will have\",\"i'm\": \"i am\", \"i've\": \"i have\", \"isn't\": \"is not\", \"it'd\": \"it would\", \"it'd've\": \"it would have\", \"it'll\": \"it will\", \"it'll've\": \"it will have\",\"it's\": \"it is\", \"let's\": \"let us\", \"ma'am\": \"madam\", \"mayn't\": \"may not\", \"might've\": \"might have\",\"mightn't\": \"might not\",\"mightn't've\": \"might not have\", \"must've\": \"must have\", \"mustn't\": \"must not\", \"mustn't've\": \"must not have\", \"needn't\": \"need not\", \"needn't've\": \"need not have\",\"o'clock\": \"of the clock\", \"oughtn't\": \"ought not\", \"oughtn't've\": \"ought not have\", \"shan't\": \"shall not\", \"sha'n't\": \"shall not\", \"shan't've\": \"shall not have\", \"she'd\": \"she would\", \"she'd've\": \"she would have\", \"she'll\": \"she will\", \"she'll've\": \"she will have\", \"she's\": \"she is\", \"should've\": \"should have\", \"shouldn't\": \"should not\", \"shouldn't've\": \"should not have\", \"so've\": \"so have\",\"so's\": \"so as\", \"this's\": \"this is\",\"that'd\": \"that would\", \"that'd've\": \"that would have\", \"that's\": \"that is\", \"there'd\": \"there would\", \"there'd've\": \"there would have\", \"there's\": \"there is\", \"here's\": \"here is\",\"they'd\": \"they would\", \"they'd've\": \"they would have\", \"they'll\": \"they will\", \"they'll've\": \"they will have\", \"they're\": \"they are\", \"they've\": \"they have\", \"to've\": \"to have\", \"wasn't\": \"was not\", \"we'd\": \"we would\", \"we'd've\": \"we would have\", \"we'll\": \"we will\", \"we'll've\": \"we will have\", \"we're\": \"we are\", \"we've\": \"we have\", \"weren't\": \"were not\", \"what'll\": \"what will\", \"what'll've\": \"what will have\", \"what're\": \"what are\", \"what's\": \"what is\", \"what've\": \"what have\", \"when's\": \"when is\", \"when've\": \"when have\", \"where'd\": \"where did\", \"where's\": \"where is\", \"where've\": \"where have\", \"who'll\": \"who will\", \"who'll've\": \"who will have\", \"who's\": \"who is\", \"who've\": \"who have\", \"why's\": \"why is\", \"why've\": \"why have\", \"will've\": \"will have\", \"won't\": \"will not\", \"won't've\": \"will not have\", \"would've\": \"would have\", \"wouldn't\": \"would not\", \"wouldn't've\": \"would not have\", \"y'all\": \"you all\", \"y'all'd\": \"you all would\",\"y'all'd've\": \"you all would have\",\"y'all're\": \"you all are\",\"y'all've\": \"you all have\", \"you'd\": \"you would\", \"you'd've\": \"you would have\", \"you'll\": \"you will\", \"you'll've\": \"you will have\", \"you're\": \"you are\", \"you've\": \"you have\"}\n",
        "  text = text.lower()\n",
        "  text = re.sub(\" +\", \" \", text)\n",
        "  text = re.sub(\"\\n+\", \" \", text)\n",
        "  text = \" \".join([contraction_mapping[w] if w in contraction_mapping else w for w in text.split()])\n",
        "  return text\n",
        "\n",
        "  # more preprocessing\n",
        "  text = re.sub(\"[^a-zA-Z0-9\\n]\", \" \", text)\n",
        "  text = re.sub(r'\\([^)]*\\)', '', text)\n",
        "  text = re.sub('\"','', text)\n",
        "  text = re.sub(r\"'s\\b\",\"\",text)\n",
        "  return text "
      ],
      "execution_count": 8,
      "outputs": []
    },
    {
      "cell_type": "code",
      "metadata": {
        "id": "8AelLqhPvJwz"
      },
      "source": [
        "# df[\"text\"] = df[\"text\"].apply(lambda x: formatArticleHeader(x))\n",
        "df[\"text\"] = df[\"text\"].apply(lambda x: cleanText(x))\n",
        "df[\"headlines\"] = df[\"headlines\"].apply(lambda x: \"starttoken \" + cleanText(x) + \" endtoken\")"
      ],
      "execution_count": 9,
      "outputs": []
    },
    {
      "cell_type": "code",
      "metadata": {
        "colab": {
          "base_uri": "https://localhost:8080/",
          "height": 206
        },
        "id": "L3YFKx6ovhsa",
        "outputId": "302c858d-6ecc-42a1-b612-1c4726318459"
      },
      "source": [
        "df.head()"
      ],
      "execution_count": 10,
      "outputs": [
        {
          "output_type": "execute_result",
          "data": {
            "text/html": [
              "<div>\n",
              "<style scoped>\n",
              "    .dataframe tbody tr th:only-of-type {\n",
              "        vertical-align: middle;\n",
              "    }\n",
              "\n",
              "    .dataframe tbody tr th {\n",
              "        vertical-align: top;\n",
              "    }\n",
              "\n",
              "    .dataframe thead th {\n",
              "        text-align: right;\n",
              "    }\n",
              "</style>\n",
              "<table border=\"1\" class=\"dataframe\">\n",
              "  <thead>\n",
              "    <tr style=\"text-align: right;\">\n",
              "      <th></th>\n",
              "      <th>headlines</th>\n",
              "      <th>text</th>\n",
              "    </tr>\n",
              "  </thead>\n",
              "  <tbody>\n",
              "    <tr>\n",
              "      <th>0</th>\n",
              "      <td>starttoken upgrad learner switches to career i...</td>\n",
              "      <td>saurav kant, an alumnus of upgrad and iiit-b's...</td>\n",
              "    </tr>\n",
              "    <tr>\n",
              "      <th>1</th>\n",
              "      <td>starttoken delhi techie wins free food from sw...</td>\n",
              "      <td>kunal shah's credit card bill payment platform...</td>\n",
              "    </tr>\n",
              "    <tr>\n",
              "      <th>2</th>\n",
              "      <td>starttoken new zealand end rohit sharma-led in...</td>\n",
              "      <td>new zealand defeated india by 8 wickets in the...</td>\n",
              "    </tr>\n",
              "    <tr>\n",
              "      <th>3</th>\n",
              "      <td>starttoken aegon life iterm insurance plan hel...</td>\n",
              "      <td>with aegon life iterm insurance plan, customer...</td>\n",
              "    </tr>\n",
              "    <tr>\n",
              "      <th>4</th>\n",
              "      <td>starttoken have known hirani for yrs, what if ...</td>\n",
              "      <td>speaking about the sexual harassment allegatio...</td>\n",
              "    </tr>\n",
              "  </tbody>\n",
              "</table>\n",
              "</div>"
            ],
            "text/plain": [
              "                                           headlines                                               text\n",
              "0  starttoken upgrad learner switches to career i...  saurav kant, an alumnus of upgrad and iiit-b's...\n",
              "1  starttoken delhi techie wins free food from sw...  kunal shah's credit card bill payment platform...\n",
              "2  starttoken new zealand end rohit sharma-led in...  new zealand defeated india by 8 wickets in the...\n",
              "3  starttoken aegon life iterm insurance plan hel...  with aegon life iterm insurance plan, customer...\n",
              "4  starttoken have known hirani for yrs, what if ...  speaking about the sexual harassment allegatio..."
            ]
          },
          "metadata": {
            "tags": []
          },
          "execution_count": 10
        }
      ]
    },
    {
      "cell_type": "markdown",
      "metadata": {
        "id": "AZPW_R7alV-g"
      },
      "source": [
        "# Training fastText"
      ]
    },
    {
      "cell_type": "code",
      "metadata": {
        "id": "03-Myx1Iha3M"
      },
      "source": [
        "X_words = list(map(word_tokenize, df[\"text\"].values))\n",
        "y_words = list(map(word_tokenize, df[\"headlines\"].values))"
      ],
      "execution_count": 11,
      "outputs": []
    },
    {
      "cell_type": "code",
      "metadata": {
        "id": "G25tmg6slY0m",
        "colab": {
          "base_uri": "https://localhost:8080/",
          "height": 54
        },
        "outputId": "fad79700-122b-4d3e-e8d6-9d8064b544e6"
      },
      "source": [
        "\"\"\"ft_model = FastText(min_count=1)\n",
        "ft_model.build_vocab(sentences=X_words+y_words)\n",
        "ft_model.train(sentences=X_words+y_words, total_examples=ft_model.corpus_count, epochs=10)\"\"\""
      ],
      "execution_count": 12,
      "outputs": [
        {
          "output_type": "execute_result",
          "data": {
            "application/vnd.google.colaboratory.intrinsic+json": {
              "type": "string"
            },
            "text/plain": [
              "'ft_model = FastText(min_count=1)\\nft_model.build_vocab(sentences=X_words+y_words)\\nft_model.train(sentences=X_words+y_words, total_examples=ft_model.corpus_count, epochs=10)'"
            ]
          },
          "metadata": {
            "tags": []
          },
          "execution_count": 12
        }
      ]
    },
    {
      "cell_type": "code",
      "metadata": {
        "id": "TkKmA5iNsspD"
      },
      "source": [
        "#word2embedding = {word:ft_model.wv.get_vector(word) for word in list(ft_model.wv.vocab)}"
      ],
      "execution_count": 13,
      "outputs": []
    },
    {
      "cell_type": "markdown",
      "metadata": {
        "id": "c6MvRwwPgklr"
      },
      "source": [
        "# Finding Sequence Parameters"
      ]
    },
    {
      "cell_type": "code",
      "metadata": {
        "id": "3xd3T3HxiglM"
      },
      "source": [
        "X_text = df[\"text\"].values\n",
        "y_text = df[\"headlines\"].values"
      ],
      "execution_count": 14,
      "outputs": []
    },
    {
      "cell_type": "code",
      "metadata": {
        "id": "9-V9iPCYeJLm",
        "colab": {
          "base_uri": "https://localhost:8080/"
        },
        "outputId": "34e2c5f6-4598-404b-9aee-a0d6c06c93cd"
      },
      "source": [
        "Tx = len(max(X_words, key=len))\n",
        "Ty = len(max(y_words, key=len))\n",
        "print(f\"Tx = {Tx}\\nTy = {Ty}\")"
      ],
      "execution_count": 15,
      "outputs": [
        {
          "output_type": "stream",
          "text": [
            "Tx = 98\n",
            "Ty = 22\n"
          ],
          "name": "stdout"
        }
      ]
    },
    {
      "cell_type": "code",
      "metadata": {
        "id": "BpU9FeI_i5wE",
        "colab": {
          "base_uri": "https://localhost:8080/"
        },
        "outputId": "6a58f7e2-3135-47c4-d404-b8fc878b86d6"
      },
      "source": [
        "tokenizer_X = Tokenizer()\n",
        "tokenizer_X.fit_on_texts(list(X_text))\n",
        "X_seq = tokenizer_X.texts_to_sequences(X_text)\n",
        "X_seq = pad_sequences(X_seq,  maxlen=Tx, padding='post') \n",
        "vocab_size_X = len(tokenizer_X.word_index) + 1 \n",
        "\n",
        "tokenizer_y = Tokenizer()\n",
        "tokenizer_y.fit_on_texts(list(y_text))\n",
        "y_seq = tokenizer_y.texts_to_sequences(y_text)\n",
        "y_seq = pad_sequences(y_seq,  maxlen=Ty, padding='post') \n",
        "vocab_size_y = len(tokenizer_y.word_index) + 1 \n",
        "\n",
        "print(f\"Vocabulary Size of X = {vocab_size_X}\\nVocabulary Size of y = {vocab_size_y}\")"
      ],
      "execution_count": 16,
      "outputs": [
        {
          "output_type": "stream",
          "text": [
            "Vocabulary Size of X = 101008\n",
            "Vocabulary Size of y = 44791\n"
          ],
          "name": "stdout"
        }
      ]
    },
    {
      "cell_type": "code",
      "metadata": {
        "id": "m4EQDuQPL_mw",
        "colab": {
          "base_uri": "https://localhost:8080/"
        },
        "outputId": "2dea2053-e64f-47bf-a57c-4f860baee9a0"
      },
      "source": [
        "X_seq.shape, y_seq.shape"
      ],
      "execution_count": 17,
      "outputs": [
        {
          "output_type": "execute_result",
          "data": {
            "text/plain": [
              "((98401, 98), (98401, 22))"
            ]
          },
          "metadata": {
            "tags": []
          },
          "execution_count": 17
        }
      ]
    },
    {
      "cell_type": "markdown",
      "metadata": {
        "id": "FLD1y02JsQVi"
      },
      "source": [
        "# Creating Sequences"
      ]
    },
    {
      "cell_type": "code",
      "metadata": {
        "id": "641jZljEhLD_",
        "colab": {
          "base_uri": "https://localhost:8080/"
        },
        "outputId": "6c8dc5e9-4ffc-4572-c83e-c6278c1e0078"
      },
      "source": [
        "X_train, X_test, y_train, y_test = train_test_split(X_seq, y_seq, test_size=0.05, random_state=42)\n",
        "X_train.shape, X_test.shape, y_train.shape, y_test.shape"
      ],
      "execution_count": 18,
      "outputs": [
        {
          "output_type": "execute_result",
          "data": {
            "text/plain": [
              "((93480, 98), (4921, 98), (93480, 22), (4921, 22))"
            ]
          },
          "metadata": {
            "tags": []
          },
          "execution_count": 18
        }
      ]
    },
    {
      "cell_type": "markdown",
      "metadata": {
        "id": "66T3f7P7kpJu"
      },
      "source": [
        "# Building Model"
      ]
    },
    {
      "cell_type": "code",
      "metadata": {
        "id": "aBGpdXPad3IQ"
      },
      "source": [
        "latent_dim=512"
      ],
      "execution_count": 19,
      "outputs": []
    },
    {
      "cell_type": "code",
      "metadata": {
        "id": "TDL0OBtulCtG",
        "colab": {
          "base_uri": "https://localhost:8080/",
          "height": 672
        },
        "outputId": "f73af6c2-0ca7-4bfa-ef5a-32cbabc78452"
      },
      "source": [
        "#encoder\n",
        "encoder_input = Input(shape=(Tx, ))\n",
        "  \n",
        "encoder_embedding =  Embedding(vocab_size_X, 100, trainable=True)(encoder_input)\n",
        "\n",
        "encoder_LSTM_1 = Bidirectional(LSTM(latent_dim, return_state=True, return_sequences=True))\n",
        "encoder_output, forward_h, forward_c, backward_h, backward_c = encoder_LSTM_1(encoder_embedding)\n",
        "\n",
        "# encoder_LSTM_2 = Bidirectional(LSTM(latent_dim, return_state=True, return_sequences=True))\n",
        "# encoder_output, forward_h, forward_c, backward_h, backward_c = encoder_LSTM_2(encoder_output)\n",
        "\n",
        "state_h = Concatenate()([forward_h, backward_h])\n",
        "state_c = Concatenate()([forward_c, backward_c])\n",
        "encoder_states = [state_h, state_c]\n",
        "\n",
        "\n",
        "#decoder\n",
        "decoder_input = Input(shape=(None, ))\n",
        "  \n",
        "decoder_embedding_layer = Embedding(vocab_size_y, 100, trainable=True)\n",
        "decoder_embedding = decoder_embedding_layer(decoder_input)\n",
        "\n",
        "decoder_LSTM_1 = LSTM(2*latent_dim, return_state=True, return_sequences=True)\n",
        "decoder_output, decoder_fwd_state, decoder_back_state = decoder_LSTM_1(decoder_embedding, initial_state=encoder_states)\n",
        "\n",
        "\n",
        "# attention\n",
        "attention_layer = AttentionLayer()\n",
        "attention_output, attention_states = attention_layer([encoder_output, decoder_output])\n",
        "decoder_concat = Concatenate(axis=-1)([decoder_output, attention_output])\n",
        "\n",
        "decoder_dense = TimeDistributed(Dense(vocab_size_y, activation='softmax'))\n",
        "decoder_output = decoder_dense(decoder_concat)\n",
        "\n",
        "model = Model([encoder_input, decoder_input], decoder_output)\n",
        "model.compile(optimizer=\"adam\", loss=\"sparse_categorical_crossentropy\", metrics=[\"accuracy\"])\n",
        "plot_model(model, show_shapes=True)"
      ],
      "execution_count": 20,
      "outputs": [
        {
          "output_type": "execute_result",
          "data": {
            "image/png": "[encoded data removed]",
            "text/plain": [
              "<IPython.core.display.Image object>"
            ]
          },
          "metadata": {
            "tags": []
          },
          "execution_count": 20
        }
      ]
    },
    {
      "cell_type": "code",
      "metadata": {
        "id": "5MvxEcXMJR2O",
        "colab": {
          "base_uri": "https://localhost:8080/"
        },
        "outputId": "5abe310e-c17e-4bf6-a7ef-29b5e780bbde"
      },
      "source": [
        "history = model.fit(\n",
        "    [X_train, y_train[:,:-1]], \n",
        "    y_train.reshape(y_train.shape[0],y_train.shape[1], 1)[:,1:],\n",
        "    epochs=7,\n",
        "    batch_size=128, \n",
        "    validation_data=([X_test, y_test[:,:-1]], y_test.reshape(y_test.shape[0],y_test.shape[1], 1)[:,1:])\n",
        "    )"
      ],
      "execution_count": 21,
      "outputs": [
        {
          "output_type": "stream",
          "text": [
            "Epoch 1/7\n",
            "731/731 [==============================] - 986s 1s/step - loss: 4.2283 - accuracy: 0.5251 - val_loss: 3.5015 - val_accuracy: 0.5583\n",
            "Epoch 2/7\n",
            "731/731 [==============================] - 996s 1s/step - loss: 3.2841 - accuracy: 0.5662 - val_loss: 3.0111 - val_accuracy: 0.5838\n",
            "Epoch 3/7\n",
            "731/731 [==============================] - 1000s 1s/step - loss: 2.7164 - accuracy: 0.5954 - val_loss: 2.7731 - val_accuracy: 0.6020\n",
            "Epoch 4/7\n",
            "731/731 [==============================] - 1004s 1s/step - loss: 2.2782 - accuracy: 0.6231 - val_loss: 2.6524 - val_accuracy: 0.6145\n",
            "Epoch 5/7\n",
            "731/731 [==============================] - 1005s 1s/step - loss: 1.8811 - accuracy: 0.6581 - val_loss: 2.6088 - val_accuracy: 0.6207\n",
            "Epoch 6/7\n",
            "731/731 [==============================] - 1007s 1s/step - loss: 1.5216 - accuracy: 0.7048 - val_loss: 2.5905 - val_accuracy: 0.6254\n",
            "Epoch 7/7\n",
            "731/731 [==============================] - 1010s 1s/step - loss: 1.2155 - accuracy: 0.7523 - val_loss: 2.6018 - val_accuracy: 0.6278\n"
          ],
          "name": "stdout"
        }
      ]
    },
    {
      "cell_type": "code",
      "metadata": {
        "id": "9jeLhT7tJR2P",
        "colab": {
          "base_uri": "https://localhost:8080/",
          "height": 265
        },
        "outputId": "f2492288-c24b-4f5e-8203-bd150b9ca6cf"
      },
      "source": [
        "plt.plot(history.history['loss'], label='train')\n",
        "plt.plot(history.history['val_loss'], label='test')\n",
        "plt.legend()\n",
        "plt.show()"
      ],
      "execution_count": 22,
      "outputs": [
        {
          "output_type": "display_data",
          "data": {
            "image/png": "[encoded data removed]",
            "text/plain": [
              "<Figure size 432x288 with 1 Axes>"
            ]
          },
          "metadata": {
            "tags": [],
            "needs_background": "light"
          }
        }
      ]
    },
    {
      "cell_type": "code",
      "metadata": {
        "id": "C4CloqWX30D9"
      },
      "source": [
        "reverse_target_word_index = tokenizer_y.index_word\r\n",
        "reverse_source_word_index = tokenizer_X.index_word\r\n",
        "target_word_index = tokenizer_y.word_index"
      ],
      "execution_count": 23,
      "outputs": []
    },
    {
      "cell_type": "code",
      "metadata": {
        "id": "_PkYgEH830Kw"
      },
      "source": [
        "# Encode the input sequence to get the feature vector\r\n",
        "encoder_model = Model(inputs=encoder_input, outputs=[encoder_output, state_h, state_c])\r\n",
        "\r\n",
        "# Decoder setup\r\n",
        "# Below tensors will hold the states of the previous time step\r\n",
        "decoder_state_input_h = Input(shape=(2 * latent_dim,))\r\n",
        "decoder_state_input_c = Input(shape=(2 * latent_dim,))\r\n",
        "decoder_hidden_state_input = Input(shape=(Tx, 2 * latent_dim))"
      ],
      "execution_count": 24,
      "outputs": []
    },
    {
      "cell_type": "code",
      "metadata": {
        "id": "tskOpHcc30Qe"
      },
      "source": [
        "dec_emb2 = decoder_embedding_layer(decoder_input) \r\n",
        "# To predict the next word in the sequence, set the initial states to the states from the previous time step\r\n",
        "decoder_outputs2, state_h2, state_c2 = decoder_LSTM_1(dec_emb2, initial_state=[decoder_state_input_h, decoder_state_input_c])\r\n",
        "\r\n",
        "#attention inference\r\n",
        "attn_out_inf, attn_states_inf = attention_layer([decoder_hidden_state_input, decoder_outputs2])\r\n",
        "decoder_inf_concat = Concatenate(axis=-1, name='concat')([decoder_outputs2, attn_out_inf])\r\n",
        "\r\n",
        "# A dense softmax layer to generate prob dist. over the target vocabulary\r\n",
        "decoder_outputs2 = decoder_dense(decoder_inf_concat) \r\n",
        "\r\n",
        "# Final decoder model\r\n",
        "decoder_model = Model(\r\n",
        "    [decoder_input] + [decoder_hidden_state_input,decoder_state_input_h, decoder_state_input_c],\r\n",
        "    [decoder_outputs2] + [state_h2, state_c2])"
      ],
      "execution_count": 25,
      "outputs": []
    },
    {
      "cell_type": "code",
      "metadata": {
        "id": "ZsZ6kbav-vqt"
      },
      "source": [
        "def decode_sequence(input_seq):\r\n",
        "    # Encode the input as state vectors.\r\n",
        "    e_out, e_h, e_c = encoder_model.predict(input_seq)\r\n",
        "    \r\n",
        "    # Generate empty target sequence of length 1.\r\n",
        "    target_seq = np.zeros((1,1))\r\n",
        "    \r\n",
        "    # Populate the first word of target sequence with the start word.\r\n",
        "    target_seq[0, 0] = target_word_index['starttoken']\r\n",
        "\r\n",
        "    stop_condition = False\r\n",
        "    decoded_sentence = ''\r\n",
        "    while not stop_condition:\r\n",
        "      \r\n",
        "        output_tokens, h, c = decoder_model.predict([target_seq] + [e_out, e_h, e_c])\r\n",
        "\r\n",
        "        # Sample a token\r\n",
        "        sampled_token_index = np.argmax(output_tokens[0, -1, :])\r\n",
        "        sampled_token = reverse_target_word_index[sampled_token_index]\r\n",
        "        \r\n",
        "        if(sampled_token!='endtoken'):\r\n",
        "            decoded_sentence += ' '+sampled_token\r\n",
        "\r\n",
        "        # Exit condition: either hit max length or find stop word.\r\n",
        "        if (sampled_token == 'endtoken'  or len(decoded_sentence.split()) >= (Ty-1)):\r\n",
        "            stop_condition = True\r\n",
        "\r\n",
        "        # Update the target sequence (of length 1).\r\n",
        "        target_seq = np.zeros((1,1))\r\n",
        "        target_seq[0, 0] = sampled_token_index\r\n",
        "\r\n",
        "        # Update internal states\r\n",
        "        e_h, e_c = h, c\r\n",
        "\r\n",
        "    return decoded_sentence"
      ],
      "execution_count": 26,
      "outputs": []
    },
    {
      "cell_type": "code",
      "metadata": {
        "id": "ip4lHQGo_i1f"
      },
      "source": [
        "def seq2summary(input_seq):\r\n",
        "    newString=''\r\n",
        "    for i in input_seq:\r\n",
        "        if((i!=0 and i!=target_word_index['starttoken']) and i!=target_word_index['endtoken']):\r\n",
        "            newString=newString+reverse_target_word_index[i]+' '\r\n",
        "    return newString\r\n",
        "\r\n",
        "def seq2text(input_seq):\r\n",
        "    newString=''\r\n",
        "    for i in input_seq:\r\n",
        "        if(i!=0):\r\n",
        "            newString=newString+reverse_source_word_index[i]+' '\r\n",
        "    return newString"
      ],
      "execution_count": 27,
      "outputs": []
    },
    {
      "cell_type": "code",
      "metadata": {
        "colab": {
          "base_uri": "https://localhost:8080/"
        },
        "id": "meeV82aL_kj-",
        "outputId": "65cd9e50-f793-4ed6-efdb-53dd9b56378c"
      },
      "source": [
        "for i in range(100):\r\n",
        "    print(\"Review:\",seq2text(X_train[i]))\r\n",
        "    print(\"Original summary:\",seq2summary(y_train[i]))\r\n",
        "    print(\"Predicted summary:\",decode_sequence(X_train[i].reshape(1, Tx)))\r\n",
        "    print(\"\\n\")"
      ],
      "execution_count": 28,
      "outputs": [
        {
          "output_type": "stream",
          "text": [
            "Review: army jawan rajendra singh lost his life when a group of youths hurled stones at an army vehicle in jammu and kashmir an army official informed on friday the 22 year old jawan was part of a quick reaction team providing security to a border roads organisation convoy and was attacked when the convoy was passing through anantnag bypass tri junction \n",
            "Original summary: 22 yr old jawan dies after being hit by stones thrown by youths \n",
            "Predicted summary:  army jawan shot dead by army jawan in j k army camp\n",
            "\n",
            "\n",
            "Review: ibrahim shaik a 28 year old plumber working on the sets of the tamil version of the reality show 'bigg boss' died of a seizure after he collapsed while at work shaik was given emergency medical aid before being taken to chennai's kilpauk medical college hospital where he was declared brought dead the local police have registered a case regarding the incident \n",
            "Original summary: worker dies on sets of tamil version of 'bigg boss' \n",
            "Predicted summary:  mumbai man dies after sets of rajinikanth's kaala at mumbai house\n",
            "\n",
            "\n",
            "Review: the 2015 nuclear deal agreed between iran and the world powers is not a bilateral agreement and it is not up to any single country to terminate it the european union foreign policy chief federica mogherini has said this comes after us president donald trump announced that he will not certify iran's compliance with the pact n \n",
            "Original summary: not up to any single country to end iran nuclear deal eu \n",
            "Predicted summary:  iran may not be able to deal with iran nuclear deal\n",
            "\n",
            "\n",
            "Review: a 38 year old man who killed 10 people in over six months in prayagraj formerly allahabad and nearby areas was arrested from kumbh mela said the police the accused would attack sleeping individuals with sharp edged weapons and cover their faces with their own garments identified as kaluwa from basahara village he was nabbed with the help of cctv footage \n",
            "Original summary: serial killer who killed 10 people in 6 months held at kumbh mela \n",
            "Predicted summary:  man killed in 6 month old building tank in up to be arrested\n",
            "\n",
            "\n",
            "Review: the government will celebrate july 1 as 'gst day' as the indirect tax regime completes one year gst binds the country in an economic union as it has subsumed over a dozen local levies and transformed india into one nation one tax the government said gst was rolled out in the intervening night of june 30 and july 1 2017 n \n",
            "Original summary: july 1 to be celebrated as 'gst day' \n",
            "Predicted summary:  govt to launch new year's day as day day' on gst\n",
            "\n",
            "\n",
            "Review: pilots flying boeing's 737 max jets in india should be trained on a simulator that replicates the suspected scenario that led to the lion air crash aviation regulator dgca said the indonesian lion air 737 max crashed shortly after takeoff however dgca added jet airways and spicejet which operate 737 max jets in india have not had problems with the aircraft \n",
            "Original summary: dgca urges pilots to train in simulator replicating lion air crash \n",
            "Predicted summary:  dgca pilots grounded for air india flight amid sikkim\n",
            "\n",
            "\n",
            "Review: indian captain virat kohli who was rested for the limited over series against sri lanka has returned to the indian squad for the six match odi series against south africa pacers shardul thakur mohammed shami and all rounder kedar jadhav have also been included in the 17 member squad all rounders ravichandran ashwin and ravindra jadeja were not named for theâ fifth straight odi series \n",
            "Original summary: kohli returns to india squad for 6 match odi series vs sa \n",
            "Predicted summary:  kohli rested for sl odis squad for sl series vs sl\n",
            "\n",
            "\n",
            "Review: the italian team which failed to qualify for the fifa world cup for the first time in 60 years had already booked their accommodation in russia for the 2018 tournament italy missed a berth after losing 0 1 to sweden in the play off denmark's football team is reportedly considering using italy's accommodation with most major teams having already locked their choices \n",
            "Original summary: italy who did not qualify had pre booked hotel for fifa wc \n",
            "Predicted summary:  what is the biggest sporting innovations in iran\n",
            "\n",
            "\n",
            "Review: for the first time in public militants have threatened to target the families and homes of police and army men in jammu and kashmir the threat came at the funeral of an 18 year old who was killed in army firing on friday militants claimed this was in response to security forces vandalising the homes of suspected local militants \n",
            "Original summary: militants publicly threaten to target families of j k police \n",
            "Predicted summary:  1st batch of civilians killed in j k after 17 years of nia\n",
            "\n",
            "\n",
            "Review: filmmaker vikas bahl has moved bombay high court with a â¹10 crore defamation suit against his former phantom films partners anurag kashyap and vikramaditya motwane bahl also sought direction from the hc to restrain them from making any statement about him to the media or via social media bahl was accused of sexual harassment by a former employee of phantom films \n",
            "Original summary: vikas bahl files â¹10 cr defamation suit against anurag motwane \n",
            "Predicted summary:  vikas bahl files â¹10 cr defamation suit against anurag motwane\n",
            "\n",
            "\n",
            "Review: filmmaker amole gupte has said that the blue whale challenge has become popular because teenagers are isolated and lonely that's why they want a virtual world of their own added gupte he further said that families need to inculcate a value system in children so that they learn these things are not 'cool' \n",
            "Original summary: blue whale game becoming popular as teens are lonely amole \n",
            "Predicted summary:  blue whale has been tested for the world diana\n",
            "\n",
            "\n",
            "Review: a mob led by buddhist monks attacked a un safe house for rohingya refugees in sri lanka on tuesday and forced authorities to relocate them officials said these are rohingya terrorists who killed buddhist monks in myanmar the monks alleged the refugees were rescued by sri lanka earlier this year after they were found drifting in a boat \n",
            "Original summary: mob led by monks attacks rohingya refugees in sri lanka \n",
            "Predicted summary:  rohingya refugees march by monks in j k\n",
            "\n",
            "\n",
            "Review: praising president donald trump's decision to move the us embassy from tel aviv to jerusalem israeli prime minister benjamin netanyahu has said that trump will be remembered through the ages he also compared trump to former us president harry truman the first world leader to recognise the jewish state in 1948 \n",
            "Original summary: trump will be remembered through ages israel pm netanyahu \n",
            "Predicted summary:  trump will be remembered if it is a friend iran\n",
            "\n",
            "\n",
            "Review: bjp mla panna lal shakya has slammed indian cricket captain virat kohli and actress anushka sharma for getting married in italy and not in india he added that virat earned all his money and fame in the country and then took it abroad shakya further said in this country ram krishna vikramaditya and yudhisthira got married \n",
            "Original summary: mla slams virat anushka for marrying in italy not in india \n",
            "Predicted summary:  virat anushka denies reports of marriage in india\n",
            "\n",
            "\n",
            "Review: supreme court judges in their media address on friday alleged chief justices of india were selectively assigning cases with far reaching consequences to their preferred benches without any rationale the four judges made public a two month old letter they had sent to the cji wherein they expressed their concern over the functioning of the judicial system and independence of high courts \n",
            "Original summary: cjis have been assigning cases to preferred bench sc judges \n",
            "Predicted summary:  cjis of india judges are in india sc on urgent hearing\n",
            "\n",
            "\n",
            "Review: actress parineeti chopra has thanked the fashion police for helping improve her fashion sense she jokingly added i am doing well so i like them now earlier parineeti had said that when people criticised her older appearance they were right while adding i knew when i lose the weight everybody will say that she looks so good \n",
            "Original summary: fashion police helped improve my fashion sense parineeti \n",
            "Predicted summary:  parineeti reveals she was depressed when i am dating parineeti\n",
            "\n",
            "\n",
            "Review: the all india council for technical education aicte has asked all engineering professional and technical institutions to launch campaigns aimed at discouraging students from spitting on campus as a part of the swachh bharat initiative the institutions were told to involve voluntary groups such as the national services scheme nss and national cadet corps ncc in enforcing the rule \n",
            "Original summary: aicte directs engineering students to not spit on campus \n",
            "Predicted summary:  aicte asks engineering students to give students to martyrsâ\n",
            "\n",
            "\n",
            "Review: the cbi has claimed to have busted a scam of over â¹2 200 crore wherein 13 companies allegedly remitted the amount to foreign entities against bill payments of imports of only â¹24 64 crore cbi has registered a case against stelkon infratel sipl and the 12 other companies many transactions were made through the company's account at punjab national bank cbi alleged \n",
            "Original summary: cbi busts â¹2 200 crore foreign remittance scam by 13 firms \n",
            "Predicted summary:  cbi to probe â¹600 crore assets of foreign fraud accused\n",
            "\n",
            "\n",
            "Review: ysr congress party chief jagan mohan reddy said the tdp must leave the nda alliance if it is sincere about getting special category status for andhra pradesh even as two tdp ministers resigned from the union cabinet last week the party has ruled out leaving the alliance this came after the centre rejected their demand for special category status for andhra \n",
            "Original summary: tdp must quit nda if sincere on andhra special status ysrcp \n",
            "Predicted summary:  tdp must resign for tdp tdp alliance over special status cong\n",
            "\n",
            "\n",
            "Review: manmohan singh made fewer trips and was abroad for fewer days than narendra modi in the first three years of both his first term 2004 2009 and the second term 2009 2014 modi's each trip however lasted 2 5 days on average while the average duration of singh's trip was nearly 4 days during the first three years of both the terms \n",
            "Original summary: did manmohan singh undertake more foreign visits than modi \n",
            "Predicted summary:  what are the longest achievements of the world\n",
            "\n",
            "\n",
            "Review: filmmaker ketan mehta has sent a legal notice to kangana ranaut to stop the production of her film manikarnika he accused kangana and producer kamal jain of hijacking his original project called rani of jhansi the warrior queen mehta added that since 2015 he was in contact with kangana for the project and she had access to the script drafts \n",
            "Original summary: ketan mehta sends legal notice to stop kangana's manikarnika \n",
            "Predicted summary:  ketan mehta sends legal notice to kangana over manikarnika remark\n",
            "\n",
            "\n",
            "Review: the original winnie the pooh map drawn by artist eh shepard in 1926 was sold for approximately â¹3 9 crore â£430 000 setting a world record for the highest price paid for a book illustration sold at an auction the illustration was privately owned and had not been seen for around half a century four other winnie the pooh illustrations were also sold at the auction \n",
            "Original summary: original winnie the pooh map sold for world record â¹3 9 cr \n",
            "Predicted summary:  oxford music film earns â¹12 lakh for 1st time on auction\n",
            "\n",
            "\n",
            "Review: following an argument police in the us' michigan tasered a man who was holding his two month old baby the man's girlfriend said she grabbed the baby as it fell out of his hands when he was tasered the police were responding to a report of an assault on a woman and the man had been saying they had the wrong house \n",
            "Original summary: us cops taser man holding 2 month old baby \n",
            "Predicted summary:  us man taser man holding baby on a baby\n",
            "\n",
            "\n",
            "Review: surabhi gupta one of the five killed in the mumbai plane crash on thursday had told her father over phone that she was going to fly in a sick aircraft her father revealed how was permission given to fly a sick aircraft and who gave this permission he asked the 12 seater aircraft which crashed in ghatkopar was on test flight \n",
            "Original summary: going to fly in sick aircraft mumbai crash victim told dad \n",
            "Predicted summary:  pilot killed as plane catches fire on flight in mumbai\n",
            "\n",
            "\n",
            "Review: a farmer in tamil nadu committed suicide after recovery agents of a private bank seized his tractor for failing to pay a loan instalment the farmer took â¹7 2 lakh loan which he had to repay in instalments of â¹90 000 after his tractor was seized the farmer went into depression and consumed pesticide that was kept in his house for agricultural use \n",
            "Original summary: farmer kills self after bank recovery agents seize tractor \n",
            "Predicted summary:  farmer dies after ambulance family tries to sell loan to save him\n",
            "\n",
            "\n",
            "Review: a 22 year old man was sentenced to death on monday for raping and killing a 14 year old girl in madhya pradesh last year the victim had died a week after sarvesh sen poured kerosene and set her on fire after raping her this is the eleventh case of a person being awarded the death penalty for sexually assaulting a minor this year \n",
            "Original summary: mp man awarded death penalty for raping killing 14 year old \n",
            "Predicted summary:  man rapes 6 year old for scratching tractor's to escape torture\n",
            "\n",
            "\n",
            "Review: the producers of the tom cruise starrer 'american made' are being sued by the families of two men who died in a september 2015 plane crash on the film's set they have alleged that the production companies ignored safety procedures before the flight in order to save time and money the families hope their lawsuit establishes stricter regulations on safety \n",
            "Original summary: makers of tom cruise film being sued for plane crash on sets \n",
            "Predicted summary:  'the queen of queen shoot on tom cruise after arrest\n",
            "\n",
            "\n",
            "Review: a technical glitch in the ground support systems prompted elon musk led spacex on thursday to call off the first flight of its updated falcon 9 rocket in the final minute of the launch countdown the rocket was set to carry bangladesh's first geostationary communications satellite 'bangabandhu satellite 1' to the orbit spacex said the rocket and payload were in good health \n",
            "Original summary: spacex calls off rocket launch at last minute due to glitch \n",
            "Predicted summary:  spacex delays iphone xs launch with the year\n",
            "\n",
            "\n",
            "Review: chad netherland from the united states restrained the take off of two cessna aeroplanes in opposite directions for 1 minute and 0 6 seconds setting the guinness world record for the 'longest time restraining two aircraft' he set the record at the richard i bong airport in wisconsin united states in july 2007 \n",
            "Original summary: man holds record for stopping take off of 2 aircraft at once \n",
            "Predicted summary:  us man holds record for most accurate balanced on flight\n",
            "\n",
            "\n",
            "Review: the uk's opposition labour party has called for the delisting of anil agarwal led vedanta resources from london stock exchange after 13 people died during protests against its copper plant in tuticorin vedanta must be immediately delisted to remove its cloak of respectability the party said locals have been demanding the closure of the sterlite copper smelter over pollution concerns \n",
            "Original summary: delist vedanta from london stock exchange uk opposition \n",
            "Predicted summary:  delist vedanta for uk governor after london poisoning\n",
            "\n",
            "\n",
            "Review: indian wrestlers anil kumar and jyoti won bronze medals in their respective categories on the second day of the asian wrestling championships in new delhi on thursday anil defeated uzbekistan's muhammadali shamsiddinov 7 6 in the bronze medal play off in the men's greco roman 85 kilogram category india's tally in the tournament now stands at three bronze medals \n",
            "Original summary: indian wrestlers win 2 bronze medals at asian championships \n",
            "Predicted summary:  indian wrestlers wins asiad medals at asian athletics c'ships\n",
            "\n",
            "\n",
            "Review: the video of an indian navy seaking 42b helicopter landing on a rooftop to rescue people in the flood hit kerala town of chalakudy on friday has gone viral after rescuing 4 people using a winch the crew landed on the roof to rescue 22 more the pilot said the roof could have collapsed under the chopper's full weight he added \n",
            "Original summary: video chopper lands on roof to rescue kerala flood victims \n",
            "Predicted summary:  video chopper lands on roof to rescue kerala flood victims\n",
            "\n",
            "\n",
            "Review: china's sensetime which is the world's highest valued artificial intelligence ai startup at 4 5 billion has raised 620 million as part of its series c funding round the latest round was led by fidelity international hopu capital silver lake and tiger global the announcement comes just months after sensetime said it raised 600 million from alibaba suning com and singapore's temasek \n",
            "Original summary: world's most valued ai startup sensetime raises 620 million \n",
            "Predicted summary:  world's most valued ai startup sensetime raises 620 mn\n",
            "\n",
            "\n",
            "Review: the united states of america cricket association usaca is facing expulsion from the international cricket council icc the sport's global governing body revealed on monday icc had suspended the board in 2015 as it claimed that the body did not have unity and did not hold the widespread authority over the country's cricket activities \n",
            "Original summary: usa cricket governing body faces expulsion from icc \n",
            "Predicted summary:  us players appointed usa over doping dispute\n",
            "\n",
            "\n",
            "Review: noida based digital payments startup pine labs has raised 125 million from singapore based investment firm temasek and american payments giant paypal the funding comes around two months after pine labs raised 82 million in a funding round led by actis capital founded in 1998 pine labs is a provider of retail pos point of sale solutions that simplify payment acceptance \n",
            "Original summary: digital payments startup pine labs raises 125 million \n",
            "Predicted summary:  digital payments startup pine labs raises funds from tencent\n",
            "\n",
            "\n",
            "Review: four women were booked on tuesday for allegedly creating ruckus and assaulting police officials in mumbai's bhayander the patrol police including a woman officer was trying to calm the four friends who got into an argument in the area but the group became aggressive and attacked the officials the police arrested three while one of them is on the run \n",
            "Original summary: 4 drunken women assault police officers in mumbai booked \n",
            "Predicted summary:  two men booked for assaulting female students in mumbai\n",
            "\n",
            "\n",
            "Review: the kerala pradesh congress committee headquarters in thiruvananthapuram was listed for 'sale' on olx for â¹10 000 by a user named aniesh on saturday the post requested interested buyers to contact indian union muslim league or kerala congress mani this comes after several congress leaders opposed the party's decision to back kerala congress mani for elections to a rajya sabha seat \n",
            "Original summary: congress hq in kerala put for sale on olx for â¹10 000 \n",
            "Predicted summary:  kerala congress gets â¹51 000 for new party as i t dept\n",
            "\n",
            "\n",
            "Review: india should avoid replicating foreign models of urbanisation like that of china as it may lead to inequitable urbanisation niti aayog vice chairman rajiv kumar has said development in china had only taken place along coastal areas while other regions remained backward kumar added he stressed the need to introduce the concept of rurban to link villages with urban facilities \n",
            "Original summary: india should avoid china like urbanisation niti aayog vc \n",
            "Predicted summary:  india should be stepping down on chinese environment chief\n",
            "\n",
            "\n",
            "Review: chief of the general staff of the armed forces of russia general valery gerasimov has said that the country's nuclear deterrence is strong enough to ensure a level of unacceptable damage to any potential enemy adding that nearly 74 of the arsenal employs cutting edge technology gerasimov said russia was working on improving the arsenal without violating international laws \n",
            "Original summary: our nukes would cause 'unacceptable damage' to enemy russia \n",
            "Predicted summary:  un capable of nuclear failure in the country russia\n",
            "\n",
            "\n",
            "Review: heavy rains and strong winds have killed 17 people and uprooted nearly 1 4 crore trees across italy with the country's civil protection agency calling the situation apocalyptic many of the victims to date have been killed by falling trees major tourist attractions in rome including the colosseum and roman forum had earlier been shut due to the weather conditions \n",
            "Original summary: 17 dead 1 4 crore trees uprooted in italy's 'apocalyptic' storm \n",
            "Predicted summary:  over 100 trees gutted in landslide at bhilai mela\n",
            "\n",
            "\n",
            "Review: india's first multi wavelength space telescope astrosat has performed the most sensitive measurement of x ray polarisation of a pulsar fast spinning neutron star in the taurus constellation the pulsar powers the crab nebula that formed after a supernova explosion which was recorded by chinese astronomers in the year 1054 astrosat was launched in september 2015 by isro aboard its pslv rocket \n",
            "Original summary: indian space telescope measures star parameters in taurus \n",
            "Predicted summary:  isro space observes 1st star made up from space\n",
            "\n",
            "\n",
            "Review: india opener rohit sharma has become the fastest cricketer in odi history to reach 200 sixes achieving the feat with his second six in the fifth windies odi on thursday the 31 year old took 187 innings to reach the landmark overtaking shahid afridi's record of 195 innings rohit is only the second indian after ms dhoni to smash 200 odi sixes \n",
            "Original summary: rohit fastest cricketer to smash 200 sixes in odi cricket history \n",
            "Predicted summary:  rohit fastest indian to hit 50 sixes in an odi in odis\n",
            "\n",
            "\n",
            "Review: the delhi government is set to launch 'spoken english' course for government school students from june the students who appeared for class 10 board exam and cleared their pre board exams with subjects with english as a subject are eligible for the course it is a step towards making government schools a viable high quality alternative to expensive private schools officials claimed \n",
            "Original summary: delhi to start 'spoken english' course for govt school kids \n",
            "Predicted summary:  delhi school to teach school students to get rid of attendance\n",
            "\n",
            "\n",
            "Review: the supreme court on friday observed that women must be allowed to abort foetuses with severe abnormalities beyond the legally permissible period of 20 weeks under the medical termination of pregnancy mtp act the sc's observation was based on a woman's petition wherein she sought permission to abort her 25 week foetus as it suffered from cardiac issues \n",
            "Original summary: must allow abortion of 'abnormal' foetuses post 20 weeks sc \n",
            "Predicted summary:  sc allows abortion of living in executions test to be scrapped\n",
            "\n",
            "\n",
            "Review: the government is open to listing air india after it failed to attract buyers for 76 stake in the company according to reports while several proposals are being considered to revive the divestment process the government will not give control to a foreign entity reports added the government may reportedly consider reducing the debt that the buyer would take over \n",
            "Original summary: govt may list air india after failed divestment reports \n",
            "Predicted summary:  govt to set up india business for financial suppliers report\n",
            "\n",
            "\n",
            "Review: india's stand in captain rohit sharma funded the ticket of a sri lankan fan so that he could return home to be with his ailing father indian fan sudhir gautam told rohit that mohammad nilam had to leave earlier than scheduled but was unable to return due to financial constraints indian captain virat kohli also messaged nilam and offered help \n",
            "Original summary: rohit funds sri lankan fan's ticket to be with sick father \n",
            "Predicted summary:  rohit sharma dedicates fan's pads to girlfriend after fight\n",
            "\n",
            "\n",
            "Review: the counter intelligence wing of punjab police arrested two suspected drug peddlers and recovered four kilograms of heroin from their possession police said on thursday based on a tip off the police intercepted and arrested the two near the attari border a police official added police also recovered a country made pistol a pakistani sim card and a mobile phone from the accused \n",
            "Original summary: punjab police arrest 2 drug peddlers seize 4kg heroin \n",
            "Predicted summary:  two arrested for smuggling drugs worth â¹44 lakh in punjab\n",
            "\n",
            "\n",
            "Review: the coa has appointed a three member committee to probe anonymous sexual harassment allegations against bcci ceo rahul johri the panel includes justice rakesh sharma ex cbi director pc sharma and ex chairperson of delhi commission for women barkha singh coa member diana edulji and six associations wanted johri's ouster but coa chairman vinod rai decided an independent inquiry was necessary \n",
            "Original summary: 3 member panel to probe sexual harassment claims against bcci ceo \n",
            "Predicted summary:  coa ceo edulji to probe sexual harassment by bcci ceo\n",
            "\n",
            "\n",
            "Review: a plunge in us stocks on monday cut the fortunes of the world's 500 richest people by 114 billion bloomberg reported berkshire hathaway ceo and world's third richest person warren buffett who lost 5 1 billion was the worst hit facebook ceo mark zuckerberg saw the second biggest decline of 3 6 billion followed by world's richest person jeff bezos who lost 3 2 billion \n",
            "Original summary: world's 500 richest people lose 114 billion in one day \n",
            "Predicted summary:  world's most valuable firm has more than the one of the year\n",
            "\n",
            "\n",
            "Review: the syrian government has called on its citizens fleeing the civil war and terrorist attacks to return home after the liberation of most areas previously under terrorists' control several internally displaced people had returned after their villages were liberated under military operations or reconciliations officials said over 1 crore syrians have fled their homes since the war began in 2011 \n",
            "Original summary: syria calls on citizens fleeing war to return home \n",
            "Predicted summary:  syrian army calls for returning to syrian migrants\n",
            "\n",
            "\n",
            "Review: former india captain sourav ganguly has revealed his mother in law had told him after the third day of the 2001 kolkata test against australia that india would win it despite following on i honestly do not know what she was thinking on day 3 because none of us apart from vvs laxman and rahul dravid were thinking that he added \n",
            "Original summary: mom in law predicted india's 2001 kolkata test win ganguly \n",
            "Predicted summary:  i have to be a great player in the world cup of me ganguly\n",
            "\n",
            "\n",
            "Review: pakistan's national counter terrorism authority has called for enhanced security for mumbai attack mastermind hafiz saeed claiming a foreign intelligence agency was planning to kill him the anti terror body further claimed that the foreign agency had paid rs 80 million to two activists for saeed's assassination saeed has been under house arrest since january 2017 over law and order fears \n",
            "Original summary: foreign agency planning to kill 26 11 attack mastermind pak \n",
            "Predicted summary:  pak opp'n calls for hafiz saeed's detention to kill hafiz saeed\n",
            "\n",
            "\n",
            "Review: sri lankan president maithripala sirisena praised his filipino counterpart rodrigo duterte's war on drugs calling it an example to the world drug menace is rampant in my country and i feel that we should follow your footsteps to control this hazard sirisena told duterte more than 5 000 people have been killed in duterte's drug war which has been condemned globally \n",
            "Original summary: duterte's drug war 'example to the world' sri lanka president \n",
            "Predicted summary:  duterte's drug war 'example to be a threat former us chief\n",
            "\n",
            "\n",
            "Review: a zoo in new zealand's wellington has revealed that a failed attempt to steal squirrel monkeys from one of its enclosures was made on friday night the attempt was foiled as the monkeys fought the thieves the zoo said that some of the monkeys suffered minor injuries while the thieves would have some monkey bites \n",
            "Original summary: monkeys fight thieves who tried to steal them from zoo in nz \n",
            "Predicted summary:  dog used to sneak out of dog for missing in meal with restaurant\n",
            "\n",
            "\n",
            "Review: technology major apple on thursday demanded all apps including those still in testing to have a privacy policy starting october 3 2018 developers will have to include a link to their privacy policy in the metadata for their app the privacy policies will have to specify details such as how user data is collected and used \n",
            "Original summary: apple demands all apps to have a privacy policy from oct 3 \n",
            "Predicted summary:  apple faces privacy policy for users to be blocked by 2020\n",
            "\n",
            "\n",
            "Review: pooja bhatt has said that she will not release the film 'cabaret' until her cast and crew receive the dues owed to them by financiers the film starring richa chadha was scheduled to release in 2016 it is a romantic dance film which is reportedly based on the life of yesteryear actress helen \n",
            "Original summary: will not release cabaret till dues of cast crew cleared pooja \n",
            "Predicted summary:  will not release 'baaghi 2' in film with my film says pooja\n",
            "\n",
            "\n",
            "Review: afghanistan's spin trio of rashid khan mujeeb ur rahman and mohammad nabi registered combined figures of 6 54 in 11 overs to help their side beat bangladesh for the first time in a t20i match on sunday rashid who won the man of the match award later said that performing well at the biggest stage in ipl gave him the confidence \n",
            "Original summary: spinners pick 6 wkts as afghanistan get 1st t20i win vs b'desh \n",
            "Predicted summary:  afghan spinner rashid khan ties with 5 wickets in a day\n",
            "\n",
            "\n",
            "Review: yahoo's first ceo timothy koogle is selling his house for 19 4 million the 5 440 square foot house which was built in 1955 has four bedrooms a guest house and an outdoor terrace adding that he and his wife have a bunch of other properties koogle said we've started to realise that we do not use all those very much which is silly \n",
            "Original summary: yahoo's first ceo to sell his house for 19 4 million \n",
            "Predicted summary:  ceo of vanguard sold for â¹12 crore in a day after death row\n",
            "\n",
            "\n",
            "Review: as many as 1 003 cricketers including 232 overseas players have signed up for upcoming ipl auction to fill up the 70 available spots out of the 1 003 200 are capped 800 uncapped and three are from associate nations for the first time cricketers from arunachal pradesh bihar manipur meghalaya mizoram nagaland sikkim uttarakhand and puducherry have registered for the auction \n",
            "Original summary: 1 003 players register for ipl auction only 70 spots to be filled \n",
            "Predicted summary:  ipl 2018 auction up to be sold for 1st time to be auctioned\n",
            "\n",
            "\n",
            "Review: pune rural police released an official statement stating that no fact finding committee was set up by maharashtra government in the bhima koregaon case further it stated that a committee was formed to have a bilateral dialogue between the police and dalit community the violence had been triggered during a gathering by dalits for the 200th anniversary celebrations of the bhima koregaon battle \n",
            "Original summary: no fact finding panel set up in bhima koregaon case police \n",
            "Predicted summary:  no fact finding arrest in bhima koregaon case police\n",
            "\n",
            "\n",
            "Review: e commerce startup snapdeal has received â¹113 crore in an emergency funding round from existing investor nexus venture partners and co founders kunal bahl and rohit bansal nexus put â¹96 26 crore in the latest round while snapdeal co founders contributed â¹8 45 crore each the emergency funding comes amid reports that snapdeal's largest investor softbank is pushing for a snapdeal flipkart merger \n",
            "Original summary: snapdeal gets â¹113 cr emergency funding from founders nexus \n",
            "Predicted summary:  snapdeal invests in happily crore from snapdeal arm others\n",
            "\n",
            "\n",
            "Review: the islamic state has been infiltrated by iraqi spies who relay necessary information to prevent attacks iraq's interior minister qasim al araji has said the government sometimes allows bombs to explode after evacuating civilians so that isis does not know that its networks have been penetrated he added he further said that fake casualty numbers are announced to protect the informants \n",
            "Original summary: isis infiltrated by iraqi spies to prevent attacks minister \n",
            "Predicted summary:  isis infiltrated islamic state islamic state islamic state\n",
            "\n",
            "\n",
            "Review: after the implementation of gst ticket prices of sporting events in india have become more expensive while ipl tickets will be taxed at the highest rate of 28 other events by recognised sports governing bodies like bcci will be taxed at 18 purchasing sports equipment is now more expensive with sports goods manufacturing being taxed between 12 28 \n",
            "Original summary: how will gst affect the sports industry in india \n",
            "Predicted summary:  what is the best gst rate which has been used in india\n",
            "\n",
            "\n",
            "Review: homegrown cab aggregator ola is reportedly in talks with bengaluru based bike sharing startup vogo automotive to lead a 5 7 million round of funding ola is expected to lead the round with venture capital firms stellaris ventures partners and matrix partners founded in 2016 the startup offers round the clock scooter rental service intended as a cost effective alternative to cabs and autos \n",
            "Original summary: ola to lead 7 mn round in bike sharing startup vogo report \n",
            "Predicted summary:  ola to raise â¹670 crore in series c funding report\n",
            "\n",
            "\n",
            "Review: the haryana government has settled the first claim of â¹9 000 under the public insurance scheme ayushman bharat for a baby girl born in karnal's kalpana chawla government medical college the scheme's first beneficiary mousami gave birth to karishma through a caesarean section on august 17 and the claim amount was paid to the treating hospital on august 31 \n",
            "Original summary: ayushman bharat's 1st beneficiary gives birth to girl in haryana \n",
            "Predicted summary:  haryana govt releases first ever age of child stamp\n",
            "\n",
            "\n",
            "Review: defence minister nirmala sitharaman has approved induction of women as jawans in the army's corps of military police the women will be inducted in graded manner to eventually comprise 20 of total corps of military police the ministry stated their roles would include probing rape and molestation cases assisting the army wherever required searching or frisking women among other duties \n",
            "Original summary: govt approves inducting women as jawans in army's military police \n",
            "Predicted summary:  defence min clears afspa for women in j k defying strike\n",
            "\n",
            "\n",
            "Review: denying rumours about daughter neha dhupia being pregnant before marriage her father pradip dhupia said people will keep talking about things and spread rumours as per their wish he added since the two got married early people are thinking otherwise but there is no such thing neha married boyfriend angad bedi on may 10 after dating for almost four years \n",
            "Original summary: neha's father denies rumour of her pregnancy before marriage \n",
            "Predicted summary:  angad dhupia angad angad angad to her marriage\n",
            "\n",
            "\n",
            "Review: artificial intelligence ai will create 2 3 million jobs by 2020 while eliminating 1 8 million according to american research company gartner the jobs will vary by the industry and education will see continuous growing job demand the report said by 2022 one in five workers engaged in mostly non routine tasks will rely on ai to do a job the report added \n",
            "Original summary: ai will create more jobs than it eliminates by 2020 report \n",
            "Predicted summary:  ai to invest 1 5 bn jobs in 2020 next month report\n",
            "\n",
            "\n",
            "Review: gujarat based cardiologist tejas patel on wednesday conducted a heart surgery on a middle aged woman from 32 km away in the world's first in human telerobotic coronary intervention sitting at akshardham temple patel operated the patient located in ahmedabad's apex heart institute in a 15 minute procedure he used high speed internet and robots to clean the patient's arteries and insert a stent \n",
            "Original summary: gujarat doctor performs heart surgery from 32 km away using robots \n",
            "Predicted summary:  gujarat doctor performs heart surgery from 32 km away surgery\n",
            "\n",
            "\n",
            "Review: idfc and shriram group have called off their planned merger following disagreements over valuation the proposed deal involved a merger between shriram city union finance and shriram capital with idfc bank while shriram transport finance would have been a standalone unit of the idfc group the merger could have created an organisation reportedly worth over 10 billion \n",
            "Original summary: idfc and shriram group call off their proposed merger \n",
            "Predicted summary:  idfc and shriram group and idfc and quit after brexit deal\n",
            "\n",
            "\n",
            "Review: ranbir kapoor's cousin aadar jain while talking about the picture which showed him kissing deepika padukone on the cheek said if we are at a party and are clicking photos what is the harm in that it was a great time to enjoy ourselves that's about it he added earlier deepika was called drunk desperate and vulgar after the picture was shared online \n",
            "Original summary: what is the harm aadar on pic showing him kissing deepika \n",
            "Predicted summary:  we are a problem on deepika's pic from deepika to her wedding\n",
            "\n",
            "\n",
            "Review: low cost sanitary pads and condoms will be sold at toilet facilities both inside and outside railway stations for passengers as well as people living in its vicinity according to a policy approved by railway board each facility will have separate toilets for men women and persons with disabilities the facilities will be set up at 8 500 railway stations across india \n",
            "Original summary: sanitary napkins condoms to be sold at railway stations \n",
            "Predicted summary:  sanitary napkins to be used at doorstep railway stations\n",
            "\n",
            "\n",
            "Review: the us has temporarily suspended travel for its officials to parts of myanmar's rakhine state citing concerns over potential protests after us state secretary rex tillerson accused myanmar of ethnic cleansing of rohingya muslims the us held myanmar's military accountable for the crisis which has forced over six lakh rohingya muslims to flee myanmar to escape a military crackdown \n",
            "Original summary: us suspends official travel to myanmar over rohingya crisis \n",
            "Predicted summary:  us bans myanmar travel for myanmar over rohingya crisis\n",
            "\n",
            "\n",
            "Review: the civil aviation ministry has shot down a proposal by delhi international airport limited dial to increase passenger security fee from â¹200 to â¹300 â¹350 however the ministry has proposed to create a consolidated fund to meet the security expenses of the airport dial which owes cisf â¹655 crore had called for increasing the fee citing a severe shortage of funds \n",
            "Original summary: centre does not allow delhi airport to up flyer security fee \n",
            "Predicted summary:  delhi airport to get 1k to delhi as man enters traffic jam\n",
            "\n",
            "\n",
            "Review: uttar pradesh deputy cm keshav prasad maurya on tuesday claimed that majority of muslims want ram mandir to be built on the disputed ayodhya site he alleged the congress party does not want consecutive hearings on the dispute in court recently maurya had said the option to pass a bill in parliament for constructing the temple was also open \n",
            "Original summary: majority of muslims want ram mandir in ayodhya up dy cm \n",
            "Predicted summary:  up cm yogi to build ram mandir not built in ayodhya\n",
            "\n",
            "\n",
            "Review: domestic passengers carrying only hand baggage are set to get a dedicated corridor at delhi airport passengers carrying e boarding passes or web check in printouts will be frisked at the entry gate allowed to bypass the security and check in area and reach the boarding point immediately the cisf also said it wants to replicate the biometric cum bar code reader at the airport \n",
            "Original summary: fast boarding for flyers with only hand baggage at airport \n",
            "Predicted summary:  delhi airport to get 1k seats to wear baggage at airport\n",
            "\n",
            "\n",
            "Review: a baby boy who survived after being buried alive just 10 days after his birth was put in a grave in madhya pradesh by his minor mother who conceived him after rape the infant was found on july 3 by a tribal couple and the suspected rapist also a minor was arrested after the girl was traced in maharashtra \n",
            "Original summary: mp âmiracle babyâ was buried alive by rape survivor mother \n",
            "Predicted summary:  newborn baby dies after being given painkiller after being thrown at home\n",
            "\n",
            "\n",
            "Review: rashtriya swayamsevak sangh rss ideologue rakesh sinha on saturday slammed cpi m general secretary sitaram yechury saying i think by the next elections the cpi m would be marginalised as kerala is on the path of saffronisation his remark came after yechury said that the saffron brigade is desperately trying to expand its base in the state through violent means \n",
            "Original summary: kerala is on path of saffronisation says rss \n",
            "Predicted summary:  rss is a lot of freedom of hindutva now rss chief\n",
            "\n",
            "\n",
            "Review: a hot air balloon crashed in alberta canada minutes after a man proposed marriage to his partner mid air stephen martin had proposed to christine peters who said yes just prior to their hot air balloon getting caught in a downdraft and crashing into trees it was carrying 13 people including a pilot and no one was injured during the incident \n",
            "Original summary: hot air balloon crashes after mid air marriage proposal \n",
            "Predicted summary:  plane with man who fell into air to pilot after flight\n",
            "\n",
            "\n",
            "Review: kerala's trivandrum medical college has withdrawn its ban on male and female students sitting together in classrooms this comes after health minister kk shailaja directed college authorities to submit a report and demanded a probe into the issue after receiving complaints from students the principal has clarified that students would be free to sit in the classrooms without gender segregation \n",
            "Original summary: college scraps ban on male female students sitting together \n",
            "Predicted summary:  punjab bans women in school on women's health abuse\n",
            "\n",
            "\n",
            "Review: german police have arrested a man who reportedly attacked football team dortmund's bus to make the team's share prices fall the 28 year old market trader had bought options to short sell stock and would have profited from the team's falling share prices after the attack earlier a letter was found at the attack site suggesting islamist links reportedly to mislead the police \n",
            "Original summary: market trader bombed dortmund bus for financial gain police \n",
            "Predicted summary:  german man who ate cancer on the first time in 9 months\n",
            "\n",
            "\n",
            "Review: cricket australia board has unanimously agreed not to reduce year long bans imposed on steve smith and david warner and the nine month ban imposed on cameron bancroft for ball tampering this comes after australian cricketers' association called for the suspension to be immediately lifted smith and warner are eight months into their bans while bancroft will be eligible to return in december \n",
            "Original summary: cricket australia refuses to reduce smith and warner's bans \n",
            "Predicted summary:  smith to be paid as team coach for game tampering controversy\n",
            "\n",
            "\n",
            "Review: yemen's shaima swileh has been granted a us visa to meet her dying two year old son the council on american islamic relations said swileh's son abdullah hassan who is currently on life support has a degenerative brain disorder swileh was unable to get a us visa due to the trump administration's travel ban on citizens from five muslim majority countries \n",
            "Original summary: yemen mom blocked by trump travel ban gets visa to see dying son \n",
            "Predicted summary:  us man fired for life for criticising his wife to freed\n",
            "\n",
            "\n",
            "Review: rjd supremo lalu prasad yadav on friday confirmed that congress president sonia gandhi will not attend desh bachao bhajpa bhagao rally on august 27 in patna he further said that ghulam nabi azad and cp joshi would attend the rally on her behalf recently bsp chief mayawati also pulled out of the rally and would send satish mishra from her party \n",
            "Original summary: sonia gandhi pulls out of lalu yadav's anti bjp rally \n",
            "Predicted summary:  sonia gandhi will not attend bjp leaders' remark on bjp mp\n",
            "\n",
            "\n",
            "Review: pakistan's prime minister nawaz sharif on saturday paid tribute to burhan wani on his death anniversary the blood rendered by burhan muzaffar wani has infused a new spirit in the freedom movement said sharif reaffirming pakistan's support to kashmiris wani terror group hizbul mujahideen's commander was killed by security forces last year prompting a four month long unrest in the valley \n",
            "Original summary: pak pm sharif pays tribute to burhan wani on anniversary \n",
            "Predicted summary:  pak pm sharif pays tribute to burhan wani on anniversary\n",
            "\n",
            "\n",
            "Review: a mumbai bengaluru indigo flight returned to the mumbai airport after pilots declared a full emergency shortly after takeoff on tuesday night the emergency was declared due to an engine failure an indigo spokesperson said the flight landed safely at the airport and another plane was arranged for the passengers \n",
            "Original summary: indigo plane suffers engine failure declares full emergency \n",
            "Predicted summary:  indigo flight departs midway skids off runway\n",
            "\n",
            "\n",
            "Review: us president donald trump has called syrian president bashar al assad an animal and accused him of attacking his own people with chemical weapons even some of the worst tyrants in the world do not use the kind of gas they use trump added he also clarified that the united states will not go to war with syria \n",
            "Original summary: trump calls syrian president assad 'an animal' \n",
            "Predicted summary:  trump calls syrian president assad 'an animal'\n",
            "\n",
            "\n",
            "Review: trivandrum archbishop soosa pakiam has urged all christian schools to include constitution literacy as part of their moral science curriculum stating that children should love the constitution he added it is highly dangerous that hatred and fear are invoked among various groups as a shortcut to power the constitution defines and decides the basic character of a nation he said \n",
            "Original summary: include constitution in academics trivandrum archbishop \n",
            "Predicted summary:  include constitution for women kids in j k to be naik\n",
            "\n",
            "\n",
            "Review: the cbi registered a case against 19 companies which sent over â¹424 crore in foreign remittances through 700 transactions suspecting it to be a case of money laundering through shell companies cbi alleged that officials of a pnb branch entered into criminal conspiracy with these companies the companies were allegedly sending foreign exchange to hong kong without genuine business transactions \n",
            "Original summary: case filed against 19 firms for sending â¹420 crore abroad \n",
            "Predicted summary:  cbi files fir against firm over illegal trade secrets in pnb scam\n",
            "\n",
            "\n",
            "Review: delhi police on thursday arrested three isis suspects from jalandhar mumbai and bijnor in a joint operation with the uttar pradesh anti terror squad this comes after the up ats received information of a group being readied to launch terror attacks and recruit new members recently an alleged isis operative suspected of planning a train bombing in madhya pradesh was killed \n",
            "Original summary: 3 isis suspects arrested from jalandhar mumbai bijnor \n",
            "Predicted summary:  isis sympathiser from isis arrested in jalandhar\n",
            "\n",
            "\n",
            "Review: whatsapp co founder brian acton has invested 50 million in encrypted messaging app signal to help launch its non profit organisation signal foundation the company said in a blog post acton will also act as the executive chairman of the organisation as part of the deal companies like whatsapp and facebook messenger both use signal's code to encrypt their applications \n",
            "Original summary: whatsapp co founder invests 50 mn in messaging app signal \n",
            "Predicted summary:  whatsapp co founder invests in uber's bike payments\n",
            "\n",
            "\n",
            "Review: visa has suspended its ad campaign featuring hollywood actor morgan freeman after he was accused of sexual harassment and inappropriate behaviour by eight women a production assistant alleged freeman kept trying to lift up her skirt and asked if she was wearing underwear vancouver public transit system translink also announced plans to pause its current campaign featuring freeman's voice \n",
            "Original summary: visa suspends morgan freeman ads after sexual harassment row \n",
            "Predicted summary:  whatsapp suspends ex employee over sexual harassment row\n",
            "\n",
            "\n",
            "Review: pakistan has expressed concern over the reported sale of advanced weapons to india by some countries saying it would undermine the strategic balance in the region pakistani officials said that the country's national security would be safeguarded at every cost this comes after the us approved the sale of 22 guardian drones worth 2 3 billion to india \n",
            "Original summary: weapons sale to india would destabilize region pakistan \n",
            "Predicted summary:  pakistan lobbying to maintain weapons of india pakistan\n",
            "\n",
            "\n",
            "Review: the andhra pradesh unit of the congress has decided to send e rakhis to prime minister narendra modi in order to pressurise the centre into fulfilling its promises to the state the rakhis reportedly have rahul gandhi's image in the centre and carry slogans about promises made by the centre such as special category status to andhra pradesh among others \n",
            "Original summary: ap congress send rakhis to pm modi asking to fulfil promises \n",
            "Predicted summary:  congress workers to gift pm modi to fight against them\n",
            "\n",
            "\n",
            "Review: following zaheer khan's engagement to actress sagarika ghatge virender sehwag tweeted zaheer clean bowled by hockey sagarika portrayed the character of a hockey player who was engaged to a cricketer in chak de india zaheer and sagarika confirmed their engagement on twitter on monday with the cricketer posting a picture of the couple in which sagarika is flaunting her ring \n",
            "Original summary: zaheer clean bowled by hockey tweets sehwag \n",
            "Predicted summary:  zaheer sagarika zaheer sagarika attend zaheer zaheer\n",
            "\n",
            "\n",
            "Review: over 8 lakh people have died of cancer so far in 2018 mos for health anupriya patel said on friday an estimated 15 86 571 cases of cancer have been reported so far this year she added according to a report issued by indian council of medical research in 2016 the estimated number of cancer cases in india was increasing patel stated \n",
            "Original summary: over 8 lakh people died of cancer in 2018 health ministry \n",
            "Predicted summary:  over 8 000 cancer cancer reported in india in 2017\n",
            "\n",
            "\n",
            "Review: a us based auction house has put on sale a letter by albert einstein defending his friend friedrich adler who assassinated the austrian minister president during world war i adler proved himself a goodhearted conscientious man and it is my heartfelt desire to intercede for him the physicist wrote to michele besso the only other person credited in einstein's paper on relativity \n",
            "Original summary: einstein's note defending murder accused friend up for sale \n",
            "Predicted summary:  einstein's einstein's letter letter to be sent for money\n",
            "\n",
            "\n",
            "Review: billionaire brothers malvinder and shivinder singh have resigned from religare enterprises' board less than a week after they stepped down from fortis healthcare board with this they will not be on the board of any listed company after they quit fortis reports emerged claiming the brothers took at least â¹500 crore from the company without board approval \n",
            "Original summary: billionaire singh brothers quit religare board after fortis \n",
            "Predicted summary:  fortis brothers brothers quit fortis board board\n",
            "\n",
            "\n",
            "Review: american singer songwriter ariana grande released a music video 'thank u next' on friday which delayed the posting of youtube comments the video was so good it broke the internet youtube tweeted adding comments are still working on the video they are just delayed the video reportedly received 1 million views in 35 minutes making it the fastest to reach the mark \n",
            "Original summary: ariana's new music video 'breaks internet' slows youtube comments \n",
            "Predicted summary:  ariana's new video 'breaks internet' slows slows comments on youtube\n",
            "\n",
            "\n",
            "Review: the iraqi judiciary has been violating the rights of isis suspects with flawed trials and arbitrary detentions under harsh conditions human rights watch alleged on tuesday iraq's handling of isis trials is a missed opportunity to show the world that it is a nation ruled by laws and justice it added recently isis lost the last iraqi town under its control \n",
            "Original summary: iraq's judiciary violating rights of isis suspects watchdog \n",
            "Predicted summary:  iraq tightens control of islamic state\n",
            "\n",
            "\n"
          ],
          "name": "stdout"
        }
      ]
    },
    {
      "cell_type": "code",
      "metadata": {
        "id": "-XJIMu6B_ncJ"
      },
      "source": [
        "encoder_model.save(\"encoder-bilstm.h5\")\r\n",
        "decoder_model.save(\"decoder-bilstm.h5\")"
      ],
      "execution_count": 29,
      "outputs": []
    },
    {
      "cell_type": "code",
      "metadata": {
        "colab": {
          "base_uri": "https://localhost:8080/",
          "height": 17
        },
        "id": "_MEvidQLCWdO",
        "outputId": "6678d897-b33b-4e0a-d9f1-7aaa2aa71fd4"
      },
      "source": [
        "files.download(\"encoder-bilstm.h5\")\r\n",
        "files.download(\"decoder-bilstm.h5\")"
      ],
      "execution_count": 30,
      "outputs": [
        {
          "output_type": "display_data",
          "data": {
            "application/javascript": [
              "\n",
              "    async function download(id, filename, size) {\n",
              "      if (!google.colab.kernel.accessAllowed) {\n",
              "        return;\n",
              "      }\n",
              "      const div = document.createElement('div');\n",
              "      const label = document.createElement('label');\n",
              "      label.textContent = `Downloading \"${filename}\": `;\n",
              "      div.appendChild(label);\n",
              "      const progress = document.createElement('progress');\n",
              "      progress.max = size;\n",
              "      div.appendChild(progress);\n",
              "      document.body.appendChild(div);\n",
              "\n",
              "      const buffers = [];\n",
              "      let downloaded = 0;\n",
              "\n",
              "      const channel = await google.colab.kernel.comms.open(id);\n",
              "      // Send a message to notify the kernel that we're ready.\n",
              "      channel.send({})\n",
              "\n",
              "      for await (const message of channel.messages) {\n",
              "        // Send a message to notify the kernel that we're ready.\n",
              "        channel.send({})\n",
              "        if (message.buffers) {\n",
              "          for (const buffer of message.buffers) {\n",
              "            buffers.push(buffer);\n",
              "            downloaded += buffer.byteLength;\n",
              "            progress.value = downloaded;\n",
              "          }\n",
              "        }\n",
              "      }\n",
              "      const blob = new Blob(buffers, {type: 'application/binary'});\n",
              "      const a = document.createElement('a');\n",
              "      a.href = window.URL.createObjectURL(blob);\n",
              "      a.download = filename;\n",
              "      div.appendChild(a);\n",
              "      a.click();\n",
              "      div.remove();\n",
              "    }\n",
              "  "
            ],
            "text/plain": [
              "<IPython.core.display.Javascript object>"
            ]
          },
          "metadata": {
            "tags": []
          }
        },
        {
          "output_type": "display_data",
          "data": {
            "application/javascript": [
              "download(\"download_36be8fff-1ed4-49fc-98ca-5b82d020075a\", \"encoder-bilstm.h5\", 50466936)"
            ],
            "text/plain": [
              "<IPython.core.display.Javascript object>"
            ]
          },
          "metadata": {
            "tags": []
          }
        },
        {
          "output_type": "display_data",
          "data": {
            "application/javascript": [
              "\n",
              "    async function download(id, filename, size) {\n",
              "      if (!google.colab.kernel.accessAllowed) {\n",
              "        return;\n",
              "      }\n",
              "      const div = document.createElement('div');\n",
              "      const label = document.createElement('label');\n",
              "      label.textContent = `Downloading \"${filename}\": `;\n",
              "      div.appendChild(label);\n",
              "      const progress = document.createElement('progress');\n",
              "      progress.max = size;\n",
              "      div.appendChild(progress);\n",
              "      document.body.appendChild(div);\n",
              "\n",
              "      const buffers = [];\n",
              "      let downloaded = 0;\n",
              "\n",
              "      const channel = await google.colab.kernel.comms.open(id);\n",
              "      // Send a message to notify the kernel that we're ready.\n",
              "      channel.send({})\n",
              "\n",
              "      for await (const message of channel.messages) {\n",
              "        // Send a message to notify the kernel that we're ready.\n",
              "        channel.send({})\n",
              "        if (message.buffers) {\n",
              "          for (const buffer of message.buffers) {\n",
              "            buffers.push(buffer);\n",
              "            downloaded += buffer.byteLength;\n",
              "            progress.value = downloaded;\n",
              "          }\n",
              "        }\n",
              "      }\n",
              "      const blob = new Blob(buffers, {type: 'application/binary'});\n",
              "      const a = document.createElement('a');\n",
              "      a.href = window.URL.createObjectURL(blob);\n",
              "      a.download = filename;\n",
              "      div.appendChild(a);\n",
              "      a.click();\n",
              "      div.remove();\n",
              "    }\n",
              "  "
            ],
            "text/plain": [
              "<IPython.core.display.Javascript object>"
            ]
          },
          "metadata": {
            "tags": []
          }
        },
        {
          "output_type": "display_data",
          "data": {
            "application/javascript": [
              "download(\"download_a2bea099-c4ed-4b7c-98a3-bf698f71e581\", \"decoder-bilstm.h5\", 411872596)"
            ],
            "text/plain": [
              "<IPython.core.display.Javascript object>"
            ]
          },
          "metadata": {
            "tags": []
          }
        }
      ]
    },
    {
      "cell_type": "code",
      "metadata": {
        "id": "1RsALCDVCgGr"
      },
      "source": [
        ""
      ],
      "execution_count": 30,
      "outputs": []
    }
  ]
}